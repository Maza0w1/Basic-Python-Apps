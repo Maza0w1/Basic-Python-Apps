{
  "nbformat": 4,
  "nbformat_minor": 0,
  "metadata": {
    "colab": {
      "name": "Area of a Triangle.py",
      "provenance": [],
      "collapsed_sections": [],
      "authorship_tag": "ABX9TyNx7JIM1fw8x/JGNN3ZbfER",
      "include_colab_link": true
    },
    "kernelspec": {
      "name": "python3",
      "display_name": "Python 3"
    }
  },
  "cells": [
    {
      "cell_type": "markdown",
      "metadata": {
        "id": "view-in-github",
        "colab_type": "text"
      },
      "source": [
        "<a href=\"https://colab.research.google.com/github/Yonnihayes/hello-world/blob/master/Area_of_a_Triangle_py.ipynb\" target=\"_parent\"><img src=\"https://colab.research.google.com/assets/colab-badge.svg\" alt=\"Open In Colab\"/></a>"
      ]
    },
    {
      "cell_type": "code",
      "metadata": {
        "id": "bgGiNKE8zIwh",
        "colab_type": "code",
        "colab": {}
      },
      "source": [
        "# This program calculates the area of a triangle. "
      ],
      "execution_count": 0,
      "outputs": []
    },
    {
      "cell_type": "code",
      "metadata": {
        "id": "z5o7nvbu2rWj",
        "colab_type": "code",
        "colab": {
          "base_uri": "https://localhost:8080/",
          "height": 34
        },
        "outputId": "54ee3839-9a7f-428d-ef5f-b0f3288eaf38"
      },
      "source": [
        "def tri_area(base, height):\n",
        " return base * height / 2\n",
        "tri_area(20,10)"
      ],
      "execution_count": 7,
      "outputs": [
        {
          "output_type": "execute_result",
          "data": {
            "text/plain": [
              "100.0"
            ]
          },
          "metadata": {
            "tags": []
          },
          "execution_count": 7
        }
      ]
    }
  ]
}