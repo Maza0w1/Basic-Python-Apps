{
  "nbformat": 4,
  "nbformat_minor": 0,
  "metadata": {
    "colab": {
      "name": "Automorphic Numbers.p",
      "provenance": [],
      "collapsed_sections": [],
      "authorship_tag": "ABX9TyPMIqomiYqFsSf0hSja+iFh",
      "include_colab_link": true
    },
    "kernelspec": {
      "name": "python3",
      "display_name": "Python 3"
    }
  },
  "cells": [
    {
      "cell_type": "markdown",
      "metadata": {
        "id": "view-in-github",
        "colab_type": "text"
      },
      "source": [
        "<a href=\"https://colab.research.google.com/github/Yonnihayes/hello-world/blob/master/Automorphic_Numbers_p.ipynb\" target=\"_parent\"><img src=\"https://colab.research.google.com/assets/colab-badge.svg\" alt=\"Open In Colab\"/></a>"
      ]
    },
    {
      "cell_type": "code",
      "metadata": {
        "id": "0F1-mY2QyZ-M",
        "colab_type": "code",
        "colab": {}
      },
      "source": [
        "# This program identifies whether a number is automorphic or not.  \n",
        "\n",
        "# An automorphic number is a natural number in a given number base whose square \"ends\" in the same digits as the number itself."
      ],
      "execution_count": 0,
      "outputs": []
    },
    {
      "cell_type": "code",
      "metadata": {
        "id": "Mwd9l39HxWgc",
        "colab_type": "code",
        "colab": {
          "base_uri": "https://localhost:8080/",
          "height": 34
        },
        "outputId": "d9ead3f3-35d1-42e3-bb1e-e092ee1e31fe"
      },
      "source": [
        "def is_automorphic(n):\n",
        "\treturn str(n*n).endswith(str(n))\n",
        "\n",
        "is_automorphic(25)"
      ],
      "execution_count": 3,
      "outputs": [
        {
          "output_type": "execute_result",
          "data": {
            "text/plain": [
              "True"
            ]
          },
          "metadata": {
            "tags": []
          },
          "execution_count": 3
        }
      ]
    }
  ]
}