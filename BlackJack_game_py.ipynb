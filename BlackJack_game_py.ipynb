{
  "nbformat": 4,
  "nbformat_minor": 0,
  "metadata": {
    "colab": {
      "name": "BlackJack game.py",
      "provenance": [],
      "collapsed_sections": [],
      "authorship_tag": "ABX9TyPcsRJbFp0u360TusxdNMS5",
      "include_colab_link": true
    },
    "kernelspec": {
      "name": "python3",
      "display_name": "Python 3"
    }
  },
  "cells": [
    {
      "cell_type": "markdown",
      "metadata": {
        "id": "view-in-github",
        "colab_type": "text"
      },
      "source": [
        "<a href=\"https://colab.research.google.com/github/Yonnihayes/hello-world/blob/master/BlackJack_game_py.ipynb\" target=\"_parent\"><img src=\"https://colab.research.google.com/assets/colab-badge.svg\" alt=\"Open In Colab\"/></a>"
      ]
    },
    {
      "cell_type": "code",
      "metadata": {
        "id": "DbB7JsbDbml8",
        "colab_type": "code",
        "colab": {}
      },
      "source": [
        "# This game a comparing card game between one or more players and a dealer, where each player in turn competes against the dealer."
      ],
      "execution_count": 0,
      "outputs": []
    },
    {
      "cell_type": "code",
      "metadata": {
        "id": "RIVGMkhvboG3",
        "colab_type": "code",
        "colab": {
          "base_uri": "https://localhost:8080/",
          "height": 232
        },
        "outputId": "498ed173-4b48-4a24-dfc5-901658e7c455"
      },
      "source": [
        "import random\n",
        "\n",
        "suits = ('Hearts', 'Diamond', 'Spades', 'Clubs')\n",
        "ranks = ('Two', 'Three', 'Four', 'Five', 'Six', 'Seven', 'Eight', 'Nine', 'Ten', 'Jack', 'Queen', 'King', 'Ace')\n",
        "value = {'Two': 2, 'Three': 3, 'Four': 4, 'Five': 5, 'Six': 6, 'Seven': 7, 'Eight': 8, 'Nine': 9, 'Ten': 10, 'Jack': 10, 'Queen': 10, 'King': 10, 'Ace': 11}\n",
        "\n",
        "playing = True\n",
        "\n",
        "class Card:\n",
        "  def __init__(self,suit, rank):\n",
        "    self.suit = suits\n",
        "    self.rank = ranks\n",
        "  \n",
        "  def __str__(self):\n",
        "    return self.rank + \"of\" + self.suit\n",
        "\n",
        "class Deck:\n",
        "\n",
        "  def __init__(self):\n",
        "    self.deck = []\n",
        "    for suit in suits:\n",
        "      for rank in ranks:\n",
        "        self.deck.append(Card(suit,rank))\n",
        "  \n",
        "  def __init__(self):\n",
        "    deck_comp = ''\n",
        "    for card in self.deck:\n",
        "      deck_comp += '\\n'+ card.__str__()\n",
        "    return \"The deck has: \" + deck_comp\n",
        "\n",
        "  def shuffle(self):\n",
        "    random.shuffle(self.deck)\n",
        "  \n",
        "  def deal(self):\n",
        "    single_card = self.deck.pop()\n",
        "    return single_card\n",
        "'''\n",
        "test_deck = Deck\n",
        "test_deck.shuffle\n",
        "print(test_deck)\n",
        "'''\n",
        "class Hand:\n",
        "  def __init__(self):\n",
        "    self.cards = []\n",
        "    self.value = 0\n",
        "    self.aces = 0\n",
        "   \n",
        "  def add_card(self,card):\n",
        "    self.cards.append(card)\n",
        "    self.value += values[card.rank]\n",
        "\n",
        "'''\n",
        "test_deck = Deck\n",
        "test_deck.shuffle\n",
        "\n",
        "#Player\n",
        "test_player = Hand\n",
        "\n",
        "pulled_card = test_deck.deal\n",
        "print(pulled_card)\n",
        "\n",
        "test_player.add_card(pulled_card)\n",
        "print(test_player.value)\n",
        "'''\n",
        "if card.rank == 'Ace':\n",
        "  self.aces += 1\n",
        "\n",
        "  def adjust_for_ace(self):\n",
        "    while self.value > 21 and self.aces:\n",
        "      self.value -= 10\n",
        "      self.aces -= 1\n",
        "\n",
        "class Chips:\n",
        "\n",
        "  def __init__(self, total=100):\n",
        "    self.total = Total\n",
        "    self.bet = 0\n",
        "  \n",
        "  def win_bet(self):\n",
        "    self.total += self.bet\n",
        "  \n",
        "  def lose_bet(self):\n",
        "    self.total -= self.bet\n",
        "\n",
        "  def take_bet(chips):\n",
        "    while True:\n",
        "      try:\n",
        "        chips.bet = int(input(\"How many chips would you like to bet?\"))\n",
        "      except:\n",
        "        print(\"Sorry please provide an integer\")\n",
        "      else:\n",
        "        if chips.bet > chips.total:\n",
        "          print('Sorry you do not have enough chips! You have: {}'.format(chips.total))\n",
        "        else:\n",
        "          break\n",
        "\n",
        "def hit(deck,hand):\n",
        "  single_card = deck.deal()\n",
        "  hand.add_card(single_card)\n",
        "  hand.adjust_for_ace()\n",
        "  \n",
        "def hit_or_stand(deck,hand):\n",
        "  global playing\n",
        "\n",
        "  while True:\n",
        "    x = input('Hit or Stand? Enter in \"h\" or \"s\": ')\n",
        "\n",
        "    if x[0].lower() == 'h':\n",
        "      hit(deck, hand)\n",
        "      \n",
        "    elif x[0].lower() == 's':\n",
        "      print('Player stands Dealer\\'s Turn')\n",
        "      playing = False\n",
        "    \n",
        "    else:\n",
        "      print('Sorry, I didn\\t understand that, Please enter h or s only!')\n",
        "      continue\n",
        "    \n",
        "    def player_busts(player, dealer,chips):\n",
        "      print('BUST PLAYER!')\n",
        "      chips.lose_bet\n",
        "\n",
        "    def player_wins(player, dealer,chips):\n",
        "      print('PLAYER WINS!')\n",
        "      chips.win_bet\n",
        "\n",
        "    def dealer_busts(player, dealer,chips):\n",
        "      print('PLAYER WINS! DEALER BUSTED!')\n",
        "      chips.win_bet\n",
        "\n",
        "    def dealer_wins(player, dealer,chips):\n",
        "      print('PLAYER LOSES! DEALER WINS!')\n",
        "      chips.lose_bet\n",
        "\n",
        "    def push(player, dealer):\n",
        "      print('Dealerand player tie! PUSH')"
      ],
      "execution_count": 1,
      "outputs": [
        {
          "output_type": "error",
          "ename": "NameError",
          "evalue": "ignored",
          "traceback": [
            "\u001b[0;31m---------------------------------------------------------------------------\u001b[0m",
            "\u001b[0;31mNameError\u001b[0m                                 Traceback (most recent call last)",
            "\u001b[0;32m<ipython-input-1-0ab2f6b9fd96>\u001b[0m in \u001b[0;36m<module>\u001b[0;34m()\u001b[0m\n\u001b[1;32m     63\u001b[0m \u001b[0mprint\u001b[0m\u001b[0;34m(\u001b[0m\u001b[0mtest_player\u001b[0m\u001b[0;34m.\u001b[0m\u001b[0mvalue\u001b[0m\u001b[0;34m)\u001b[0m\u001b[0;34m\u001b[0m\u001b[0;34m\u001b[0m\u001b[0m\n\u001b[1;32m     64\u001b[0m '''\n\u001b[0;32m---> 65\u001b[0;31m \u001b[0;32mif\u001b[0m \u001b[0mcard\u001b[0m\u001b[0;34m.\u001b[0m\u001b[0mrank\u001b[0m \u001b[0;34m==\u001b[0m \u001b[0;34m'Ace'\u001b[0m\u001b[0;34m:\u001b[0m\u001b[0;34m\u001b[0m\u001b[0;34m\u001b[0m\u001b[0m\n\u001b[0m\u001b[1;32m     66\u001b[0m   \u001b[0mself\u001b[0m\u001b[0;34m.\u001b[0m\u001b[0maces\u001b[0m \u001b[0;34m+=\u001b[0m \u001b[0;36m1\u001b[0m\u001b[0;34m\u001b[0m\u001b[0;34m\u001b[0m\u001b[0m\n\u001b[1;32m     67\u001b[0m \u001b[0;34m\u001b[0m\u001b[0m\n",
            "\u001b[0;31mNameError\u001b[0m: name 'card' is not defined"
          ]
        }
      ]
    },
    {
      "cell_type": "code",
      "metadata": {
        "id": "I0hlyMXf31wq",
        "colab_type": "code",
        "colab": {
          "base_uri": "https://localhost:8080/",
          "height": 249
        },
        "outputId": "a47ce5aa-97a4-4282-cf9b-b3ff8d05477e"
      },
      "source": [
        "while True:\n",
        "  print('WELCOME TO BLACKJACK!')\n",
        "\n",
        "  deck = Deck\n",
        "  deck.shuffle\n",
        "\n",
        "  player_hand = Hand\n",
        "  player_hand.add_card(deck.deal())\n",
        "  player_hand.add_card(deck.deal())\n",
        "\n",
        "  dealer_hand = Hand\n",
        "  dealer_hand.add_card(deck.deal())\n",
        "  dealer_hand.add_card(deck.deal())\n",
        "\n",
        "  player_chips = Chips()\n",
        "\n",
        "  take_bet(player_chips)\n",
        "\n",
        "  show_some(player_hand, dealer_hand)\n",
        "\n",
        "while playing:\n",
        "\n",
        "  hit_or_stand(deck,player_hand)\n",
        "\n",
        "  show_some(player_hand,dealer_hand)\n",
        "\n",
        "  if player_hand.value > 21:\n",
        "    player_busts(player_hand, dealer_hand)\n",
        "    break \n",
        "\n",
        "if player_hand <= 21:\n",
        "\n",
        "  while dealer_hand < 17:\n",
        "    hit(deck, dealer_hand)\n",
        "\n",
        "    showall(player_hand, dealer_hand)\n",
        "\n",
        "    if dealer_hand.value > 21:\n",
        "      dealer_busts(player_hand, dealer_hand,player_chips)\n",
        "    elif dealer_hand.value > player_hand.value:\n",
        "      dealer_wins(player_hand, dealer_hand,player_chips)\n",
        "    elif dealer_hand.value < player_hand.value:\n",
        "      player_wins(player_hand, dealer_hand,player_chips)\n",
        "    else:\n",
        "      push(player_hand,dealer_hand)\n",
        "\n",
        "print('\\n Player total chips are at: {}'.format(player_chips.total))\n",
        "\n",
        "new_game = input('Would you like to play again?: [y/n] ')\n",
        "\n",
        "if new_game[0].lower() == 'y':\n",
        "  playing = True\n",
        "  continue\n",
        "else:\n",
        "  print('Thank you for playing')\n",
        "  break\n",
        "  \n",
        "\n"
      ],
      "execution_count": 2,
      "outputs": [
        {
          "output_type": "stream",
          "text": [
            "WELCOME TO BLACKJACK!\n"
          ],
          "name": "stdout"
        },
        {
          "output_type": "error",
          "ename": "TypeError",
          "evalue": "ignored",
          "traceback": [
            "\u001b[0;31m---------------------------------------------------------------------------\u001b[0m",
            "\u001b[0;31mTypeError\u001b[0m                                 Traceback (most recent call last)",
            "\u001b[0;32m<ipython-input-2-01fdc4334bda>\u001b[0m in \u001b[0;36m<module>\u001b[0;34m()\u001b[0m\n\u001b[1;32m      6\u001b[0m \u001b[0;34m\u001b[0m\u001b[0m\n\u001b[1;32m      7\u001b[0m   \u001b[0mplayer_hand\u001b[0m \u001b[0;34m=\u001b[0m \u001b[0mHand\u001b[0m\u001b[0;34m\u001b[0m\u001b[0;34m\u001b[0m\u001b[0m\n\u001b[0;32m----> 8\u001b[0;31m   \u001b[0mplayer_hand\u001b[0m\u001b[0;34m.\u001b[0m\u001b[0madd_card\u001b[0m\u001b[0;34m(\u001b[0m\u001b[0mdeck\u001b[0m\u001b[0;34m.\u001b[0m\u001b[0mdeal\u001b[0m\u001b[0;34m(\u001b[0m\u001b[0;34m)\u001b[0m\u001b[0;34m)\u001b[0m\u001b[0;34m\u001b[0m\u001b[0;34m\u001b[0m\u001b[0m\n\u001b[0m\u001b[1;32m      9\u001b[0m   \u001b[0mplayer_hand\u001b[0m\u001b[0;34m.\u001b[0m\u001b[0madd_card\u001b[0m\u001b[0;34m(\u001b[0m\u001b[0mdeck\u001b[0m\u001b[0;34m.\u001b[0m\u001b[0mdeal\u001b[0m\u001b[0;34m(\u001b[0m\u001b[0;34m)\u001b[0m\u001b[0;34m)\u001b[0m\u001b[0;34m\u001b[0m\u001b[0;34m\u001b[0m\u001b[0m\n\u001b[1;32m     10\u001b[0m \u001b[0;34m\u001b[0m\u001b[0m\n",
            "\u001b[0;31mTypeError\u001b[0m: deal() missing 1 required positional argument: 'self'"
          ]
        }
      ]
    },
    {
      "cell_type": "markdown",
      "metadata": {
        "id": "ZE2ssY5daeII",
        "colab_type": "text"
      },
      "source": [
        ""
      ]
    }
  ]
}