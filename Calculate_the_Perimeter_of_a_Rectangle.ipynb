{
  "nbformat": 4,
  "nbformat_minor": 0,
  "metadata": {
    "colab": {
      "name": "Calculate the Perimeter of a Rectangle ",
      "provenance": [],
      "collapsed_sections": [],
      "authorship_tag": "ABX9TyNNf3TCLmBaZI8En1bCHZK9",
      "include_colab_link": true
    },
    "kernelspec": {
      "name": "python3",
      "display_name": "Python 3"
    }
  },
  "cells": [
    {
      "cell_type": "markdown",
      "metadata": {
        "id": "view-in-github",
        "colab_type": "text"
      },
      "source": [
        "<a href=\"https://colab.research.google.com/github/Yonnihayes/hello-world/blob/master/Calculate_the_Perimeter_of_a_Rectangle.ipynb\" target=\"_parent\"><img src=\"https://colab.research.google.com/assets/colab-badge.svg\" alt=\"Open In Colab\"/></a>"
      ]
    },
    {
      "cell_type": "code",
      "metadata": {
        "id": "C5ql9ZZ7uHXX",
        "colab_type": "code",
        "colab": {}
      },
      "source": [
        "# This program calculates the perimeter of a rectangle.\n",
        "# Formula: p = 2 * (height + width)"
      ],
      "execution_count": 0,
      "outputs": []
    },
    {
      "cell_type": "code",
      "metadata": {
        "id": "ogMIDnmx590F",
        "colab_type": "code",
        "colab": {
          "base_uri": "https://localhost:8080/",
          "height": 34
        },
        "outputId": "66e4d707-eb9d-48bd-ba0d-158cd8c927db"
      },
      "source": [
        "def find_perimeter(height, width):\n",
        "   return 2 * (height + width) \n",
        "find_perimeter(2,2)"
      ],
      "execution_count": 1,
      "outputs": [
        {
          "output_type": "execute_result",
          "data": {
            "text/plain": [
              "8"
            ]
          },
          "metadata": {
            "tags": []
          },
          "execution_count": 1
        }
      ]
    }
  ]
}