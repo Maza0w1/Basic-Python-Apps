{
  "nbformat": 4,
  "nbformat_minor": 0,
  "metadata": {
    "colab": {
      "name": "Calculate the Volume of a Cone",
      "provenance": [],
      "collapsed_sections": [],
      "authorship_tag": "ABX9TyOipA/Fv80fDRNDBLpc9JAE",
      "include_colab_link": true
    },
    "kernelspec": {
      "name": "python3",
      "display_name": "Python 3"
    }
  },
  "cells": [
    {
      "cell_type": "markdown",
      "metadata": {
        "id": "view-in-github",
        "colab_type": "text"
      },
      "source": [
        "<a href=\"https://colab.research.google.com/github/Yonnihayes/hello-world/blob/master/Calculate_the_Volume_of_a_Cone.ipynb\" target=\"_parent\"><img src=\"https://colab.research.google.com/assets/colab-badge.svg\" alt=\"Open In Colab\"/></a>"
      ]
    },
    {
      "cell_type": "code",
      "metadata": {
        "id": "aPXOu2ZuoReI",
        "colab_type": "code",
        "colab": {}
      },
      "source": [
        "# This program calculates the volume of a code\n",
        "# Formula: V=πr2h"
      ],
      "execution_count": 0,
      "outputs": []
    },
    {
      "cell_type": "code",
      "metadata": {
        "id": "Sh7n3CgNGu4Q",
        "colab_type": "code",
        "colab": {
          "base_uri": "https://localhost:8080/",
          "height": 34
        },
        "outputId": "cd6e9195-3cbc-46da-828c-4b4da9225a90"
      },
      "source": [
        "import math \n",
        "def cone_volume(h, r):\n",
        "\treturn round((1 / 3) * math.pi * (r ** 2) * h, 2)\n",
        "cone_volume(3, 5)"
      ],
      "execution_count": 2,
      "outputs": [
        {
          "output_type": "execute_result",
          "data": {
            "text/plain": [
              "78.54"
            ]
          },
          "metadata": {
            "tags": []
          },
          "execution_count": 2
        }
      ]
    }
  ]
}