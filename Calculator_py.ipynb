{
  "nbformat": 4,
  "nbformat_minor": 0,
  "metadata": {
    "colab": {
      "name": "Calculator.py",
      "provenance": [],
      "collapsed_sections": [],
      "authorship_tag": "ABX9TyMzYbN9CxJ46P6/1ZjTf8P8",
      "include_colab_link": true
    },
    "kernelspec": {
      "name": "python3",
      "display_name": "Python 3"
    }
  },
  "cells": [
    {
      "cell_type": "markdown",
      "metadata": {
        "id": "view-in-github",
        "colab_type": "text"
      },
      "source": [
        "<a href=\"https://colab.research.google.com/github/Yonnihayes/hello-world/blob/master/Calculator_py.ipynb\" target=\"_parent\"><img src=\"https://colab.research.google.com/assets/colab-badge.svg\" alt=\"Open In Colab\"/></a>"
      ]
    },
    {
      "cell_type": "code",
      "metadata": {
        "id": "_YPYudNJtUor",
        "colab_type": "code",
        "colab": {}
      },
      "source": [
        "# This program calculates arithmetic equations."
      ],
      "execution_count": 0,
      "outputs": []
    },
    {
      "cell_type": "code",
      "metadata": {
        "id": "Wx-pdMyxtY1d",
        "colab_type": "code",
        "colab": {
          "base_uri": "https://localhost:8080/",
          "height": 204
        },
        "outputId": "bca2f7d1-2d82-42ba-fc34-15f307331f66"
      },
      "source": [
        "operation = input('''\n",
        "Please type in math operation you would like to complete:\n",
        "+ for addition\n",
        "- for subtraction\n",
        "* for multiplication\n",
        "/ for division\n",
        "''')\n",
        "number_1 = int(input('Enter your first number: '))\n",
        "number_2 = int(input('Enter your second number: '))\n",
        "\n",
        "# Addition\n",
        "if operation == '+':\n",
        "  print('{} + {} = '.format(number_1, number_2))\n",
        "  print(number_1 + number_2)\n",
        "\n",
        "# Subtraction\n",
        "elif operation == '-':\n",
        "  print('{} - {} = '.format(number_1, number_2))\n",
        "  print(number_1 - number_2)\n",
        "\n",
        "# Multiplication \n",
        "elif operation == '*':\n",
        "  print('{} * {} = '.format(number_1, number_2))\n",
        "  print(number_1 * number_2)\n",
        "\n",
        "# Division \n",
        "elif operation == '/':\n",
        "  print('{} / {} = '.format(number_1, number_2))\n",
        "  print(number_1, number_2)\n",
        "\n",
        "else: \n",
        "  print('You have not typed a valid operator, please run the program again')\n"
      ],
      "execution_count": 4,
      "outputs": [
        {
          "output_type": "stream",
          "text": [
            "\n",
            "Please type in math operation you would like to complete:\n",
            "+ for addition\n",
            "- for subtraction\n",
            "* for multiplication\n",
            "/ for division\n",
            "+\n",
            "Enter your first number: 12\n",
            "Enter your second number: 12\n",
            "12 + 12 = \n",
            "24\n"
          ],
          "name": "stdout"
        }
      ]
    }
  ]
}