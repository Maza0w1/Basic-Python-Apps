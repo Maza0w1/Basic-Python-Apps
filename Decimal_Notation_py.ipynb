{
  "nbformat": 4,
  "nbformat_minor": 0,
  "metadata": {
    "colab": {
      "name": "Decimal Notation.py",
      "provenance": [],
      "collapsed_sections": [],
      "authorship_tag": "ABX9TyMvRMJygb59Q6m5phFV1Zok",
      "include_colab_link": true
    },
    "kernelspec": {
      "name": "python3",
      "display_name": "Python 3"
    }
  },
  "cells": [
    {
      "cell_type": "markdown",
      "metadata": {
        "id": "view-in-github",
        "colab_type": "text"
      },
      "source": [
        "<a href=\"https://colab.research.google.com/github/Yonnihayes/hello-world/blob/master/Decimal_Notation_py.ipynb\" target=\"_parent\"><img src=\"https://colab.research.google.com/assets/colab-badge.svg\" alt=\"Open In Colab\"/></a>"
      ]
    },
    {
      "cell_type": "code",
      "metadata": {
        "id": "9QIz4EY1u8rU",
        "colab_type": "code",
        "colab": {}
      },
      "source": [
        "# This code converts a percentage to its decimal equivalent."
      ],
      "execution_count": 0,
      "outputs": []
    },
    {
      "cell_type": "code",
      "metadata": {
        "id": "XD624c7no0yj",
        "colab_type": "code",
        "colab": {
          "base_uri": "https://localhost:8080/",
          "height": 34
        },
        "outputId": "1d69a404-a9ab-4797-d3e7-b637678cab85"
      },
      "source": [
        "def convert_to_decimal(perc):\n",
        "   return float(perc.strip('%')) / 100.0\n",
        "\n",
        "# Enter percentage in the parentheses between the single quotes:\n",
        "convert_to_decimal('100%')"
      ],
      "execution_count": 4,
      "outputs": [
        {
          "output_type": "execute_result",
          "data": {
            "text/plain": [
              "1.0"
            ]
          },
          "metadata": {
            "tags": []
          },
          "execution_count": 4
        }
      ]
    }
  ]
}