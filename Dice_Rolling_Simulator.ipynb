{
  "nbformat": 4,
  "nbformat_minor": 0,
  "metadata": {
    "colab": {
      "name": "Dice Rolling Simulator",
      "provenance": [],
      "collapsed_sections": [],
      "authorship_tag": "ABX9TyPhNytnBtm3HH0q0We5xk2Y",
      "include_colab_link": true
    },
    "kernelspec": {
      "name": "python3",
      "display_name": "Python 3"
    }
  },
  "cells": [
    {
      "cell_type": "markdown",
      "metadata": {
        "id": "view-in-github",
        "colab_type": "text"
      },
      "source": [
        "<a href=\"https://colab.research.google.com/github/Yonnihayes/hello-world/blob/master/Dice_Rolling_Simulator.ipynb\" target=\"_parent\"><img src=\"https://colab.research.google.com/assets/colab-badge.svg\" alt=\"Open In Colab\"/></a>"
      ]
    },
    {
      "cell_type": "code",
      "metadata": {
        "id": "cET8HbW_qFqj",
        "colab_type": "code",
        "colab": {}
      },
      "source": [
        "# This program simulates dice rolling."
      ],
      "execution_count": 0,
      "outputs": []
    },
    {
      "cell_type": "code",
      "metadata": {
        "id": "Q24NyvRlqGuJ",
        "colab_type": "code",
        "colab": {
          "base_uri": "https://localhost:8080/",
          "height": 272
        },
        "outputId": "6184bf4f-4306-447d-dd11-5fff83c38324"
      },
      "source": [
        "import random \n",
        "min = 1\n",
        "max = 6\n",
        "\n",
        "roll_again = 'yes'\n",
        "\n",
        "while roll_again == 'yes' or roll_again == 'y':\n",
        "  print('Rolling the dice. . .')\n",
        "  print('The values are . . .')\n",
        "  print(random.randint(min, max))\n",
        "  print(random.randint(min, max))\n",
        "\n",
        "  roll_again = input('Do you want to roll the dice again? ')"
      ],
      "execution_count": 4,
      "outputs": [
        {
          "output_type": "stream",
          "text": [
            "Rolling the dice. . .\n",
            "The values are . . .\n",
            "5\n",
            "6\n",
            "Do you want to roll the dice again? yes\n",
            "Rolling the dice. . .\n",
            "The values are . . .\n",
            "5\n",
            "3\n",
            "Do you want to roll the dice again? yes\n",
            "Rolling the dice. . .\n",
            "The values are . . .\n",
            "4\n",
            "1\n",
            "Do you want to roll the dice again? no\n"
          ],
          "name": "stdout"
        }
      ]
    }
  ]
}