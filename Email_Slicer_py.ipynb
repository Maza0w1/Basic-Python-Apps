{
  "nbformat": 4,
  "nbformat_minor": 0,
  "metadata": {
    "colab": {
      "name": "Email Slicer.py",
      "provenance": [],
      "collapsed_sections": [],
      "authorship_tag": "ABX9TyP20WRQ6JRxnfqJAdFCw7Tf",
      "include_colab_link": true
    },
    "kernelspec": {
      "name": "python3",
      "display_name": "Python 3"
    }
  },
  "cells": [
    {
      "cell_type": "markdown",
      "metadata": {
        "id": "view-in-github",
        "colab_type": "text"
      },
      "source": [
        "<a href=\"https://colab.research.google.com/github/Yonnihayes/hello-world/blob/master/Email_Slicer_py.ipynb\" target=\"_parent\"><img src=\"https://colab.research.google.com/assets/colab-badge.svg\" alt=\"Open In Colab\"/></a>"
      ]
    },
    {
      "cell_type": "code",
      "metadata": {
        "id": "Q5lfnvnfI8vl",
        "colab_type": "code",
        "colab": {}
      },
      "source": [
        "# This program seperates the username from the domain in an email address. "
      ],
      "execution_count": 0,
      "outputs": []
    },
    {
      "cell_type": "code",
      "metadata": {
        "id": "zYvggjxaJxku",
        "colab_type": "code",
        "colab": {
          "base_uri": "https://localhost:8080/",
          "height": 51
        },
        "outputId": "4c40146c-6108-41e2-dc77-7f7c36aaa01d"
      },
      "source": [
        "email = input('Enter Email Address: ').strip()\n",
        "user = email[:email.index('@')]\n",
        "domain = email[email.index('@') + 1:]\n",
        "output = 'The email is {}. The username is {} and the domain is {}'.format(email, user, domain)\n",
        "print(output)"
      ],
      "execution_count": 3,
      "outputs": [
        {
          "output_type": "stream",
          "text": [
            "Enter Email Address: iyonnahayes02@gmail.com\n",
            "The email is iyonnahayes02@gmail.com. The username is iyonnahayes02 and the domain is gmail.com\n"
          ],
          "name": "stdout"
        }
      ]
    }
  ]
}