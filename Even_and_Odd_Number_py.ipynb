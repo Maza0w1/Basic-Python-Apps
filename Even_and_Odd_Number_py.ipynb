{
  "nbformat": 4,
  "nbformat_minor": 0,
  "metadata": {
    "colab": {
      "name": "Even and Odd Number.py",
      "provenance": [],
      "collapsed_sections": [],
      "authorship_tag": "ABX9TyMsGgBn9M+zJ6WLa9CFCZiQ",
      "include_colab_link": true
    },
    "kernelspec": {
      "name": "python3",
      "display_name": "Python 3"
    }
  },
  "cells": [
    {
      "cell_type": "markdown",
      "metadata": {
        "id": "view-in-github",
        "colab_type": "text"
      },
      "source": [
        "<a href=\"https://colab.research.google.com/github/Yonnihayes/hello-world/blob/master/Even_and_Odd_Number_py.ipynb\" target=\"_parent\"><img src=\"https://colab.research.google.com/assets/colab-badge.svg\" alt=\"Open In Colab\"/></a>"
      ]
    },
    {
      "cell_type": "code",
      "metadata": {
        "id": "3FydbT3OMiyh",
        "colab_type": "code",
        "colab": {}
      },
      "source": [
        "# This program returns 'even' for even numbers and 'odd' numbers."
      ],
      "execution_count": 0,
      "outputs": []
    },
    {
      "cell_type": "code",
      "metadata": {
        "id": "257pwSEXM1Ra",
        "colab_type": "code",
        "colab": {}
      },
      "source": [
        "def isEvenOrOdd(num):\n",
        "   if num & 1:\n",
        "      return 'odd'\n",
        "   else:\n",
        "      return 'even'\n",
        "\n",
        "# Enter number between the parentheses like so:\n",
        "isEvenOrOdd(3)"
      ],
      "execution_count": 0,
      "outputs": []
    }
  ]
}