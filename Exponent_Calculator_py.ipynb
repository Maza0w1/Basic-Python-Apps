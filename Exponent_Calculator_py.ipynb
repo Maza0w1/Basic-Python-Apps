{
  "nbformat": 4,
  "nbformat_minor": 0,
  "metadata": {
    "colab": {
      "name": "Exponent Calculator.py",
      "provenance": [],
      "collapsed_sections": [],
      "authorship_tag": "ABX9TyPhwp1jGuAakEzMC9dc0lXc",
      "include_colab_link": true
    },
    "kernelspec": {
      "name": "python3",
      "display_name": "Python 3"
    }
  },
  "cells": [
    {
      "cell_type": "markdown",
      "metadata": {
        "id": "view-in-github",
        "colab_type": "text"
      },
      "source": [
        "<a href=\"https://colab.research.google.com/github/Yonnihayes/hello-world/blob/master/Exponent_Calculator_py.ipynb\" target=\"_parent\"><img src=\"https://colab.research.google.com/assets/colab-badge.svg\" alt=\"Open In Colab\"/></a>"
      ]
    },
    {
      "cell_type": "code",
      "metadata": {
        "id": "pOiHOqOQHaFb",
        "colab_type": "code",
        "colab": {}
      },
      "source": [
        "# This program takes a base number and an exponent number and returns the calculation. "
      ],
      "execution_count": 0,
      "outputs": []
    },
    {
      "cell_type": "code",
      "metadata": {
        "id": "lhI_HKvcHkck",
        "colab_type": "code",
        "colab": {
          "base_uri": "https://localhost:8080/",
          "height": 34
        },
        "outputId": "244ed5a4-1d72-4d51-899c-6eb5f6fa2fb9"
      },
      "source": [
        "def calculate_exponent(num, exp):\n",
        "   return num ** exp\n",
        "calculate_exponent(2, 2)"
      ],
      "execution_count": 1,
      "outputs": [
        {
          "output_type": "execute_result",
          "data": {
            "text/plain": [
              "4"
            ]
          },
          "metadata": {
            "tags": []
          },
          "execution_count": 1
        }
      ]
    }
  ]
}