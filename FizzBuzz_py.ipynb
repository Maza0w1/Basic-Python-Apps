{
  "nbformat": 4,
  "nbformat_minor": 0,
  "metadata": {
    "colab": {
      "name": "FizzBuzz.py",
      "provenance": [],
      "collapsed_sections": [],
      "authorship_tag": "ABX9TyPUvD3RNrnp0sNL9sef0HFx",
      "include_colab_link": true
    },
    "kernelspec": {
      "name": "python3",
      "display_name": "Python 3"
    }
  },
  "cells": [
    {
      "cell_type": "markdown",
      "metadata": {
        "id": "view-in-github",
        "colab_type": "text"
      },
      "source": [
        "<a href=\"https://colab.research.google.com/github/Yonnihayes/hello-world/blob/master/FizzBuzz_py.ipynb\" target=\"_parent\"><img src=\"https://colab.research.google.com/assets/colab-badge.svg\" alt=\"Open In Colab\"/></a>"
      ]
    },
    {
      "cell_type": "code",
      "metadata": {
        "id": "rerKRgFcj-SX",
        "colab_type": "code",
        "colab": {
          "base_uri": "https://localhost:8080/",
          "height": 34
        },
        "outputId": "172e8dee-24a4-4252-c2f0-8320bfa00b10"
      },
      "source": [
        "def fizz_buzz(num):\n",
        "  if num % 3 == 0 and num % 5 == 0:\n",
        "    return 'FizzBuzz'\n",
        "  elif num % 5 == 0:\n",
        "    return 'Buzz'\n",
        "  elif num % 3 == 0:\n",
        "    return 'Fizz'\n",
        "  else:\n",
        "    return str(num)\n",
        "\n",
        "fizz_buzz(3)"
      ],
      "execution_count": 8,
      "outputs": [
        {
          "output_type": "execute_result",
          "data": {
            "text/plain": [
              "'Fizz'"
            ]
          },
          "metadata": {
            "tags": []
          },
          "execution_count": 8
        }
      ]
    }
  ]
}