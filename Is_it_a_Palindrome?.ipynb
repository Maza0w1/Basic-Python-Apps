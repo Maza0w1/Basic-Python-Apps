{
  "nbformat": 4,
  "nbformat_minor": 0,
  "metadata": {
    "colab": {
      "name": "Is it a Palindrome?",
      "provenance": [],
      "collapsed_sections": [],
      "authorship_tag": "ABX9TyOMF+coqF+9+mXSB1o1zFPk",
      "include_colab_link": true
    },
    "kernelspec": {
      "name": "python3",
      "display_name": "Python 3"
    }
  },
  "cells": [
    {
      "cell_type": "markdown",
      "metadata": {
        "id": "view-in-github",
        "colab_type": "text"
      },
      "source": [
        "<a href=\"https://colab.research.google.com/github/Yonnihayes/hello-world/blob/master/Is_it_a_Palindrome%3F.ipynb\" target=\"_parent\"><img src=\"https://colab.research.google.com/assets/colab-badge.svg\" alt=\"Open In Colab\"/></a>"
      ]
    },
    {
      "cell_type": "code",
      "metadata": {
        "id": "YPSNmpxDAnlZ",
        "colab_type": "code",
        "colab": {}
      },
      "source": [
        "# This program checks if a word, phrase, or sequence reads the same backward as forward, e.g., madam or nurses run."
      ],
      "execution_count": 0,
      "outputs": []
    },
    {
      "cell_type": "code",
      "metadata": {
        "id": "3OTZ-x5NAtHW",
        "colab_type": "code",
        "colab": {
          "base_uri": "https://localhost:8080/",
          "height": 34
        },
        "outputId": "2b6c6f63-f6e5-438e-9fd2-a49d4d112e82"
      },
      "source": [
        "def palindrome(s):\n",
        "  s.replace(' ', '') # This replaces all spaces ' ' with no space ''. (Fixes issues with strings that have spaces)\n",
        "  return s == s[::-1]\n",
        "\n",
        "palindrome('madam')"
      ],
      "execution_count": 9,
      "outputs": [
        {
          "output_type": "execute_result",
          "data": {
            "text/plain": [
              "True"
            ]
          },
          "metadata": {
            "tags": []
          },
          "execution_count": 9
        }
      ]
    }
  ]
}