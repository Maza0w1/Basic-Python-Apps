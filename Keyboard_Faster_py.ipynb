{
  "nbformat": 4,
  "nbformat_minor": 0,
  "metadata": {
    "colab": {
      "name": "Keyboard Faster.py",
      "provenance": [],
      "collapsed_sections": [],
      "authorship_tag": "ABX9TyOrYcCNMzfliOyR1XMiHL49",
      "include_colab_link": true
    },
    "kernelspec": {
      "name": "python3",
      "display_name": "Python 3"
    }
  },
  "cells": [
    {
      "cell_type": "markdown",
      "metadata": {
        "id": "view-in-github",
        "colab_type": "text"
      },
      "source": [
        "<a href=\"https://colab.research.google.com/github/Yonnihayes/hello-world/blob/master/Keyboard_Faster_py.ipynb\" target=\"_parent\"><img src=\"https://colab.research.google.com/assets/colab-badge.svg\" alt=\"Open In Colab\"/></a>"
      ]
    },
    {
      "cell_type": "code",
      "metadata": {
        "id": "KnE5mwyRZtFO",
        "colab_type": "code",
        "colab": {}
      },
      "source": [
        "# This program will help you type faster."
      ],
      "execution_count": 0,
      "outputs": []
    },
    {
      "cell_type": "code",
      "metadata": {
        "id": "10e8XN7Zf831",
        "colab_type": "code",
        "colab": {}
      },
      "source": [
        "import matplotlib.pyplot as plt\n",
        "import time as t \n",
        "\n",
        "times = []\n",
        "mistakes = 0\n",
        "\n",
        "print('This program will help you type faster. You will have to type the sentence \"The mouse that the cat that the dog that the man frightened and chased ran away\" five times.')\n",
        "input('Press enter to continue.')\n",
        "\n",
        "while len(times) < 5:\n",
        "  start = t.time()\n",
        "  word = input('Type the sentence: ')\n",
        "  end = t.time()\n",
        "  time_elapsed = end - start\n",
        "\n",
        "  times.append(time_elapsed)\n",
        "\n",
        "  if (word.lower() != 'The mouse that the cat that the dog that the man frightened and chased ran away'):\n",
        "    mistakes += 1\n",
        "\n",
        "print('You made it! ' + str(mistakes) + ' mistake(s).')\n",
        "print('Now let\\'s see your evolution!')\n",
        "t.sleep(3)\n",
        "\n",
        "x = [1,2,3,4,5]\n",
        "y = times\n",
        "plt.plot(x,y)\n",
        "legend = ['1','2','3','4','5']\n",
        "plt.xticks(x, legend)\n",
        "plt.ylabel('Time in seconds')\n",
        "plt.xlabel('Attempts')\n",
        "plt.title('Your typing evolution')\n",
        "plt.show()\n"
      ],
      "execution_count": 0,
      "outputs": []
    }
  ]
}