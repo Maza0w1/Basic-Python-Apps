{
  "nbformat": 4,
  "nbformat_minor": 0,
  "metadata": {
    "colab": {
      "name": "Movie Review Sentiment Analysis",
      "provenance": [],
      "collapsed_sections": [],
      "include_colab_link": true
    },
    "kernelspec": {
      "name": "python3",
      "display_name": "Python 3"
    }
  },
  "cells": [
    {
      "cell_type": "markdown",
      "metadata": {
        "id": "view-in-github",
        "colab_type": "text"
      },
      "source": [
        "<a href=\"https://colab.research.google.com/github/Yonnihayes/hello-world/blob/master/Movie_Review_Sentiment_Analysis.ipynb\" target=\"_parent\"><img src=\"https://colab.research.google.com/assets/colab-badge.svg\" alt=\"Open In Colab\"/></a>"
      ]
    },
    {
      "cell_type": "code",
      "metadata": {
        "id": "1CPRIeES8fn_",
        "colab_type": "code",
        "colab": {}
      },
      "source": [
        "#Dataset Link: https://www.kaggle.com/c/movie-review-sentiment-analysis-kernels-only/overview"
      ],
      "execution_count": 0,
      "outputs": []
    },
    {
      "cell_type": "code",
      "metadata": {
        "id": "B-BqkHpKcb5_",
        "colab_type": "code",
        "outputId": "84529e26-3c6a-4643-b7dc-071a44dbdb34",
        "colab": {
          "resources": {
            "http://localhost:8080/nbextensions/google.colab/files.js": {
              "data": "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",
              "ok": true,
              "headers": [
                [
                  "content-type",
                  "application/javascript"
                ]
              ],
              "status": 200,
              "status_text": ""
            }
          },
          "base_uri": "https://localhost:8080/",
          "height": 142
        }
      },
      "source": [
        "from google.colab import files\n",
        "uploaded = files.upload()"
      ],
      "execution_count": 0,
      "outputs": [
        {
          "output_type": "display_data",
          "data": {
            "text/html": [
              "\n",
              "     <input type=\"file\" id=\"files-6862e229-1209-4a76-9038-6ec7216e3450\" name=\"files[]\" multiple disabled />\n",
              "     <output id=\"result-6862e229-1209-4a76-9038-6ec7216e3450\">\n",
              "      Upload widget is only available when the cell has been executed in the\n",
              "      current browser session. Please rerun this cell to enable.\n",
              "      </output>\n",
              "      <script src=\"/nbextensions/google.colab/files.js\"></script> "
            ],
            "text/plain": [
              "<IPython.core.display.HTML object>"
            ]
          },
          "metadata": {
            "tags": []
          }
        },
        {
          "output_type": "stream",
          "text": [
            "Saving train.csv to train.csv\n",
            "Saving test.csv to test.csv\n",
            "Saving sampleSubmission (1).csv to sampleSubmission (1).csv\n"
          ],
          "name": "stdout"
        }
      ]
    },
    {
      "cell_type": "code",
      "metadata": {
        "id": "HMbrKAtxBWpg",
        "colab_type": "code",
        "colab": {}
      },
      "source": [
        "import pandas as pd\n",
        "\n"
      ],
      "execution_count": 0,
      "outputs": []
    },
    {
      "cell_type": "code",
      "metadata": {
        "id": "Ya7bvC7eD4RH",
        "colab_type": "code",
        "colab": {}
      },
      "source": [
        "train = pd.read_csv('train.csv', sep=\",\")\n",
        "test = pd.read_csv('test.csv', sep=\",\")\n",
        "sample = pd.read_csv('sampleSubmission (1).csv',sep=\",\")"
      ],
      "execution_count": 0,
      "outputs": []
    },
    {
      "cell_type": "code",
      "metadata": {
        "id": "aEk6n0DsElMe",
        "colab_type": "code",
        "colab": {}
      },
      "source": [
        "train"
      ],
      "execution_count": 0,
      "outputs": []
    },
    {
      "cell_type": "code",
      "metadata": {
        "id": "bMUY0tG8Eo-z",
        "colab_type": "code",
        "colab": {}
      },
      "source": [
        "test"
      ],
      "execution_count": 0,
      "outputs": []
    },
    {
      "cell_type": "code",
      "metadata": {
        "id": "o5WaETFmEumm",
        "colab_type": "code",
        "colab": {}
      },
      "source": [
        "sample"
      ],
      "execution_count": 0,
      "outputs": []
    },
    {
      "cell_type": "code",
      "metadata": {
        "id": "RDjT2xzMNkRx",
        "colab_type": "code",
        "colab": {}
      },
      "source": [
        "test.dtypes"
      ],
      "execution_count": 0,
      "outputs": []
    },
    {
      "cell_type": "code",
      "metadata": {
        "id": "wk96KDXhKjhQ",
        "colab_type": "code",
        "colab": {}
      },
      "source": [
        "sample.dtypes"
      ],
      "execution_count": 0,
      "outputs": []
    },
    {
      "cell_type": "code",
      "metadata": {
        "id": "8yYOLv46dwGb",
        "colab_type": "code",
        "colab": {}
      },
      "source": [
        "train.dtypes"
      ],
      "execution_count": 0,
      "outputs": []
    },
    {
      "cell_type": "code",
      "metadata": {
        "id": "Zv4nS3VeOEBE",
        "colab_type": "code",
        "colab": {}
      },
      "source": [
        "train.shapel"
      ],
      "execution_count": 0,
      "outputs": []
    },
    {
      "cell_type": "code",
      "metadata": {
        "id": "RM_Ou3pXS_P_",
        "colab_type": "code",
        "colab": {}
      },
      "source": [
        "test.shape"
      ],
      "execution_count": 0,
      "outputs": []
    },
    {
      "cell_type": "markdown",
      "metadata": {
        "id": "XmbRBKkFSDl2",
        "colab_type": "text"
      },
      "source": [
        ""
      ]
    },
    {
      "cell_type": "code",
      "metadata": {
        "id": "yvFq-njWTFeI",
        "colab_type": "code",
        "colab": {}
      },
      "source": [
        "sample.shape"
      ],
      "execution_count": 0,
      "outputs": []
    },
    {
      "cell_type": "code",
      "metadata": {
        "id": "xql3HVL6WsjO",
        "colab_type": "code",
        "colab": {}
      },
      "source": [
        "train['Sentiment'].value_counts()"
      ],
      "execution_count": 0,
      "outputs": []
    },
    {
      "cell_type": "code",
      "metadata": {
        "id": "TJsCR2jnXH85",
        "colab_type": "code",
        "colab": {}
      },
      "source": [
        "sample ['Sentiment'].value_counts()"
      ],
      "execution_count": 0,
      "outputs": []
    },
    {
      "cell_type": "code",
      "metadata": {
        "id": "halgEF_88KTa",
        "colab_type": "code",
        "colab": {}
      },
      "source": [
        "from spacy.lang.en.stop_words import STOP_WORDS\n",
        "print(STOP_WORDS) # <- Spacy's default stop words"
      ],
      "execution_count": 0,
      "outputs": []
    },
    {
      "cell_type": "code",
      "metadata": {
        "id": "P4zaPXgJALxt",
        "colab_type": "code",
        "outputId": "fea7c297-30b9-435c-ab57-47e5fb80fdb6",
        "colab": {
          "base_uri": "https://localhost:8080/",
          "height": 204
        }
      },
      "source": [
        "train.head()"
      ],
      "execution_count": 0,
      "outputs": [
        {
          "output_type": "execute_result",
          "data": {
            "text/html": [
              "<div>\n",
              "<style scoped>\n",
              "    .dataframe tbody tr th:only-of-type {\n",
              "        vertical-align: middle;\n",
              "    }\n",
              "\n",
              "    .dataframe tbody tr th {\n",
              "        vertical-align: top;\n",
              "    }\n",
              "\n",
              "    .dataframe thead th {\n",
              "        text-align: right;\n",
              "    }\n",
              "</style>\n",
              "<table border=\"1\" class=\"dataframe\">\n",
              "  <thead>\n",
              "    <tr style=\"text-align: right;\">\n",
              "      <th></th>\n",
              "      <th>PhraseId</th>\n",
              "      <th>SentenceId</th>\n",
              "      <th>Phrase</th>\n",
              "      <th>Sentiment</th>\n",
              "      <th>sentiment_label</th>\n",
              "    </tr>\n",
              "  </thead>\n",
              "  <tbody>\n",
              "    <tr>\n",
              "      <th>0</th>\n",
              "      <td>1</td>\n",
              "      <td>1</td>\n",
              "      <td>A series of escapades demonstrating the adage ...</td>\n",
              "      <td>1</td>\n",
              "      <td>Somewhat Negative</td>\n",
              "    </tr>\n",
              "    <tr>\n",
              "      <th>1</th>\n",
              "      <td>2</td>\n",
              "      <td>1</td>\n",
              "      <td>A series of escapades demonstrating the adage ...</td>\n",
              "      <td>2</td>\n",
              "      <td>Neutral</td>\n",
              "    </tr>\n",
              "    <tr>\n",
              "      <th>2</th>\n",
              "      <td>3</td>\n",
              "      <td>1</td>\n",
              "      <td>A series</td>\n",
              "      <td>2</td>\n",
              "      <td>Neutral</td>\n",
              "    </tr>\n",
              "    <tr>\n",
              "      <th>3</th>\n",
              "      <td>4</td>\n",
              "      <td>1</td>\n",
              "      <td>A</td>\n",
              "      <td>2</td>\n",
              "      <td>Neutral</td>\n",
              "    </tr>\n",
              "    <tr>\n",
              "      <th>4</th>\n",
              "      <td>5</td>\n",
              "      <td>1</td>\n",
              "      <td>series</td>\n",
              "      <td>2</td>\n",
              "      <td>Neutral</td>\n",
              "    </tr>\n",
              "  </tbody>\n",
              "</table>\n",
              "</div>"
            ],
            "text/plain": [
              "   PhraseId  SentenceId  ... Sentiment    sentiment_label\n",
              "0         1           1  ...         1  Somewhat Negative\n",
              "1         2           1  ...         2            Neutral\n",
              "2         3           1  ...         2            Neutral\n",
              "3         4           1  ...         2            Neutral\n",
              "4         5           1  ...         2            Neutral\n",
              "\n",
              "[5 rows x 5 columns]"
            ]
          },
          "metadata": {
            "tags": []
          },
          "execution_count": 5
        }
      ]
    },
    {
      "cell_type": "code",
      "metadata": {
        "id": "ooffnZaxAICa",
        "colab_type": "code",
        "colab": {}
      },
      "source": [
        "train['sentiment_label'] = ''\n",
        "train.loc[train.Sentiment == 0, 'sentiment_label'] = 'Negative'\n",
        "train.loc[train.Sentiment == 1, 'sentiment_label'] = 'Somewhat Negative'\n",
        "train.loc[train.Sentiment == 2, 'sentiment_label'] = 'Neutral'\n",
        "train.loc[train.Sentiment == 3, 'sentiment_label'] = 'Somewhat Positive'\n",
        "train.loc[train.Sentiment == 4, 'sentiment_label'] = 'Positive'"
      ],
      "execution_count": 0,
      "outputs": []
    },
    {
      "cell_type": "code",
      "metadata": {
        "id": "FPBPwy1mCqWS",
        "colab_type": "code",
        "colab": {}
      },
      "source": [
        "import nltk\n",
        "from nltk.corpus import stopwords\n",
        "from nltk.stem.porter import PorterStemmer\n",
        "from sklearn.feature_extraction.text import TfidfVectorizer\n",
        "from sklearn.feature_extraction.stop_words import ENGLISH_STOP_WORDS"
      ],
      "execution_count": 0,
      "outputs": []
    },
    {
      "cell_type": "code",
      "metadata": {
        "id": "VwwwyPC4C-Wx",
        "colab_type": "code",
        "outputId": "01cdffed-4741-47b4-aac0-2d9a4d6c245d",
        "colab": {
          "base_uri": "https://localhost:8080/",
          "height": 68
        }
      },
      "source": [
        "nltk.download('stopwords')"
      ],
      "execution_count": 0,
      "outputs": [
        {
          "output_type": "stream",
          "text": [
            "[nltk_data] Downloading package stopwords to /root/nltk_data...\n",
            "[nltk_data]   Unzipping corpora/stopwords.zip.\n"
          ],
          "name": "stdout"
        },
        {
          "output_type": "execute_result",
          "data": {
            "text/plain": [
              "True"
            ]
          },
          "metadata": {
            "tags": []
          },
          "execution_count": 8
        }
      ]
    },
    {
      "cell_type": "code",
      "metadata": {
        "id": "oJUcoMXxOh3o",
        "colab_type": "code",
        "outputId": "9454843d-d9dd-41cf-bf3c-6966bb155438",
        "colab": {
          "base_uri": "https://localhost:8080/",
          "height": 68
        }
      },
      "source": [
        "import nltk\n",
        "nltk.download('gutenberg')\n",
        "\n"
      ],
      "execution_count": 0,
      "outputs": [
        {
          "output_type": "stream",
          "text": [
            "[nltk_data] Downloading package gutenberg to /root/nltk_data...\n",
            "[nltk_data]   Package gutenberg is already up-to-date!\n"
          ],
          "name": "stdout"
        },
        {
          "output_type": "execute_result",
          "data": {
            "text/plain": [
              "True"
            ]
          },
          "metadata": {
            "tags": []
          },
          "execution_count": 11
        }
      ]
    },
    {
      "cell_type": "code",
      "metadata": {
        "id": "80_FJIlSNMHG",
        "colab_type": "code",
        "colab": {}
      },
      "source": [
        "from nltk import corcodance\n",
        "train.concordance(\"lrb\")"
      ],
      "execution_count": 0,
      "outputs": []
    },
    {
      "cell_type": "code",
      "metadata": {
        "id": "Pu6z3Z4DGtcB",
        "colab_type": "code",
        "colab": {}
      },
      "source": [
        "import re\n",
        "import string"
      ],
      "execution_count": 0,
      "outputs": []
    },
    {
      "cell_type": "code",
      "metadata": {
        "id": "EXr2dB4IGlQL",
        "colab_type": "code",
        "colab": {}
      },
      "source": [
        "def prepare_text(text):\n",
        "    text = re.sub('[%s]' % re.escape(string.punctuation), '', text)\n",
        "    text = re.sub('[%s]' % re.escape(string.digits), '', text)\n",
        "    text = re.sub('[%s]' % re.escape(' +'), ' ', text)\n",
        "    text = text.lower()\n",
        "    text = text.strip()\n",
        "    return text\n"
      ],
      "execution_count": 0,
      "outputs": []
    },
    {
      "cell_type": "code",
      "metadata": {
        "id": "KOhDLFV8GY0C",
        "colab_type": "code",
        "colab": {}
      },
      "source": [
        "train['cleaned_phrase'] = ''\n",
        "train['cleaned_phrase'] = [prepare_text(phrase) for phrase in train.Phrase]\n",
        "test['cleaned_phrase'] = ''\n",
        "test['cleaned_phrase'] = [prepare_text(phrase) for phrase in test.Phrase]\n"
      ],
      "execution_count": 0,
      "outputs": []
    },
    {
      "cell_type": "code",
      "metadata": {
        "id": "oeKryhgOII6h",
        "colab_type": "code",
        "colab": {}
      },
      "source": [
        "train['phrase_length'] = [len(sent.split(' ')) for sent in train.cleaned_phrase]\n",
        "test['phrase_length'] = [len(sent.split(' ')) for sent in test.cleaned_phrase]"
      ],
      "execution_count": 0,
      "outputs": []
    },
    {
      "cell_type": "code",
      "metadata": {
        "id": "L4xTrAU3IfT5",
        "colab_type": "code",
        "colab": {}
      },
      "source": [
        "import scipy\n",
        "from scipy import sparse"
      ],
      "execution_count": 0,
      "outputs": []
    },
    {
      "cell_type": "code",
      "metadata": {
        "id": "zjpPISlMIQAI",
        "colab_type": "code",
        "colab": {}
      },
      "source": [
        "train_phrase_length = sparse.csr_matrix(train.phrase_length)\n",
        "test_phrase_length = sparse.csr_matrix(test.phrase_length)"
      ],
      "execution_count": 0,
      "outputs": []
    },
    {
      "cell_type": "code",
      "metadata": {
        "id": "p2mNtxTAHfA8",
        "colab_type": "code",
        "colab": {}
      },
      "source": [
        "import matplotlib.pyplot as plt\n"
      ],
      "execution_count": 0,
      "outputs": []
    },
    {
      "cell_type": "code",
      "metadata": {
        "id": "Jkaro4UNCUvH",
        "colab_type": "code",
        "colab": {}
      },
      "source": [
        "Stopwords = list(ENGLISH_STOP_WORDS) + stopwords.words()"
      ],
      "execution_count": 0,
      "outputs": []
    },
    {
      "cell_type": "code",
      "metadata": {
        "id": "DSvA29AjBy8d",
        "colab_type": "code",
        "colab": {}
      },
      "source": [
        "def wordcloud(sentiment):\n",
        "    stopwordslist = Stopwords\n",
        "    stopwordslist.extend(['movie','movies','film','nt','rrb','lrb','make','work','like','story','time','little'])\n",
        "    reviews = train.loc[train.Sentiment.isin(sentiment)]\n",
        "    print(\"Word Cloud for Sentiment Labels: \", reviews.sentiment_label.unique())\n",
        "    phrases = ' '.join(reviews.cleaned_phrase)\n",
        "    words = \" \".join([word for word in phrases.split()])\n",
        "    wordcloud = WordCloud(stopwords=stopwordslist,width=3000,height=2500,background_color='white',).generate(words)\n",
        "    plt.figure(figsize=(10, 10))\n",
        "    plt.imshow(wordcloud)\n",
        "    plt.axis(\"off\")\n",
        "    plt.show()\n"
      ],
      "execution_count": 0,
      "outputs": []
    },
    {
      "cell_type": "code",
      "metadata": {
        "id": "Uy2QLAQnIGi2",
        "colab_type": "code",
        "colab": {}
      },
      "source": [
        ""
      ],
      "execution_count": 0,
      "outputs": []
    },
    {
      "cell_type": "code",
      "metadata": {
        "id": "UqfO1fqpEwyY",
        "colab_type": "code",
        "colab": {}
      },
      "source": [
        "import wordcloud\n",
        "from wordcloud import WordCloud\n"
      ],
      "execution_count": 0,
      "outputs": []
    },
    {
      "cell_type": "code",
      "metadata": {
        "id": "41Oil0h9FGCr",
        "colab_type": "code",
        "outputId": "6048a8d3-7755-426f-d749-fa9dbc96dcc7",
        "colab": {
          "base_uri": "https://localhost:8080/",
          "height": 163
        }
      },
      "source": [
        "wordcloud([3,4])"
      ],
      "execution_count": 0,
      "outputs": [
        {
          "output_type": "error",
          "ename": "TypeError",
          "evalue": "ignored",
          "traceback": [
            "\u001b[0;31m---------------------------------------------------------------------------\u001b[0m",
            "\u001b[0;31mTypeError\u001b[0m                                 Traceback (most recent call last)",
            "\u001b[0;32m<ipython-input-22-eed29bbe106b>\u001b[0m in \u001b[0;36m<module>\u001b[0;34m()\u001b[0m\n\u001b[0;32m----> 1\u001b[0;31m \u001b[0mwordcloud\u001b[0m\u001b[0;34m(\u001b[0m\u001b[0;34m[\u001b[0m\u001b[0;36m3\u001b[0m\u001b[0;34m,\u001b[0m\u001b[0;36m4\u001b[0m\u001b[0;34m]\u001b[0m\u001b[0;34m)\u001b[0m\u001b[0;34m\u001b[0m\u001b[0;34m\u001b[0m\u001b[0m\n\u001b[0m",
            "\u001b[0;31mTypeError\u001b[0m: 'module' object is not callable"
          ]
        }
      ]
    },
    {
      "cell_type": "code",
      "metadata": {
        "id": "HojqZONyI3v7",
        "colab_type": "code",
        "colab": {}
      },
      "source": [
        "wordcloud([2])"
      ],
      "execution_count": 0,
      "outputs": []
    },
    {
      "cell_type": "code",
      "metadata": {
        "id": "UA7KKly2JNRF",
        "colab_type": "code",
        "colab": {}
      },
      "source": [
        "wordcloud([0,1])"
      ],
      "execution_count": 0,
      "outputs": []
    },
    {
      "cell_type": "code",
      "metadata": {
        "id": "NsMNG_Rd5ZS-",
        "colab_type": "code",
        "outputId": "3f172567-f103-4d28-aba7-4156261609cc",
        "colab": {
          "base_uri": "https://localhost:8080/",
          "height": 528
        }
      },
      "source": [
        "import seaborn\n",
        "import matplotlib.pyplot as plt\n",
        "fig, ax = plt.subplots(1, 1, dpi = 100, figsize = (7, 5))\n",
        "graph = seaborn.barplot(x='Sentiment', data=train)\n",
        "ax.set_xlabel('Sentiment Labels')\n",
        "ax.set_ylabel('Value')"
      ],
      "execution_count": 0,
      "outputs": [
        {
          "output_type": "stream",
          "text": [
            "/usr/local/lib/python3.6/dist-packages/statsmodels/tools/_testing.py:19: FutureWarning: pandas.util.testing is deprecated. Use the functions in the public API at pandas.testing instead.\n",
            "  import pandas.util.testing as tm\n"
          ],
          "name": "stderr"
        },
        {
          "output_type": "execute_result",
          "data": {
            "text/plain": [
              "Text(0, 0.5, 'Value')"
            ]
          },
          "metadata": {
            "tags": []
          },
          "execution_count": 24
        },
        {
          "output_type": "display_data",
          "data": {
            "image/png": "[encoded data removed]",
            "text/plain": [
              "<Figure size 700x500 with 1 Axes>"
            ]
          },
          "metadata": {
            "tags": [],
            "needs_background": "light"
          }
        }
      ]
    },
    {
      "cell_type": "markdown",
      "metadata": {
        "id": "I5FIgoezvqZ7",
        "colab_type": "text"
      },
      "source": [
        "<STRONG>MY NEW DISCOVERIES AS I TORTURED THE DATA SET WITH SIMPLER LINES OF CODE</STRONG>"
      ]
    },
    {
      "cell_type": "code",
      "metadata": {
        "id": "W4Ih6tzQNK51",
        "colab_type": "code",
        "outputId": "bd8a5309-44da-47a2-a945-13cefc9a1ea7",
        "colab": {
          "base_uri": "https://localhost:8080/",
          "height": 34
        }
      },
      "source": [
        "len(test['Phrase'].unique())\n",
        "# there are 6692 unique phrases bro"
      ],
      "execution_count": 0,
      "outputs": [
        {
          "output_type": "execute_result",
          "data": {
            "text/plain": [
              "66292"
            ]
          },
          "metadata": {
            "tags": []
          },
          "execution_count": 6
        }
      ]
    },
    {
      "cell_type": "code",
      "metadata": {
        "id": "8-5AinhPM1_y",
        "colab_type": "code",
        "outputId": "308b218a-4f43-45ab-dbd6-2fe7fc2b00b5",
        "colab": {
          "base_uri": "https://localhost:8080/",
          "height": 419
        }
      },
      "source": [
        "samplesub"
      ],
      "execution_count": 0,
      "outputs": [
        {
          "output_type": "execute_result",
          "data": {
            "text/html": [
              "<div>\n",
              "<style scoped>\n",
              "    .dataframe tbody tr th:only-of-type {\n",
              "        vertical-align: middle;\n",
              "    }\n",
              "\n",
              "    .dataframe tbody tr th {\n",
              "        vertical-align: top;\n",
              "    }\n",
              "\n",
              "    .dataframe thead th {\n",
              "        text-align: right;\n",
              "    }\n",
              "</style>\n",
              "<table border=\"1\" class=\"dataframe\">\n",
              "  <thead>\n",
              "    <tr style=\"text-align: right;\">\n",
              "      <th></th>\n",
              "      <th>PhraseId</th>\n",
              "      <th>Sentiment</th>\n",
              "    </tr>\n",
              "  </thead>\n",
              "  <tbody>\n",
              "    <tr>\n",
              "      <th>0</th>\n",
              "      <td>156061</td>\n",
              "      <td>2</td>\n",
              "    </tr>\n",
              "    <tr>\n",
              "      <th>1</th>\n",
              "      <td>156062</td>\n",
              "      <td>2</td>\n",
              "    </tr>\n",
              "    <tr>\n",
              "      <th>2</th>\n",
              "      <td>156063</td>\n",
              "      <td>2</td>\n",
              "    </tr>\n",
              "    <tr>\n",
              "      <th>3</th>\n",
              "      <td>156064</td>\n",
              "      <td>2</td>\n",
              "    </tr>\n",
              "    <tr>\n",
              "      <th>4</th>\n",
              "      <td>156065</td>\n",
              "      <td>2</td>\n",
              "    </tr>\n",
              "    <tr>\n",
              "      <th>...</th>\n",
              "      <td>...</td>\n",
              "      <td>...</td>\n",
              "    </tr>\n",
              "    <tr>\n",
              "      <th>66287</th>\n",
              "      <td>222348</td>\n",
              "      <td>2</td>\n",
              "    </tr>\n",
              "    <tr>\n",
              "      <th>66288</th>\n",
              "      <td>222349</td>\n",
              "      <td>2</td>\n",
              "    </tr>\n",
              "    <tr>\n",
              "      <th>66289</th>\n",
              "      <td>222350</td>\n",
              "      <td>2</td>\n",
              "    </tr>\n",
              "    <tr>\n",
              "      <th>66290</th>\n",
              "      <td>222351</td>\n",
              "      <td>2</td>\n",
              "    </tr>\n",
              "    <tr>\n",
              "      <th>66291</th>\n",
              "      <td>222352</td>\n",
              "      <td>2</td>\n",
              "    </tr>\n",
              "  </tbody>\n",
              "</table>\n",
              "<p>66292 rows × 2 columns</p>\n",
              "</div>"
            ],
            "text/plain": [
              "       PhraseId  Sentiment\n",
              "0        156061          2\n",
              "1        156062          2\n",
              "2        156063          2\n",
              "3        156064          2\n",
              "4        156065          2\n",
              "...         ...        ...\n",
              "66287    222348          2\n",
              "66288    222349          2\n",
              "66289    222350          2\n",
              "66290    222351          2\n",
              "66291    222352          2\n",
              "\n",
              "[66292 rows x 2 columns]"
            ]
          },
          "metadata": {
            "tags": []
          },
          "execution_count": 15
        }
      ]
    },
    {
      "cell_type": "code",
      "metadata": {
        "id": "27YOqjC2Ofdc",
        "colab_type": "code",
        "colab": {}
      },
      "source": [
        "lets do exploratory data analysis on the train "
      ],
      "execution_count": 0,
      "outputs": []
    },
    {
      "cell_type": "code",
      "metadata": {
        "id": "O-fopwlqQ9-I",
        "colab_type": "code",
        "outputId": "d7d76724-3614-4912-86ac-e26b62bab150",
        "colab": {
          "base_uri": "https://localhost:8080/",
          "height": 102
        }
      },
      "source": [
        "train.isnull().sum()"
      ],
      "execution_count": 0,
      "outputs": [
        {
          "output_type": "execute_result",
          "data": {
            "text/plain": [
              "PhraseId      0\n",
              "SentenceId    0\n",
              "Phrase        0\n",
              "Sentiment     0\n",
              "dtype: int64"
            ]
          },
          "metadata": {
            "tags": []
          },
          "execution_count": 7
        }
      ]
    },
    {
      "cell_type": "code",
      "metadata": {
        "id": "h2iWWGdbEl6V",
        "colab_type": "code",
        "colab": {}
      },
      "source": [
        "# the phrase is already in a data frame format so we dont need to make it a data frame\n",
        "# preprocessing\n",
        "# in preprocessing and exploring the data we will do the following:\n",
        "# 1. Lowercasing\n",
        "# 2. Punctuation removal\n",
        "# 3. Stop words removal\n",
        "# 4. Text standardization\n",
        "# 5. Spelling correction\n",
        "# 6. Tokenization\n",
        "# 7. Stemming\n",
        "# 8. Lemmatization\n",
        "# 9. Exploratory data analysis\n",
        "# 10. End-to-end processing pipeline"
      ],
      "execution_count": 0,
      "outputs": []
    },
    {
      "cell_type": "code",
      "metadata": {
        "id": "irpKWAWwFq5J",
        "colab_type": "code",
        "outputId": "d0c93603-611f-4d9a-abd1-0b63ed929c99",
        "colab": {
          "base_uri": "https://localhost:8080/",
          "height": 119
        }
      },
      "source": [
        "# this the phrase \n",
        "train['Phrase'].head()"
      ],
      "execution_count": 0,
      "outputs": [
        {
          "output_type": "execute_result",
          "data": {
            "text/plain": [
              "0    A series of escapades demonstrating the adage ...\n",
              "1    A series of escapades demonstrating the adage ...\n",
              "2                                             A series\n",
              "3                                                    A\n",
              "4                                               series\n",
              "Name: Phrase, dtype: object"
            ]
          },
          "metadata": {
            "tags": []
          },
          "execution_count": 5
        }
      ]
    },
    {
      "cell_type": "code",
      "metadata": {
        "id": "Cfqg8rqGI9KP",
        "colab_type": "code",
        "outputId": "ee07ca6f-57a1-4f01-9274-7d3421422a02",
        "colab": {
          "base_uri": "https://localhost:8080/",
          "height": 221
        }
      },
      "source": [
        "# lower casing of the phrase has been done in the following format\n",
        "# if the phrase was not a data frame, the following step would have been performed\n",
        "# x=train['Phrase']\n",
        "# x.lower()\n",
        "# but since its a data frame the following step was used:\n",
        "train['Phrase']=train['Phrase'].apply(lambda x :\" \".join(x.lower() for x in x.split()))\n",
        "train['Phrase']"
      ],
      "execution_count": 0,
      "outputs": [
        {
          "output_type": "execute_result",
          "data": {
            "text/plain": [
              "0         a series of escapades demonstrating the adage ...\n",
              "1         a series of escapades demonstrating the adage ...\n",
              "2                                                  a series\n",
              "3                                                         a\n",
              "4                                                    series\n",
              "                                ...                        \n",
              "156055                                            hearst 's\n",
              "156056                            forced avuncular chortles\n",
              "156057                                   avuncular chortles\n",
              "156058                                            avuncular\n",
              "156059                                             chortles\n",
              "Name: Phrase, Length: 156060, dtype: object"
            ]
          },
          "metadata": {
            "tags": []
          },
          "execution_count": 5
        }
      ]
    },
    {
      "cell_type": "code",
      "metadata": {
        "id": "-I8tCyYBLuJs",
        "colab_type": "code",
        "outputId": "7032afc9-fcaf-4eaf-87bc-0082fbca4c4f",
        "colab": {
          "base_uri": "https://localhost:8080/",
          "height": 221
        }
      },
      "source": [
        "# trying to remove the panctuation,if there are any\n",
        "train['Phrase']=train['Phrase'].str.replace('[^\\w\\s]',\" \") \n",
        "train['Phrase']"
      ],
      "execution_count": 0,
      "outputs": [
        {
          "output_type": "execute_result",
          "data": {
            "text/plain": [
              "0         a series of escapades demonstrating the adage ...\n",
              "1         a series of escapades demonstrating the adage ...\n",
              "2                                                  a series\n",
              "3                                                         a\n",
              "4                                                    series\n",
              "                                ...                        \n",
              "156055                                            hearst  s\n",
              "156056                            forced avuncular chortles\n",
              "156057                                   avuncular chortles\n",
              "156058                                            avuncular\n",
              "156059                                             chortles\n",
              "Name: Phrase, Length: 156060, dtype: object"
            ]
          },
          "metadata": {
            "tags": []
          },
          "execution_count": 6
        }
      ]
    },
    {
      "cell_type": "code",
      "metadata": {
        "id": "kfLYHEAeRSKz",
        "colab_type": "code",
        "outputId": "1c3063d0-600b-4427-ffcd-9318a68a7825",
        "colab": {
          "base_uri": "https://localhost:8080/",
          "height": 68
        }
      },
      "source": [
        "# i had to parse this because there was no stopword library available at the moment\n",
        "import nltk\n",
        "nltk.download('stopwords')"
      ],
      "execution_count": 0,
      "outputs": [
        {
          "output_type": "stream",
          "text": [
            "[nltk_data] Downloading package stopwords to /root/nltk_data...\n",
            "[nltk_data]   Unzipping corpora/stopwords.zip.\n"
          ],
          "name": "stdout"
        },
        {
          "output_type": "execute_result",
          "data": {
            "text/plain": [
              "True"
            ]
          },
          "metadata": {
            "tags": []
          },
          "execution_count": 7
        }
      ]
    },
    {
      "cell_type": "code",
      "metadata": {
        "id": "8EPu5IELNhzI",
        "colab_type": "code",
        "outputId": "f5009843-9c37-4a1a-9d27-6b592d32345d",
        "colab": {
          "base_uri": "https://localhost:8080/",
          "height": 221
        }
      },
      "source": [
        "# we are going to remove stopwords now\n",
        "#  Stop words are very common words that carry no meaning or less meaning compared to other keywords. \n",
        "# If we remove the words that are less commonly used, we can focus on the important keywords instead\n",
        "import nltk\n",
        "from nltk.corpus import stopwords\n",
        "stop=stopwords.words('english')\n",
        "train['Phrase']=train['Phrase'].apply(lambda x:\"\".join(x for x in x.split() if x not in stop))\n",
        "train['Phrase']"
      ],
      "execution_count": 0,
      "outputs": [
        {
          "output_type": "execute_result",
          "data": {
            "text/plain": [
              "0         seriesescapadesdemonstratingadagegoodgoosealso...\n",
              "1                seriesescapadesdemonstratingadagegoodgoose\n",
              "2                                                    series\n",
              "3                                                          \n",
              "4                                                    series\n",
              "                                ...                        \n",
              "156055                                               hearst\n",
              "156056                              forcedavuncularchortles\n",
              "156057                                    avuncularchortles\n",
              "156058                                            avuncular\n",
              "156059                                             chortles\n",
              "Name: Phrase, Length: 156060, dtype: object"
            ]
          },
          "metadata": {
            "tags": []
          },
          "execution_count": 8
        }
      ]
    },
    {
      "cell_type": "code",
      "metadata": {
        "id": "mSf-g24fTArE",
        "colab_type": "code",
        "colab": {}
      },
      "source": [
        "# we are going to standardize the words now.\n",
        "# what if there is an intial in the phrase\n",
        "# like for example srs to mean series \n",
        "# the following will standardize the srs to series\n",
        "import re\n",
        "# i am going to create the use of this after we visualize the words so that we try and tell what\n",
        "#  the short phrases that could be in the phrase column\n",
        "# could or would mean\n",
        "lookup_dict = {'ur':'your', \"wbu\" : \"what about you\"}\n",
        "def text_std(input_text):\n",
        "   words = input_text.split() \n",
        "   new_words = [] \n",
        "   for word in words:\n",
        "     word = re.sub(r'[^\\w\\s]',\"\",word)\n",
        "     if word.lower() in lookup_dict:\n",
        "       word = lookup_dict[word.lower()]\n",
        "       new_words.append(word)\n",
        "       new_text = \" \".join(new_words)\n",
        "       return new_text"
      ],
      "execution_count": 0,
      "outputs": []
    },
    {
      "cell_type": "code",
      "metadata": {
        "id": "ALagzdtFcbUm",
        "colab_type": "code",
        "outputId": "abe8313e-118b-43ad-f8f1-8dc529d92714",
        "colab": {
          "base_uri": "https://localhost:8080/",
          "height": 306
        }
      },
      "source": [
        "text_std(train['Phrase'])"
      ],
      "execution_count": 0,
      "outputs": [
        {
          "output_type": "error",
          "ename": "AttributeError",
          "evalue": "ignored",
          "traceback": [
            "\u001b[0;31m---------------------------------------------------------------------------\u001b[0m",
            "\u001b[0;31mAttributeError\u001b[0m                            Traceback (most recent call last)",
            "\u001b[0;32m<ipython-input-10-1935d19c0de1>\u001b[0m in \u001b[0;36m<module>\u001b[0;34m()\u001b[0m\n\u001b[0;32m----> 1\u001b[0;31m \u001b[0mtext_std\u001b[0m\u001b[0;34m(\u001b[0m\u001b[0mtrain\u001b[0m\u001b[0;34m[\u001b[0m\u001b[0;34m'Phrase'\u001b[0m\u001b[0;34m]\u001b[0m\u001b[0;34m)\u001b[0m\u001b[0;34m\u001b[0m\u001b[0;34m\u001b[0m\u001b[0m\n\u001b[0m",
            "\u001b[0;32m<ipython-input-9-742cbc7032c5>\u001b[0m in \u001b[0;36mtext_std\u001b[0;34m(input_text)\u001b[0m\n\u001b[1;32m      9\u001b[0m \u001b[0mlookup_dict\u001b[0m \u001b[0;34m=\u001b[0m \u001b[0;34m{\u001b[0m\u001b[0;34m'ur'\u001b[0m\u001b[0;34m:\u001b[0m\u001b[0;34m'your'\u001b[0m\u001b[0;34m,\u001b[0m \u001b[0;34m\"wbu\"\u001b[0m \u001b[0;34m:\u001b[0m \u001b[0;34m\"what about you\"\u001b[0m\u001b[0;34m}\u001b[0m\u001b[0;34m\u001b[0m\u001b[0;34m\u001b[0m\u001b[0m\n\u001b[1;32m     10\u001b[0m \u001b[0;32mdef\u001b[0m \u001b[0mtext_std\u001b[0m\u001b[0;34m(\u001b[0m\u001b[0minput_text\u001b[0m\u001b[0;34m)\u001b[0m\u001b[0;34m:\u001b[0m\u001b[0;34m\u001b[0m\u001b[0;34m\u001b[0m\u001b[0m\n\u001b[0;32m---> 11\u001b[0;31m    \u001b[0mwords\u001b[0m \u001b[0;34m=\u001b[0m \u001b[0minput_text\u001b[0m\u001b[0;34m.\u001b[0m\u001b[0msplit\u001b[0m\u001b[0;34m(\u001b[0m\u001b[0;34m)\u001b[0m\u001b[0;34m\u001b[0m\u001b[0;34m\u001b[0m\u001b[0m\n\u001b[0m\u001b[1;32m     12\u001b[0m    \u001b[0mnew_words\u001b[0m \u001b[0;34m=\u001b[0m \u001b[0;34m[\u001b[0m\u001b[0;34m]\u001b[0m\u001b[0;34m\u001b[0m\u001b[0;34m\u001b[0m\u001b[0m\n\u001b[1;32m     13\u001b[0m    \u001b[0;32mfor\u001b[0m \u001b[0mword\u001b[0m \u001b[0;32min\u001b[0m \u001b[0mwords\u001b[0m\u001b[0;34m:\u001b[0m\u001b[0;34m\u001b[0m\u001b[0;34m\u001b[0m\u001b[0m\n",
            "\u001b[0;32m/usr/local/lib/python3.6/dist-packages/pandas/core/generic.py\u001b[0m in \u001b[0;36m__getattr__\u001b[0;34m(self, name)\u001b[0m\n\u001b[1;32m   5272\u001b[0m             \u001b[0;32mif\u001b[0m \u001b[0mself\u001b[0m\u001b[0;34m.\u001b[0m\u001b[0m_info_axis\u001b[0m\u001b[0;34m.\u001b[0m\u001b[0m_can_hold_identifiers_and_holds_name\u001b[0m\u001b[0;34m(\u001b[0m\u001b[0mname\u001b[0m\u001b[0;34m)\u001b[0m\u001b[0;34m:\u001b[0m\u001b[0;34m\u001b[0m\u001b[0;34m\u001b[0m\u001b[0m\n\u001b[1;32m   5273\u001b[0m                 \u001b[0;32mreturn\u001b[0m \u001b[0mself\u001b[0m\u001b[0;34m[\u001b[0m\u001b[0mname\u001b[0m\u001b[0;34m]\u001b[0m\u001b[0;34m\u001b[0m\u001b[0;34m\u001b[0m\u001b[0m\n\u001b[0;32m-> 5274\u001b[0;31m             \u001b[0;32mreturn\u001b[0m \u001b[0mobject\u001b[0m\u001b[0;34m.\u001b[0m\u001b[0m__getattribute__\u001b[0m\u001b[0;34m(\u001b[0m\u001b[0mself\u001b[0m\u001b[0;34m,\u001b[0m \u001b[0mname\u001b[0m\u001b[0;34m)\u001b[0m\u001b[0;34m\u001b[0m\u001b[0;34m\u001b[0m\u001b[0m\n\u001b[0m\u001b[1;32m   5275\u001b[0m \u001b[0;34m\u001b[0m\u001b[0m\n\u001b[1;32m   5276\u001b[0m     \u001b[0;32mdef\u001b[0m \u001b[0m__setattr__\u001b[0m\u001b[0;34m(\u001b[0m\u001b[0mself\u001b[0m\u001b[0;34m,\u001b[0m \u001b[0mname\u001b[0m\u001b[0;34m:\u001b[0m \u001b[0mstr\u001b[0m\u001b[0;34m,\u001b[0m \u001b[0mvalue\u001b[0m\u001b[0;34m)\u001b[0m \u001b[0;34m->\u001b[0m \u001b[0;32mNone\u001b[0m\u001b[0;34m:\u001b[0m\u001b[0;34m\u001b[0m\u001b[0;34m\u001b[0m\u001b[0m\n",
            "\u001b[0;31mAttributeError\u001b[0m: 'Series' object has no attribute 'split'"
          ]
        }
      ]
    },
    {
      "cell_type": "code",
      "metadata": {
        "id": "UyrBpSIkqFt7",
        "colab_type": "code",
        "outputId": "7dc333a4-a681-4818-e61c-9414329abe1c",
        "colab": {
          "base_uri": "https://localhost:8080/",
          "height": 68
        }
      },
      "source": [
        "nltk.download('punkt')"
      ],
      "execution_count": 0,
      "outputs": [
        {
          "output_type": "stream",
          "text": [
            "[nltk_data] Downloading package punkt to /root/nltk_data...\n",
            "[nltk_data]   Unzipping tokenizers/punkt.zip.\n"
          ],
          "name": "stdout"
        },
        {
          "output_type": "execute_result",
          "data": {
            "text/plain": [
              "True"
            ]
          },
          "metadata": {
            "tags": []
          },
          "execution_count": 11
        }
      ]
    },
    {
      "cell_type": "code",
      "metadata": {
        "id": "UD2iRu4whD45",
        "colab_type": "code",
        "colab": {}
      },
      "source": [
        "# SPELLING CORRECTION\n",
        "# This will help us reduce multiple copies of words\n",
        "import textblob\n",
        "from textblob import TextBlob\n",
        "train['Phrase'].apply(lambda x: str(TextBlob(x).correct()))"
      ],
      "execution_count": 0,
      "outputs": []
    },
    {
      "cell_type": "code",
      "metadata": {
        "id": "7cYLScbnm8u7",
        "colab_type": "code",
        "outputId": "0a040567-128e-4029-f09c-5f6f2a73b391",
        "colab": {
          "base_uri": "https://localhost:8080/",
          "height": 34
        }
      },
      "source": [
        "# tokenization\n",
        "# tokenizations means splitting text into minimal meaningful units\n",
        "TextBlob(train['Phrase'][5]).words\n"
      ],
      "execution_count": 0,
      "outputs": [
        {
          "output_type": "execute_result",
          "data": {
            "text/plain": [
              "WordList(['escapadesdemonstratingadagegoodgoose'])"
            ]
          },
          "metadata": {
            "tags": []
          },
          "execution_count": 19
        }
      ]
    },
    {
      "cell_type": "code",
      "metadata": {
        "id": "D1D9pbNNY4bE",
        "colab_type": "code",
        "outputId": "a31e1276-0c6b-4736-cd28-724ad57fc03c",
        "colab": {
          "base_uri": "https://localhost:8080/",
          "height": 119
        }
      },
      "source": [
        "# Stemming\n",
        "# stemming is the process of extracting a root word\n",
        "from nltk.stem import PorterStemmer\n",
        "st = PorterStemmer()\n",
        "train['Phrase'][:5].apply(lambda x: \" \".join([st.stem(word) for word in x.split()]))\n"
      ],
      "execution_count": 0,
      "outputs": [
        {
          "output_type": "execute_result",
          "data": {
            "text/plain": [
              "0    seriesescapadesdemonstratingadagegoodgoosealso...\n",
              "1            seriesescapadesdemonstratingadagegoodgoos\n",
              "2                                                 seri\n",
              "3                                                     \n",
              "4                                                 seri\n",
              "Name: Phrase, dtype: object"
            ]
          },
          "metadata": {
            "tags": []
          },
          "execution_count": 15
        }
      ]
    },
    {
      "cell_type": "code",
      "metadata": {
        "id": "LHXra3IPhqrT",
        "colab_type": "code",
        "outputId": "c0299afb-006f-4d2b-c53b-b5f6ab246b7d",
        "colab": {
          "base_uri": "https://localhost:8080/",
          "height": 68
        }
      },
      "source": [
        "nltk.download('wordnet')"
      ],
      "execution_count": 0,
      "outputs": [
        {
          "output_type": "stream",
          "text": [
            "[nltk_data] Downloading package wordnet to /root/nltk_data...\n",
            "[nltk_data]   Unzipping corpora/wordnet.zip.\n"
          ],
          "name": "stdout"
        },
        {
          "output_type": "execute_result",
          "data": {
            "text/plain": [
              "True"
            ]
          },
          "metadata": {
            "tags": []
          },
          "execution_count": 19
        }
      ]
    },
    {
      "cell_type": "code",
      "metadata": {
        "id": "KhnZFUJ6ZnEt",
        "colab_type": "code",
        "outputId": "5ba5a2b7-396a-456e-8ed9-4175c1d2b053",
        "colab": {
          "base_uri": "https://localhost:8080/",
          "height": 221
        }
      },
      "source": [
        "# Lemmatization\n",
        "#  Lemmatization is a process of extracting a root word by considering the vocabulary.\n",
        "#  For example, “good,” “better,” or “best” is lemmatized into good. \n",
        "from textblob import Word\n",
        "train['Phrase']=train['Phrase'].apply(lambda x: \" \".join([Word(word). lemmatize() for word in x.split()]))\n",
        "train['Phrase']"
      ],
      "execution_count": 0,
      "outputs": [
        {
          "output_type": "execute_result",
          "data": {
            "text/plain": [
              "0         A series of escapade demonstrating the adage t...\n",
              "1         A series of escapade demonstrating the adage t...\n",
              "2                                                  A series\n",
              "3                                                         A\n",
              "4                                                    series\n",
              "                                ...                        \n",
              "156055                                            Hearst 's\n",
              "156056                             forced avuncular chortle\n",
              "156057                                    avuncular chortle\n",
              "156058                                            avuncular\n",
              "156059                                              chortle\n",
              "Name: Phrase, Length: 156060, dtype: object"
            ]
          },
          "metadata": {
            "tags": []
          },
          "execution_count": 21
        }
      ]
    },
    {
      "cell_type": "code",
      "metadata": {
        "id": "cmOkhBd3iF-8",
        "colab_type": "code",
        "outputId": "a6322d95-179a-467a-c0ab-4246228a0e65",
        "colab": {
          "base_uri": "https://localhost:8080/",
          "height": 34
        }
      },
      "source": [
        "# exploring the text data in phrase\n",
        "# to view exactly how many words are in the phrase \n",
        "len(train['Phrase'])\n"
      ],
      "execution_count": 0,
      "outputs": [
        {
          "output_type": "execute_result",
          "data": {
            "text/plain": [
              "156060"
            ]
          },
          "metadata": {
            "tags": []
          },
          "execution_count": 20
        }
      ]
    },
    {
      "cell_type": "code",
      "metadata": {
        "id": "C-CUawXZk5Dz",
        "colab_type": "code",
        "outputId": "d063ca10-421b-48ca-e4cc-316ef21d7f10",
        "colab": {
          "base_uri": "https://localhost:8080/",
          "height": 1000
        }
      },
      "source": [
        "# Compute the frequency of all words in the reviews\n",
        "\n",
        "frequency_dist = nltk.FreqDist(train['Phrase']) \n",
        "frequency_dist\n"
      ],
      "execution_count": 0,
      "outputs": [
        {
          "output_type": "execute_result",
          "data": {
            "text/plain": [
              "FreqDist({'seriesescapadesdemonstratingadagegoodgoosealsogoodganderoccasionallyamusesnoneamountsmuchstory': 1,\n",
              "          'seriesescapadesdemonstratingadagegoodgoose': 1,\n",
              "          'series': 11,\n",
              "          '': 1181,\n",
              "          'escapadesdemonstratingadagegoodgoose': 2,\n",
              "          'escapades': 1,\n",
              "          'demonstratingadagegoodgoose': 1,\n",
              "          'demonstratingadage': 1,\n",
              "          'demonstrating': 1,\n",
              "          'adage': 2,\n",
              "          'goodgoose': 4,\n",
              "          'good': 60,\n",
              "          'goose': 3,\n",
              "          'alsogoodganderoccasionallyamusesnoneamountsmuchstory': 2,\n",
              "          'also': 13,\n",
              "          'goodganderoccasionallyamusesnoneamountsmuchstory': 1,\n",
              "          'ganderoccasionallyamusesnoneamountsmuchstory': 2,\n",
              "          'gander': 3,\n",
              "          'occasionallyamusesnoneamountsmuchstory': 2,\n",
              "          'occasionally': 2,\n",
              "          'amusesnoneamountsmuchstory': 1,\n",
              "          'amuses': 1,\n",
              "          'noneamountsmuchstory': 2,\n",
              "          'none': 4,\n",
              "          'amountsmuchstory': 3,\n",
              "          'amounts': 1,\n",
              "          'muchstory': 2,\n",
              "          'much': 46,\n",
              "          'story': 42,\n",
              "          'quietintrospectiveentertainingindependentworthseeking': 1,\n",
              "          'quietintrospectiveentertainingindependent': 2,\n",
              "          'quietintrospectiveentertaining': 1,\n",
              "          'quiet': 5,\n",
              "          'introspectiveentertaining': 2,\n",
              "          'introspective': 2,\n",
              "          'entertaining': 27,\n",
              "          'independent': 2,\n",
              "          'worthseeking': 2,\n",
              "          'worth': 15,\n",
              "          'seeking': 1,\n",
              "          'evenfansismailmerchantworksuspectwouldhardtimesittingone': 1,\n",
              "          'evenfansismailmerchantwork': 1,\n",
              "          'evenfans': 1,\n",
              "          'even': 18,\n",
              "          'fans': 9,\n",
              "          'ismailmerchantwork': 2,\n",
              "          'ismailmerchant': 1,\n",
              "          'ismail': 1,\n",
              "          'merchant': 3,\n",
              "          'work': 45,\n",
              "          'suspectwouldhardtimesittingone': 1,\n",
              "          'suspect': 4,\n",
              "          'wouldhardtimesittingone': 2,\n",
              "          'would': 14,\n",
              "          'hardtimesittingone': 2,\n",
              "          'hardtime': 4,\n",
              "          'hard': 15,\n",
              "          'time': 58,\n",
              "          'sittingone': 3,\n",
              "          'sitting': 6,\n",
              "          'one': 61,\n",
              "          'positivelythrillingcombinationethnographyintriguebetrayaldeceitmurdershakespeareantragedyjuicysoapopera': 2,\n",
              "          'positivelythrillingcombinationethnographyintriguebetrayaldeceitmurder': 1,\n",
              "          'positivelythrillingcombination': 2,\n",
              "          'positively': 1,\n",
              "          'thrillingcombination': 1,\n",
              "          'thrilling': 2,\n",
              "          'combination': 4,\n",
              "          'ethnographyintriguebetrayaldeceitmurder': 2,\n",
              "          'ethnography': 2,\n",
              "          'intriguebetrayaldeceitmurder': 3,\n",
              "          'intrigue': 4,\n",
              "          'betrayaldeceitmurder': 2,\n",
              "          'betrayal': 2,\n",
              "          'deceitmurder': 2,\n",
              "          'deceit': 2,\n",
              "          'murder': 5,\n",
              "          'shakespeareantragedyjuicysoapopera': 2,\n",
              "          'shakespeareantragedy': 3,\n",
              "          'shakespearean': 1,\n",
              "          'tragedy': 8,\n",
              "          'juicysoapopera': 2,\n",
              "          'juicy': 1,\n",
              "          'soapopera': 4,\n",
              "          'soap': 2,\n",
              "          'opera': 7,\n",
              "          'aggressiveselfglorificationmanipulativewhitewash': 2,\n",
              "          'aggressive': 3,\n",
              "          'selfglorificationmanipulativewhitewash': 1,\n",
              "          'selfglorification': 2,\n",
              "          'manipulativewhitewash': 2,\n",
              "          'manipulative': 5,\n",
              "          'whitewash': 1,\n",
              "          'comedydramanearlyepicproportionsrootedsincereperformancetitlecharacterundergoingmidlifecrisis': 1,\n",
              "          'comedydramanearlyepicproportions': 1,\n",
              "          'comedydrama': 3,\n",
              "          'nearlyepicproportions': 2,\n",
              "          'nearlyepic': 1,\n",
              "          'nearly': 4,\n",
              "          'epic': 11,\n",
              "          'proportions': 1,\n",
              "          'rootedsincereperformancetitlecharacterundergoingmidlifecrisis': 2,\n",
              "          'rootedsincereperformance': 1,\n",
              "          'rooted': 1,\n",
              "          'sincereperformance': 3,\n",
              "          'sincere': 10,\n",
              "          'performance': 14,\n",
              "          'titlecharacterundergoingmidlifecrisis': 2,\n",
              "          'titlecharacter': 5,\n",
              "          'title': 17,\n",
              "          'character': 23,\n",
              "          'undergoingmidlifecrisis': 1,\n",
              "          'undergoing': 1,\n",
              "          'midlifecrisis': 1,\n",
              "          'midlife': 1,\n",
              "          'crisis': 2,\n",
              "          'narrativelytroubleeverydayploddingmess': 1,\n",
              "          'narratively': 1,\n",
              "          'troubleeverydayploddingmess': 2,\n",
              "          'troubleeveryday': 6,\n",
              "          'trouble': 16,\n",
              "          'everyday': 2,\n",
              "          'every': 4,\n",
              "          'day': 13,\n",
              "          'ploddingmess': 4,\n",
              "          'plodding': 4,\n",
              "          'mess': 12,\n",
              "          'importanceearnestthickwitplayslikereadingbartlettfamiliarquotations': 1,\n",
              "          'importance': 5,\n",
              "          'earnestthickwitplayslikereadingbartlettfamiliarquotations': 3,\n",
              "          'earnest': 10,\n",
              "          'thickwitplayslikereadingbartlettfamiliarquotations': 2,\n",
              "          'thick': 2,\n",
              "          'witplayslikereadingbartlettfamiliarquotations': 2,\n",
              "          'wit': 9,\n",
              "          'playslikereadingbartlettfamiliarquotations': 2,\n",
              "          'plays': 9,\n",
              "          'likereadingbartlettfamiliarquotations': 1,\n",
              "          'like': 27,\n",
              "          'readingbartlettfamiliarquotations': 1,\n",
              "          'reading': 2,\n",
              "          'bartlettfamiliarquotations': 2,\n",
              "          'bartlett': 2,\n",
              "          'familiarquotations': 1,\n",
              "          'familiar': 19,\n",
              "          'quotations': 1,\n",
              "          'nleavemuch': 4,\n",
              "          'n': 60,\n",
              "          'leavemuch': 1,\n",
              "          'leave': 4,\n",
              "          'couldhatereason': 3,\n",
              "          'could': 24,\n",
              "          'hatereason': 1,\n",
              "          'hate': 11,\n",
              "          'reason': 16,\n",
              "          'littlerecommendsnowdogsunlessoneconsidersclicheddialogueperverseescapismsourcehighhilarity': 3,\n",
              "          'littlerecommendsnowdogs': 3,\n",
              "          'little': 21,\n",
              "          'recommendsnowdogs': 2,\n",
              "          'recommend': 5,\n",
              "          'snowdogs': 4,\n",
              "          'snow': 2,\n",
              "          'dogs': 1,\n",
              "          'unlessoneconsidersclicheddialogueperverseescapismsourcehighhilarity': 1,\n",
              "          'unless': 1,\n",
              "          'oneconsidersclicheddialogueperverseescapismsourcehighhilarity': 1,\n",
              "          'considersclicheddialogueperverseescapismsourcehighhilarity': 1,\n",
              "          'considers': 1,\n",
              "          'clicheddialogueperverseescapismsourcehighhilarity': 1,\n",
              "          'clicheddialogueperverseescapism': 1,\n",
              "          'clicheddialogue': 2,\n",
              "          'cliched': 4,\n",
              "          'dialogue': 11,\n",
              "          'perverseescapism': 1,\n",
              "          'perverse': 1,\n",
              "          'escapism': 1,\n",
              "          'sourcehighhilarity': 1,\n",
              "          'source': 9,\n",
              "          'highhilarity': 2,\n",
              "          'high': 4,\n",
              "          'hilarity': 3,\n",
              "          'kungpowoedekerkrealizationchildhooddreammartialartsflickprovessometimesdreamsyouthremain': 1,\n",
              "          'kungpow': 2,\n",
              "          'kung': 1,\n",
              "          'pow': 1,\n",
              "          'oedekerkrealizationchildhooddreammartialartsflickprovessometimesdreamsyouthremain': 2,\n",
              "          'oedekerkrealizationchildhooddreammartialartsflick': 4,\n",
              "          'oedekerkrealizationchildhooddream': 1,\n",
              "          'oedekerkrealization': 1,\n",
              "          'oedekerk': 3,\n",
              "          'realization': 1,\n",
              "          'childhooddream': 3,\n",
              "          'childhood': 5,\n",
              "          'dream': 7,\n",
              "          'martialartsflick': 5,\n",
              "          'martialarts': 2,\n",
              "          'flick': 8,\n",
              "          'provessometimesdreamsyouthremain': 1,\n",
              "          'proves': 4,\n",
              "          'sometimesdreamsyouthremain': 2,\n",
              "          'sometimes': 4,\n",
              "          'dreamsyouthremain': 1,\n",
              "          'dreamsyouth': 1,\n",
              "          'dreams': 7,\n",
              "          'youth': 2,\n",
              "          'remain': 3,\n",
              "          'performancesabsolutejoy': 1,\n",
              "          'performances': 23,\n",
              "          'absolutejoy': 4,\n",
              "          'absolute': 1,\n",
              "          'joy': 6,\n",
              "          'fresnadillosomethingserioussaywaysextravagantchancedistortperspectivethrowuspathgoodsense': 1,\n",
              "          'fresnadillo': 1,\n",
              "          'somethingserioussaywaysextravagantchancedistortperspectivethrowuspathgoodsense': 3,\n",
              "          'something': 27,\n",
              "          'serioussaywaysextravagantchancedistortperspectivethrowuspathgoodsense': 1,\n",
              "          'serious': 3,\n",
              "          'saywaysextravagantchancedistortperspectivethrowuspathgoodsense': 2,\n",
              "          'say': 16,\n",
              "          'waysextravagantchancedistortperspectivethrowuspathgoodsense': 2,\n",
              "          'ways': 11,\n",
              "          'extravagantchancedistortperspectivethrowuspathgoodsense': 2,\n",
              "          'extravagantchance': 1,\n",
              "          'extravagant': 2,\n",
              "          'chance': 5,\n",
              "          'distortperspectivethrowuspathgoodsense': 2,\n",
              "          'distortperspective': 2,\n",
              "          'distort': 1,\n",
              "          'perspective': 5,\n",
              "          'throwuspathgoodsense': 1,\n",
              "          'throwus': 1,\n",
              "          'throw': 2,\n",
              "          'us': 20,\n",
              "          'pathgoodsense': 2,\n",
              "          'path': 2,\n",
              "          'goodsense': 2,\n",
              "          'sense': 19,\n",
              "          'stilllikemoonlightmilebetterjudgmentdamned': 2,\n",
              "          'still': 12,\n",
              "          'likemoonlightmilebetterjudgmentdamned': 2,\n",
              "          'moonlightmilebetterjudgmentdamned': 1,\n",
              "          'moonlightmilebetterjudgment': 1,\n",
              "          'moonlight': 1,\n",
              "          'milebetterjudgment': 1,\n",
              "          'mile': 2,\n",
              "          'betterjudgment': 2,\n",
              "          'better': 24,\n",
              "          'judgment': 2,\n",
              "          'damned': 9,\n",
              "          'welcomereliefbaseballmoviestryhardmythiconesweetmodestultimatelywinningstory': 1,\n",
              "          'welcomereliefbaseballmoviestryhardmythic': 1,\n",
              "          'welcomerelief': 2,\n",
              "          'welcome': 4,\n",
              "          'relief': 1,\n",
              "          'baseballmoviestryhardmythic': 2,\n",
              "          'baseballmovies': 1,\n",
              "          'baseball': 1,\n",
              "          'movies': 32,\n",
              "          'tryhardmythic': 2,\n",
              "          'try': 4,\n",
              "          'hardmythic': 2,\n",
              "          'mythic': 3,\n",
              "          'onesweetmodestultimatelywinningstory': 2,\n",
              "          'sweetmodestultimatelywinningstory': 3,\n",
              "          'sweetmodest': 3,\n",
              "          'sweet': 15,\n",
              "          'modest': 1,\n",
              "          'ultimatelywinningstory': 1,\n",
              "          'ultimately': 7,\n",
              "          'winningstory': 1,\n",
              "          'winning': 2,\n",
              "          'bilingualcharmerlikewomaninspired': 1,\n",
              "          'bilingualcharmer': 3,\n",
              "          'bilingual': 1,\n",
              "          'charmer': 4,\n",
              "          'likewomaninspired': 2,\n",
              "          'womaninspired': 1,\n",
              "          'woman': 9,\n",
              "          'inspired': 6,\n",
              "          'likelessdizzilygorgeouscompanionmrwongmoodlovemuchhongkongmoviedespitemainlandsetting': 1,\n",
              "          'likelessdizzilygorgeouscompanionmr': 1,\n",
              "          'lessdizzilygorgeouscompanionmr': 1,\n",
              "          'lessdizzilygorgeouscompanion': 2,\n",
              "          'lessdizzilygorgeous': 1,\n",
              "          'less': 13,\n",
              "          'dizzilygorgeous': 1,\n",
              "          'dizzily': 1,\n",
              "          'gorgeous': 3,\n",
              "          'companion': 1,\n",
              "          'mr': 2,\n",
              "          'wongmoodlovemuchhongkongmoviedespitemainlandsetting': 1,\n",
              "          'wong': 1,\n",
              "          'moodlovemuchhongkongmoviedespitemainlandsetting': 2,\n",
              "          'moodlovemuchhongkongmovie': 3,\n",
              "          'mood': 9,\n",
              "          'lovemuchhongkongmovie': 2,\n",
              "          'lovemuch': 1,\n",
              "          'love': 38,\n",
              "          'hongkongmovie': 2,\n",
              "          'hong': 1,\n",
              "          'kongmovie': 1,\n",
              "          'kong': 2,\n",
              "          'movie': 109,\n",
              "          'despitemainlandsetting': 1,\n",
              "          'despite': 2,\n",
              "          'mainlandsetting': 2,\n",
              "          'mainland': 1,\n",
              "          'setting': 6,\n",
              "          'ineptbigscreenremakesavengerswildwildwest': 2,\n",
              "          'inept': 4,\n",
              "          'bigscreenremakesavengerswildwildwest': 2,\n",
              "          'bigscreenremakes': 1,\n",
              "          'bigscreen': 7,\n",
              "          'remakes': 1,\n",
              "          'avengerswildwildwest': 2,\n",
              "          'avengers': 3,\n",
              "          'wildwildwest': 2,\n",
              "          'wild': 4,\n",
              "          'wildwest': 1,\n",
              "          'west': 2,\n",
              "          'everythingexpectnothing': 4,\n",
              "          'everything': 6,\n",
              "          'expectnothing': 4,\n",
              "          'expect': 11,\n",
              "          'nothing': 33,\n",
              "          'bestindieyearfar': 1,\n",
              "          'best': 39,\n",
              "          'indieyearfar': 2,\n",
              "          'indieyear': 2,\n",
              "          'indie': 2,\n",
              "          'year': 15,\n",
              "          'far': 26,\n",
              "          'hatfieldhicksmakeoddestcouplessensemoviebecomesstudygamblespublishingworldofferingcasestudyexistsapartmoviepoliticalramifications': 2,\n",
              "          'hatfieldhicksmakeoddestcouples': 3,\n",
              "          'hatfieldhicks': 1,\n",
              "          'hatfield': 2,\n",
              "          'hicks': 1,\n",
              "          'makeoddestcouples': 1,\n",
              "          'make': 22,\n",
              "          'oddestcouples': 1,\n",
              "          'oddest': 3,\n",
              "          'couples': 3,\n",
              "          'sensemoviebecomesstudygamblespublishingworldofferingcasestudyexistsapartmoviepoliticalramifications': 1,\n",
              "          'moviebecomesstudygamblespublishingworldofferingcasestudyexistsapartmoviepoliticalramifications': 1,\n",
              "          'becomesstudygamblespublishingworldofferingcasestudyexistsapartmoviepoliticalramifications': 1,\n",
              "          'becomesstudygamblespublishingworld': 2,\n",
              "          'becomes': 1,\n",
              "          'studygamblespublishingworld': 1,\n",
              "          'study': 8,\n",
              "          'gamblespublishingworld': 2,\n",
              "          'gambles': 2,\n",
              "          'publishingworld': 3,\n",
              "          'publishing': 1,\n",
              "          'world': 18,\n",
              "          'offeringcasestudyexistsapartmoviepoliticalramifications': 1,\n",
              "          'offering': 2,\n",
              "          'casestudyexistsapartmoviepoliticalramifications': 1,\n",
              "          'casestudy': 2,\n",
              "          'case': 9,\n",
              "          'existsapartmoviepoliticalramifications': 2,\n",
              "          'existsapart': 1,\n",
              "          'exists': 4,\n",
              "          'apart': 3,\n",
              "          'moviepoliticalramifications': 3,\n",
              "          'politicalramifications': 1,\n",
              "          'political': 2,\n",
              "          'ramifications': 1,\n",
              "          'likegoinghousepartywatchinghostdefendfrothingexgirlfriend': 4,\n",
              "          'goinghousepartywatchinghostdefendfrothingexgirlfriend': 1,\n",
              "          'goinghouseparty': 2,\n",
              "          'going': 24,\n",
              "          'houseparty': 3,\n",
              "          'house': 5,\n",
              "          'party': 5,\n",
              "          'watchinghostdefendfrothingexgirlfriend': 1,\n",
              "          'watching': 15,\n",
              "          'hostdefendfrothingexgirlfriend': 1,\n",
              "          'host': 3,\n",
              "          'defendfrothingexgirlfriend': 1,\n",
              "          'defend': 2,\n",
              "          'frothingexgirlfriend': 3,\n",
              "          'frothing': 1,\n",
              "          'exgirlfriend': 1,\n",
              "          'chucknorrisgrenadegagoccurs7timeswindtalkersgoodindicationseriousmindedfilm': 1,\n",
              "          'chucknorrisgrenadegag': 3,\n",
              "          'chuck': 1,\n",
              "          'norrisgrenadegag': 1,\n",
              "          'norris': 1,\n",
              "          'grenadegag': 2,\n",
              "          'grenade': 2,\n",
              "          'gag': 4,\n",
              "          'occurs7timeswindtalkersgoodindicationseriousmindedfilm': 2,\n",
              "          'occurs': 1,\n",
              "          '7timeswindtalkersgoodindicationseriousmindedfilm': 1,\n",
              "          '7timeswindtalkers': 1,\n",
              "          '7times': 2,\n",
              "          '7': 2,\n",
              "          'times': 20,\n",
              "          'windtalkers': 3,\n",
              "          'goodindicationseriousmindedfilm': 2,\n",
              "          'goodindication': 2,\n",
              "          'indication': 5,\n",
              "          'seriousmindedfilm': 4,\n",
              "          'seriousminded': 2,\n",
              "          'film': 95,\n",
              "          'plotromanticcomedyboilerplatestartfinish': 1,\n",
              "          'plot': 25,\n",
              "          'romanticcomedyboilerplatestartfinish': 3,\n",
              "          'romanticcomedyboilerplatestart': 1,\n",
              "          'romanticcomedyboilerplate': 1,\n",
              "          'romantic': 7,\n",
              "          'comedyboilerplate': 1,\n",
              "          'comedy': 28,\n",
              "          'boilerplate': 1,\n",
              "          'start': 8,\n",
              "          'finish': 3,\n",
              "          'arrivesimpeccablepedigreemongrelpepalmostindecipherableplotcomplications': 3,\n",
              "          'arrives': 4,\n",
              "          'impeccablepedigreemongrelpepalmostindecipherableplotcomplications': 2,\n",
              "          'impeccablepedigreemongrelpepalmost': 1,\n",
              "          'impeccablepedigreemongrelpep': 4,\n",
              "          'impeccable': 1,\n",
              "          'pedigreemongrelpep': 1,\n",
              "          'pedigree': 3,\n",
              "          'mongrelpep': 2,\n",
              "          'mongrel': 1,\n",
              "          'pep': 1,\n",
              "          'almost': 7,\n",
              "          'indecipherableplotcomplications': 1,\n",
              "          'indecipherable': 1,\n",
              "          'plotcomplications': 2,\n",
              "          'complications': 6,\n",
              "          'filmclearlymeanspreachexclusivelyconverted': 1,\n",
              "          'filmclearlymeans': 1,\n",
              "          'clearlymeans': 2,\n",
              "          'clearly': 2,\n",
              "          'means': 10,\n",
              "          'preachexclusivelyconverted': 2,\n",
              "          'preachexclusively': 1,\n",
              "          'preach': 1,\n",
              "          'exclusively': 1,\n",
              "          'converted': 3,\n",
              "          'importanceearnestoffersopportunitiesoccasionalsmileschucklesngiveusreasontheaterbeyondwildewitactorsperformances': 1,\n",
              "          'importanceearnestoffersopportunitiesoccasionalsmileschuckles': 2,\n",
              "          'importanceearnest': 3,\n",
              "          'offersopportunitiesoccasionalsmileschuckles': 1,\n",
              "          'offersopportunitiesoccasionalsmiles': 2,\n",
              "          'offers': 2,\n",
              "          'opportunitiesoccasionalsmiles': 1,\n",
              "          'opportunities': 1,\n",
              "          'occasionalsmiles': 2,\n",
              "          'occasional': 1,\n",
              "          'smiles': 2,\n",
              "          'chuckles': 5,\n",
              "          'ngiveusreasontheaterbeyondwildewitactorsperformances': 4,\n",
              "          'giveusreasontheaterbeyondwildewitactorsperformances': 1,\n",
              "          'giveus': 1,\n",
              "          'give': 10,\n",
              "          'reasontheaterbeyondwildewitactorsperformances': 2,\n",
              "          'theaterbeyondwildewitactorsperformances': 2,\n",
              "          'theater': 8,\n",
              "          'beyondwildewitactorsperformances': 1,\n",
              "          'beyond': 6,\n",
              "          'wildewitactorsperformances': 1,\n",
              "          'wildewit': 2,\n",
              "          'wilde': 5,\n",
              "          'actorsperformances': 1,\n",
              "          'actors': 26,\n",
              "          'latestvapidactorexerciseappropriatestructurearthurschnitzlerreigen': 1,\n",
              "          'latest': 3,\n",
              "          'vapidactorexerciseappropriatestructurearthurschnitzlerreigen': 2,\n",
              "          'vapidactorexercise': 1,\n",
              "          'vapid': 2,\n",
              "          'actorexercise': 1,\n",
              "          'actor': 8,\n",
              "          'exercise': 7,\n",
              "          'appropriatestructurearthurschnitzlerreigen': 2,\n",
              "          'appropriatestructure': 1,\n",
              "          'appropriate': 3,\n",
              "          'structure': 3,\n",
              "          'arthurschnitzlerreigen': 2,\n",
              "          'arthurschnitzler': 1,\n",
              "          'arthur': 1,\n",
              "          'schnitzler': 2,\n",
              "          'reigen': 1,\n",
              "          'vaudevilleshowwellconstructednarrativetermsinoffensiveactuallyrathersweet': 2,\n",
              "          'vaudevilleshowwellconstructednarrative': 3,\n",
              "          'vaudeville': 3,\n",
              "          'showwellconstructednarrative': 1,\n",
              "          'show': 14,\n",
              "          'wellconstructednarrative': 2,\n",
              "          'wellconstructed': 1,\n",
              "          'narrative': 8,\n",
              "          'termsinoffensiveactuallyrathersweet': 1,\n",
              "          'terms': 7,\n",
              "          'inoffensiveactuallyrathersweet': 3,\n",
              "          'inoffensiveactually': 1,\n",
              "          'inoffensive': 3,\n",
              "          'actually': 12,\n",
              "          'rathersweet': 1,\n",
              "          'rather': 7,\n",
              "          'nothingrunmillactionflick': 1,\n",
              "          'runmillactionflick': 1,\n",
              "          'runmillaction': 4,\n",
              "          'runmill': 3,\n",
              "          'action': 14,\n",
              "          'hamperedparalyzedselfindulgentscriptaimspoetryendssoundinglikesatire': 2,\n",
              "          'hamperedparalyzedselfindulgentscript': 2,\n",
              "          'hamperedparalyzed': 1,\n",
              "          'hampered': 1,\n",
              "          'paralyzed': 5,\n",
              "          'selfindulgentscript': 3,\n",
              "          'selfindulgent': 2,\n",
              "          'script': 18,\n",
              "          'aimspoetryendssoundinglikesatire': 2,\n",
              "          'aimspoetry': 2,\n",
              "          'aims': 1,\n",
              "          'poetry': 5,\n",
              "          'endssoundinglikesatire': 1,\n",
              "          'ends': 9,\n",
              "          'soundinglikesatire': 1,\n",
              "          'sounding': 1,\n",
              "          'likesatire': 1,\n",
              "          'satire': 2,\n",
              "          'iceagefirstcomputergeneratedfeaturecartoonfeellikemoviesmakesglacialpacingearly': 2,\n",
              "          'iceagefirstcomputergeneratedfeaturecartoonfeellikemovies': 3,\n",
              "          'iceage': 1,\n",
              "          'ice': 5,\n",
              "          'age': 7,\n",
              "          'firstcomputergeneratedfeaturecartoonfeellikemovies': 2,\n",
              "          'firstcomputergeneratedfeaturecartoon': 2,\n",
              "          'first': 7,\n",
              "          'computergeneratedfeaturecartoon': 1,\n",
              "          'computergenerated': 1,\n",
              "          'featurecartoon': 1,\n",
              "          'feature': 4,\n",
              "          'cartoon': 7,\n",
              "          'feellikemovies': 2,\n",
              "          'feel': 9,\n",
              "          'likemovies': 1,\n",
              "          'makesglacialpacingearly': 2,\n",
              "          'makesglacialpacing': 1,\n",
              "          'makes': 10,\n",
              "          'glacialpacing': 3,\n",
              "          'glacial': 1,\n",
              "          'pacing': 3,\n",
              "          'early': 3,\n",
              "          'littlesensegoingmakersserveclichesconsiderabledash': 2,\n",
              "          'littlesensegoing': 5,\n",
              "          'littlesense': 1,\n",
              "          'makersserveclichesconsiderabledash': 1,\n",
              "          'makers': 7,\n",
              "          'serveclichesconsiderabledash': 1,\n",
              "          'serve': 2,\n",
              "          'clichesconsiderabledash': 1,\n",
              "          'cliches': 6,\n",
              "          'considerabledash': 2,\n",
              "          'considerable': 1,\n",
              "          'dash': 2,\n",
              "          'cattaneofollowedrunawaysuccessfirstfilmfullmontysomethingdifferent': 1,\n",
              "          'cattaneo': 1,\n",
              "          'followedrunawaysuccessfirstfilmfullmontysomethingdifferent': 4,\n",
              "          'followedrunawaysuccessfirstfilmfullmonty': 1,\n",
              "          'followed': 2,\n",
              "          'runawaysuccessfirstfilmfullmonty': 1,\n",
              "          'runawaysuccess': 2,\n",
              "          'runaway': 1,\n",
              "          'success': 8,\n",
              "          'firstfilmfullmonty': 3,\n",
              "          'firstfilm': 9,\n",
              "          'fullmonty': 7,\n",
              "          'full': 4,\n",
              "          'monty': 2,\n",
              "          'somethingdifferent': 3,\n",
              "          'different': 5,\n",
              "          'unnamedeasilysubstitutableforcesservewhateverterrorheroeshorrormoviestryavoid': 4,\n",
              "          'unnamedeasilysubstitutableforces': 2,\n",
              "          'unnamedeasilysubstitutable': 1,\n",
              "          'unnamed': 1,\n",
              "          'easilysubstitutable': 2,\n",
              "          'easily': 8,\n",
              "          'substitutable': 1,\n",
              "          'forces': 2,\n",
              "          'servewhateverterrorheroeshorrormoviestryavoid': 2,\n",
              "          'whateverterrorheroeshorrormoviestryavoid': 2,\n",
              "          'whatever': 2,\n",
              "          'terrorheroeshorrormoviestryavoid': 1,\n",
              "          'terror': 1,\n",
              "          'heroeshorrormoviestryavoid': 1,\n",
              "          'heroeshorrormovies': 1,\n",
              "          'heroes': 2,\n",
              "          'horrormovies': 2,\n",
              "          'horror': 4,\n",
              "          'tryavoid': 1,\n",
              "          'avoid': 2,\n",
              "          'almostfeelsmovieinterestedentertainingamusingus': 2,\n",
              "          'feelsmovieinterestedentertainingamusingus': 2,\n",
              "          'feels': 5,\n",
              "          'movieinterestedentertainingamusingus': 3,\n",
              "          'interestedentertainingamusingus': 2,\n",
              "          'interestedentertaining': 2,\n",
              "          'interested': 8,\n",
              "          'amusingus': 3,\n",
              "          'amusing': 11,\n",
              "          'movieprogressionramblingincoherencegivesnewmeaningphrasefatalscripterror': 1,\n",
              "          'movieprogressionramblingincoherence': 1,\n",
              "          'movieprogression': 1,\n",
              "          'progression': 1,\n",
              "          'ramblingincoherence': 2,\n",
              "          'rambling': 2,\n",
              "          'incoherence': 2,\n",
              "          'givesnewmeaningphrasefatalscripterror': 3,\n",
              "          'givesnewmeaning': 1,\n",
              "          'gives': 8,\n",
              "          'newmeaning': 1,\n",
              "          'new': 9,\n",
              "          'meaning': 4,\n",
              "          'phrasefatalscripterror': 3,\n",
              "          'phrase': 2,\n",
              "          'fatalscripterror': 2,\n",
              "          'fatal': 1,\n",
              "          'scripterror': 1,\n",
              "          'error': 1,\n",
              "          'njudgeonesoondarkgrittystorytakestotallyunexpecteddirectionskeepsgoing': 2,\n",
              "          'njudgeonesoon': 2,\n",
              "          'judgeonesoon': 1,\n",
              "          'judgeone': 1,\n",
              "          'judge': 2,\n",
              "          'soon': 4,\n",
              "          'darkgrittystorytakestotallyunexpecteddirectionskeepsgoing': 1,\n",
              "          'darkgrittystory': 5,\n",
              "          'dark': 14,\n",
              "          'grittystory': 2,\n",
              "          'gritty': 1,\n",
              "          'takestotallyunexpecteddirectionskeepsgoing': 2,\n",
              "          'takestotallyunexpecteddirections': 2,\n",
              "          'takes': 8,\n",
              "          'totallyunexpecteddirections': 2,\n",
              "          'totallyunexpected': 1,\n",
              "          'totally': 1,\n",
              "          'unexpected': 2,\n",
              "          'directions': 2,\n",
              "          'keepsgoing': 1,\n",
              "          'keeps': 5,\n",
              "          'couldyoungromanticsdate': 3,\n",
              "          'youngromanticsdate': 1,\n",
              "          'youngromantics': 1,\n",
              "          'young': 3,\n",
              "          'romantics': 1,\n",
              "          'date': 9,\n",
              "          'tartakovskyteamfreakishpowersvisualcharmfivewritersslipmodernrutnarrativebanality': 2,\n",
              "          'tartakovskyteamfreakishpowersvisualcharm': 3,\n",
              "          'tartakovskyteam': 1,\n",
              "          'tartakovsky': 2,\n",
              "          'team': 8,\n",
              "          'freakishpowersvisualcharm': 2,\n",
              "          'freakishpowers': 2,\n",
              "          'freakish': 1,\n",
              "          'powers': 5,\n",
              "          'visualcharm': 2,\n",
              "          'visual': 1,\n",
              "          'charm': 12,\n",
              "          'fivewritersslipmodernrutnarrativebanality': 1,\n",
              "          'fivewriters': 2,\n",
              "          'five': 3,\n",
              "          'writers': 6,\n",
              "          'slipmodernrutnarrativebanality': 1,\n",
              "          'slip': 2,\n",
              "          'modernrutnarrativebanality': 2,\n",
              "          'modernrut': 2,\n",
              "          'modern': 1,\n",
              "          'rut': 2,\n",
              "          'narrativebanality': 2,\n",
              "          'banality': 2,\n",
              "          'vincentgallorighthomefrenchshockerplayingusualbadboyweirdorole': 1,\n",
              "          'vincentgallo': 2,\n",
              "          'vincent': 2,\n",
              "          'gallo': 1,\n",
              "          'righthomefrenchshockerplayingusualbadboyweirdorole': 2,\n",
              "          'righthomefrenchshocker': 2,\n",
              "          'righthome': 1,\n",
              "          'right': 27,\n",
              "          'home': 11,\n",
              "          'frenchshocker': 3,\n",
              "          'french': 5,\n",
              "          'shocker': 1,\n",
              "          'playingusualbadboyweirdorole': 1,\n",
              "          'playing': 7,\n",
              "          'usualbadboyweirdorole': 2,\n",
              "          'usual': 6,\n",
              "          'badboyweirdorole': 1,\n",
              "          'bad': 41,\n",
              "          'boyweirdorole': 1,\n",
              "          'boy': 10,\n",
              "          'weirdorole': 1,\n",
              "          'weirdo': 1,\n",
              "          'role': 13,\n",
              "          'horrormovieprimarygoalfrightendisturbworksspectacularlywellshiverinducingnerverattlingride': 1,\n",
              "          'horrormovieprimarygoalfrightendisturb': 2,\n",
              "          'horrormovieprimarygoal': 1,\n",
              "          'horrormovie': 7,\n",
              "          'primarygoal': 2,\n",
              "          'primary': 1,\n",
              "          'goal': 1,\n",
              "          'frightendisturb': 3,\n",
              "          'frighten': 2,\n",
              "          'disturb': 1,\n",
              "          'worksspectacularlywellshiverinducingnerverattlingride': 5,\n",
              "          'worksspectacularlywell': 2,\n",
              "          'works': 21,\n",
              "          'spectacularlywell': 1,\n",
              "          'spectacularly': 1,\n",
              "          'well': 30,\n",
              "          'shiverinducingnerverattlingride': 1,\n",
              "          'shiverinducing': 3,\n",
              "          'nerverattlingride': 1,\n",
              "          'nerverattling': 1,\n",
              "          'ride': 9,\n",
              "          '100minutemovie25minutesdecentmaterial': 1,\n",
              "          '100minutemovie': 2,\n",
              "          '100minute': 1,\n",
              "          '25minutesdecentmaterial': 4,\n",
              "          '25minutes': 1,\n",
              "          '25': 5,\n",
              "          'minutes': 6,\n",
              "          'decentmaterial': 2,\n",
              "          'decent': 3,\n",
              "          'material': 20,\n",
              "          'fortunatelystilloption': 1,\n",
              "          'fortunately': 1,\n",
              "          'stilloption': 3,\n",
              "          'option': 4,\n",
              "          'lesssensationaltruecrimehelljauntpuristsmightlikeexperimentalstorytellinglrbthoughlesshorrifyingrrb': 1,\n",
              "          'sensationaltruecrimehelljauntpuristsmightlikeexperimentalstorytellinglrbthoughlesshorrifyingrrb': 2,\n",
              "          'sensationaltruecrimehelljauntpuristsmightlikeexperimentalstorytelling': 1,\n",
              "          'sensationaltruecrime': 2,\n",
              "          'sensational': 5,\n",
              "          'truecrime': 1,\n",
              "          'helljauntpuristsmightlikeexperimentalstorytelling': 1,\n",
              "          'helljauntpurists': 1,\n",
              "          'helljaunt': 1,\n",
              "          'purists': 1,\n",
              "          'mightlikeexperimentalstorytelling': 1,\n",
              "          'might': 12,\n",
              "          'likeexperimentalstorytelling': 1,\n",
              "          'experimentalstorytelling': 1,\n",
              "          'experimental': 2,\n",
              "          'storytelling': 11,\n",
              "          'lrbthoughlesshorrifyingrrb': 1,\n",
              "          'lrb': 4,\n",
              "          'thoughlesshorrifyingrrb': 1,\n",
              "          'though': 5,\n",
              "          'lesshorrifyingrrb': 1,\n",
              "          'lesshorrifying': 1,\n",
              "          'horrifying': 3,\n",
              "          'rrb': 22,\n",
              "          'trickysatisfyingdavidmametairlesscinematicshellgames': 1,\n",
              "          'trickysatisfyingdavid': 2,\n",
              "          'trickysatisfying': 1,\n",
              "          'tricky': 2,\n",
              "          'satisfying': 3,\n",
              "          'david': 6,\n",
              "          'mametairlesscinematicshellgames': 1,\n",
              "          'mamet': 5,\n",
              "          'airlesscinematicshellgames': 2,\n",
              "          'airless': 1,\n",
              "          'cinematicshellgames': 1,\n",
              "          'cinematic': 2,\n",
              "          'shellgames': 1,\n",
              "          'shell': 1,\n",
              "          'games': 6,\n",
              "          'surefilmmakerwoulddisagreehonestlynseepoint': 4,\n",
              "          'sure': 13,\n",
              "          'filmmakerwoulddisagreehonestlynseepoint': 1,\n",
              "          'filmmakerwoulddisagree': 4,\n",
              "          'filmmaker': 6,\n",
              "          'woulddisagree': 1,\n",
              "          'disagree': 1,\n",
              "          'honestlynseepoint': 1,\n",
              "          'honestly': 3,\n",
              "          'nseepoint': 3,\n",
              "          'seepoint': 1,\n",
              "          'see': 37,\n",
              "          'point': 22,\n",
              "          'jonestackledmeatysubjectdrawnengagingcharacterspepperingpagesmemorablezingers': 1,\n",
              "          'jones': 3,\n",
              "          'tackledmeatysubjectdrawnengagingcharacterspepperingpagesmemorablezingers': 3,\n",
              "          'tackledmeatysubject': 2,\n",
              "          'tackled': 1,\n",
              "          'meatysubject': 2,\n",
              "          'meaty': 1,\n",
              "          'subject': 25,\n",
              "          'drawnengagingcharacterspepperingpagesmemorablezingers': 1,\n",
              "          'drawnengagingcharacters': 1,\n",
              "          'drawn': 2,\n",
              "          'engagingcharacters': 1,\n",
              "          'engaging': 11,\n",
              "          'characters': 57,\n",
              "          'pepperingpagesmemorablezingers': 2,\n",
              "          'pepperingpages': 1,\n",
              "          'peppering': 1,\n",
              "          'pages': 2,\n",
              "          'memorablezingers': 2,\n",
              "          'memorable': 10,\n",
              "          'zingers': 3,\n",
              "          'bloodysundaygracecallpreventionratherplaceblamemakingonebestwarmoviesevermade': 1,\n",
              "          'bloodysunday': 1,\n",
              "          'bloody': 2,\n",
              "          'sunday': 1,\n",
              "          'gracecallpreventionratherplaceblamemakingonebestwarmoviesevermade': 4,\n",
              "          'grace': 4,\n",
              "          'callpreventionratherplaceblamemakingonebestwarmoviesevermade': 2,\n",
              "          'callpreventionratherplaceblame': 2,\n",
              "          'call': 6,\n",
              "          'preventionratherplaceblame': 1,\n",
              "          'preventionrather': 1,\n",
              "          'prevention': 2,\n",
              "          'placeblame': 2,\n",
              "          'place': 18,\n",
              "          'blame': 7,\n",
              "          'makingonebestwarmoviesevermade': 1,\n",
              "          'making': 17,\n",
              "          'onebestwarmoviesevermade': 2,\n",
              "          'bestwarmoviesevermade': 2,\n",
              "          'bestwarmovies': 2,\n",
              "          'warmovies': 3,\n",
              "          'war': 8,\n",
              "          'evermade': 3,\n",
              "          'ever': 22,\n",
              "          'made': 27,\n",
              "          'takesclunkytvmovieapproachdetailingchapterlifecelebratedirishplaywrightpoetdrinker': 2,\n",
              "          'clunkytvmovieapproachdetailingchapterlifecelebratedirishplaywrightpoetdrinker': 1,\n",
              "          'clunkytvmovieapproach': 2,\n",
              "          'clunkytvmovie': 1,\n",
              "          'clunky': 1,\n",
              "          'tvmovie': 2,\n",
              "          'approach': 5,\n",
              "          'detailingchapterlifecelebratedirishplaywrightpoetdrinker': 2,\n",
              "          'detailingchapter': 1,\n",
              "          'detailing': 1,\n",
              "          'chapter': 2,\n",
              "          'lifecelebratedirishplaywrightpoetdrinker': 2,\n",
              "          'life': 40,\n",
              "          'celebratedirishplaywrightpoetdrinker': 3,\n",
              "          'celebrated': 1,\n",
              "          'irishplaywrightpoetdrinker': 1,\n",
              "          'irish': 3,\n",
              "          'playwrightpoetdrinker': 1,\n",
              "          'playwright': 1,\n",
              "          'poetdrinker': 2,\n",
              "          'poet': 2,\n",
              "          'drinker': 1,\n",
              "          'finallycomingmiramaxdeepshelvescoupleabortedattemptswakingrenomakesstrongcaselettingsleepingdogslie': 1,\n",
              "          'finally': 6,\n",
              "          'comingmiramaxdeepshelvescoupleabortedattemptswakingrenomakesstrongcaselettingsleepingdogslie': 2,\n",
              "          'comingmiramaxdeepshelvescoupleabortedattemptswakingrenomakes': 1,\n",
              "          'comingmiramaxdeepshelvescoupleabortedattemptswakingreno': 1,\n",
              "          'comingmiramaxdeepshelvescoupleabortedattempts': 2,\n",
              "          'comingmiramaxdeepshelves': 1,\n",
              "          'coming': 12,\n",
              "          'miramaxdeepshelves': 2,\n",
              "          'miramax': 2,\n",
              "          'deepshelves': 1,\n",
              "          'deep': 9,\n",
              "          'shelves': 1,\n",
              "          'coupleabortedattempts': 2,\n",
              "          'couple': 6,\n",
              "          'abortedattempts': 2,\n",
              "          'aborted': 1,\n",
              "          'attempts': 6,\n",
              "          'wakingreno': 6,\n",
              "          'waking': 2,\n",
              "          'reno': 4,\n",
              "          'strongcaselettingsleepingdogslie': 1,\n",
              "          'strongcase': 2,\n",
              "          'strong': 6,\n",
              "          'lettingsleepingdogslie': 2,\n",
              "          'letting': 2,\n",
              "          'sleepingdogslie': 1,\n",
              "          'sleepingdogs': 1,\n",
              "          'sleeping': 1,\n",
              "          'lie': 7,\n",
              "          'thankslargelywilliamsinterestingdevelopmentsprocessed60minutesrestoverexposedwastefilm': 2,\n",
              "          'thankslargelywilliamsinterestingdevelopmentsprocessed60minutes': 2,\n",
              "          'thankslargelywilliams': 1,\n",
              "          'thankslargely': 1,\n",
              "          'thanks': 3,\n",
              "          'largely': 1,\n",
              "          'williams': 4,\n",
              "          'interestingdevelopmentsprocessed60minutes': 2,\n",
              "          'interestingdevelopments': 3,\n",
              "          'interesting': 31,\n",
              "          'developments': 1,\n",
              "          'processed60minutes': 2,\n",
              "          'processed': 1,\n",
              "          '60minutes': 2,\n",
              "          '60': 1,\n",
              "          'restoverexposedwastefilm': 1,\n",
              "          'rest': 8,\n",
              "          'overexposedwastefilm': 2,\n",
              "          'overexposedwaste': 2,\n",
              "          'overexposed': 4,\n",
              "          'waste': 8,\n",
              "          'comesacrossrelicbygoneeraconvolutionsfeelsillyratherplausible': 2,\n",
              "          'comesacross': 2,\n",
              "          'comes': 6,\n",
              "          'across': 2,\n",
              "          'relicbygoneeraconvolutionsfeelsillyratherplausible': 2,\n",
              "          'relicbygoneeraconvolutionsfeel': 2,\n",
              "          'relicbygoneeraconvolutions': 1,\n",
              "          'relic': 1,\n",
              "          'bygoneeraconvolutions': 3,\n",
              "          'bygoneera': 5,\n",
              "          'bygone': 1,\n",
              "          'era': 6,\n",
              "          'convolutions': 2,\n",
              "          'sillyratherplausible': 1,\n",
              "          'sillyrather': 1,\n",
              "          'silly': 9,\n",
              "          'plausible': 1,\n",
              "          'perhapsclichecallfilmrefreshing': 6,\n",
              "          'perhaps': 6,\n",
              "          'clichecallfilmrefreshing': 3,\n",
              "          'cliche': 7,\n",
              "          'callfilmrefreshing': 2,\n",
              "          'filmrefreshing': 1,\n",
              "          'refreshing': 8,\n",
              "          'leadperformancesoscarsize': 1,\n",
              "          'leadperformances': 4,\n",
              "          'lead': 5,\n",
              "          'oscarsize': 3,\n",
              "          'runlives': 2,\n",
              "          'run': 5,\n",
              "          'lives': 18,\n",
              "          'markpellingtonlatestpopthrillerkookyovereagerspookysubtlylovemyth': 1,\n",
              "          'markpellingtonlatestpopthriller': 1,\n",
              "          'markpellington': 2,\n",
              "          'mark': 6,\n",
              "          'pellington': 2,\n",
              "          'latestpopthriller': 1,\n",
              "          'popthriller': 1,\n",
              "          'pop': 3,\n",
              "          'thriller': 9,\n",
              "          'kookyovereagerspookysubtlylovemyth': 4,\n",
              "          'kookyovereager': 1,\n",
              "          'kooky': 2,\n",
              "          'overeager': 1,\n",
              "          'spookysubtlylovemyth': 3,\n",
              "          'spookysubtly': 2,\n",
              "          'spooky': 3,\n",
              "          'subtly': 4,\n",
              "          'lovemyth': 2,\n",
              "          'myth': 5,\n",
              "          'claudechabrolcamerawaygentlyswayingbackforthcradlescharactersveilingtensionbeneathotherwisetendermovements': 1,\n",
              "          'claudechabrolcamera': 1,\n",
              "          'claudechabrol': 3,\n",
              "          'claude': 1,\n",
              "          'chabrol': 2,\n",
              "          'camera': 12,\n",
              "          'waygentlyswayingbackforthcradlescharactersveilingtensionbeneathotherwisetendermovements': 3,\n",
              "          'way': 48,\n",
              "          'gentlyswayingbackforthcradlescharactersveilingtensionbeneathotherwisetendermovements': 2,\n",
              "          'gently': 1,\n",
              "          'swayingbackforthcradlescharactersveilingtensionbeneathotherwisetendermovements': 1,\n",
              "          'swayingbackforth': 1,\n",
              "          'swaying': 1,\n",
              "          'backforth': 1,\n",
              "          'back': 12,\n",
              "          'forth': 1,\n",
              "          'cradlescharactersveilingtensionbeneathotherwisetendermovements': 3,\n",
              "          'cradlescharacters': 2,\n",
              "          'cradles': 1,\n",
              "          'veilingtensionbeneathotherwisetendermovements': 1,\n",
              "          'veilingtension': 1,\n",
              "          'veiling': 1,\n",
              "          'tension': 5,\n",
              "          'beneathotherwisetendermovements': 1,\n",
              "          'beneath': 2,\n",
              "          'otherwisetendermovements': 1,\n",
              "          'otherwise': 4,\n",
              "          'tendermovements': 1,\n",
              "          'tender': 3,\n",
              "          'movements': 1,\n",
              "          'transformsonelrbshakespearerrbdeepesttragediessmartnewcomedy': 2,\n",
              "          'transformsonelrbshakespearerrbdeepesttragedies': 1,\n",
              "          'transformsone': 1,\n",
              "          'transforms': 1,\n",
              "          'lrbshakespearerrbdeepesttragedies': 2,\n",
              "          'lrbshakespearerrb': 1,\n",
              "          'shakespearerrb': 1,\n",
              "          'shakespeare': 3,\n",
              "          'deepesttragedies': 1,\n",
              "          'deepest': 3,\n",
              "          'tragedies': 3,\n",
              "          'smartnewcomedy': 3,\n",
              "          'smart': 18,\n",
              "          'newcomedy': 1,\n",
              "          'screenplayjamesericjameshortondirectorpeterfallonpatmakesteethhurt': 1,\n",
              "          'screenplayjamesericjameshortondirectorpeterfallon': 1,\n",
              "          'screenplay': 21,\n",
              "          ...})"
            ]
          },
          "metadata": {
            "tags": []
          },
          "execution_count": 21
        }
      ]
    },
    {
      "cell_type": "code",
      "metadata": {
        "id": "5DVvF_ZBlOaF",
        "colab_type": "code",
        "outputId": "ab722abb-d953-42e9-fc3e-99d1c3b88abb",
        "colab": {
          "base_uri": "https://localhost:8080/",
          "height": 338
        }
      },
      "source": [
        "# Let’s take the words only if their frequency is greater than 3.\n",
        "large_words = dict([(k,v) for k,v in frequency_dist.items() if len(k)>3])\n",
        "frequency_dist = nltk.FreqDist(large_words) \n",
        "frequency_dist.plot(50,cumulative=False)\n"
      ],
      "execution_count": 0,
      "outputs": [
        {
          "output_type": "display_data",
          "data": {
            "image/png": "[encoded data removed]",
            "text/plain": [
              "<Figure size 432x288 with 1 Axes>"
            ]
          },
          "metadata": {
            "tags": [],
            "needs_background": "light"
          }
        }
      ]
    },
    {
      "cell_type": "code",
      "metadata": {
        "id": "l5Ni_mGalxGU",
        "colab_type": "code",
        "outputId": "daefa4c0-b5a6-44cb-869c-b8b4ab17b359",
        "colab": {
          "base_uri": "https://localhost:8080/",
          "height": 215
        }
      },
      "source": [
        "#  Build Wordcloud\n",
        "# Wordcloud is the pictorial representation of the most frequently repeated words representing the size of the word.\n",
        "import wordcloud\n",
        "from wordcloud import WordCloud \n",
        "wcloud = WordCloud().generate_from_frequencies(frequency_dist)\n",
        "\n",
        "# import matplotlib for show\n",
        "import matplotlib.pyplot as plt \n",
        "plt.imshow(wcloud, interpolation='bilinear')\n",
        "plt.axis(\"off\") \n",
        "\n"
      ],
      "execution_count": 0,
      "outputs": [
        {
          "output_type": "execute_result",
          "data": {
            "text/plain": [
              "(-0.5, 399.5, 199.5, -0.5)"
            ]
          },
          "metadata": {
            "tags": []
          },
          "execution_count": 27
        },
        {
          "output_type": "display_data",
          "data": {
            "image/png": "[encoded data removed]",
            "text/plain": [
              "<Figure size 432x288 with 1 Axes>"
            ]
          },
          "metadata": {
            "tags": [],
            "needs_background": "light"
          }
        }
      ]
    },
    {
      "cell_type": "code",
      "metadata": {
        "id": "EFodmPR0lMYj",
        "colab_type": "code",
        "colab": {}
      },
      "source": [
        ""
      ],
      "execution_count": 0,
      "outputs": []
    }
  ]
}