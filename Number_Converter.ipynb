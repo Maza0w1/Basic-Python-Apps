{
  "nbformat": 4,
  "nbformat_minor": 0,
  "metadata": {
    "colab": {
      "name": "Number Converter ",
      "provenance": [],
      "collapsed_sections": [],
      "authorship_tag": "ABX9TyMEKkXouoWFnHurSDMPybmO",
      "include_colab_link": true
    },
    "kernelspec": {
      "name": "python3",
      "display_name": "Python 3"
    }
  },
  "cells": [
    {
      "cell_type": "markdown",
      "metadata": {
        "id": "view-in-github",
        "colab_type": "text"
      },
      "source": [
        "<a href=\"https://colab.research.google.com/github/Yonnihayes/hello-world/blob/master/Number_Converter.ipynb\" target=\"_parent\"><img src=\"https://colab.research.google.com/assets/colab-badge.svg\" alt=\"Open In Colab\"/></a>"
      ]
    },
    {
      "cell_type": "code",
      "metadata": {
        "id": "2JcNr8FM2gf9",
        "colab_type": "code",
        "colab": {}
      },
      "source": [
        "# This program converts numbers."
      ],
      "execution_count": 0,
      "outputs": []
    },
    {
      "cell_type": "code",
      "metadata": {
        "id": "7cDE0eKE4G1A",
        "colab_type": "code",
        "colab": {
          "base_uri": "https://localhost:8080/",
          "height": 34
        },
        "outputId": "ca1a1d16-8bef-40c4-da06-d9d5f3bf9fbf"
      },
      "source": [
        "# Convert integer to hexadecimal\n",
        "\n",
        "# Enter number in parentheses as so:\n",
        "print(hex(20))"
      ],
      "execution_count": 13,
      "outputs": [
        {
          "output_type": "stream",
          "text": [
            "0x14\n"
          ],
          "name": "stdout"
        }
      ]
    },
    {
      "cell_type": "code",
      "metadata": {
        "id": "BpqafA-s4XVc",
        "colab_type": "code",
        "colab": {
          "base_uri": "https://localhost:8080/",
          "height": 34
        },
        "outputId": "970fdcec-a45b-4bd5-a77f-5e845d72f81f"
      },
      "source": [
        "# Convert integer to binary\n",
        "\n",
        "# Enter integer in parentheses as so:\n",
        "print(bin(16))"
      ],
      "execution_count": 16,
      "outputs": [
        {
          "output_type": "stream",
          "text": [
            "0b10000\n"
          ],
          "name": "stdout"
        }
      ]
    },
    {
      "cell_type": "code",
      "metadata": {
        "id": "cCWtPERs4ncL",
        "colab_type": "code",
        "colab": {
          "base_uri": "https://localhost:8080/",
          "height": 34
        },
        "outputId": "c145d68e-0e10-4120-bd86-4c0bc4fc1f40"
      },
      "source": [
        "# Convert binary to an integer\n",
        "\n",
        "# Enter binary in parentheses as so:\n",
        "print(int(0b1110))"
      ],
      "execution_count": 17,
      "outputs": [
        {
          "output_type": "stream",
          "text": [
            "14\n"
          ],
          "name": "stdout"
        }
      ]
    },
    {
      "cell_type": "code",
      "metadata": {
        "id": "moiDDMXa5xvV",
        "colab_type": "code",
        "colab": {
          "base_uri": "https://localhost:8080/",
          "height": 34
        },
        "outputId": "304ff432-bf5a-4bd6-bfea-3682cba994e4"
      },
      "source": [
        "# Convert binary to hexadecimal\n",
        "\n",
        "# Enter binary in parentheses as so:\n",
        "print(hex(0b10100))"
      ],
      "execution_count": 18,
      "outputs": [
        {
          "output_type": "stream",
          "text": [
            "0x14\n"
          ],
          "name": "stdout"
        }
      ]
    },
    {
      "cell_type": "code",
      "metadata": {
        "id": "KFJa8oVm41hU",
        "colab_type": "code",
        "colab": {
          "base_uri": "https://localhost:8080/",
          "height": 34
        },
        "outputId": "1264b30c-18d5-429c-a7eb-15154d47b764"
      },
      "source": [
        "# Convert hexadecimal to an integer\n",
        "\n",
        "# Enter hexadecimal in parentheses as so:\n",
        "print(int(0x18))"
      ],
      "execution_count": 11,
      "outputs": [
        {
          "output_type": "stream",
          "text": [
            "24\n"
          ],
          "name": "stdout"
        }
      ]
    },
    {
      "cell_type": "code",
      "metadata": {
        "id": "0DW_mR5M6A_R",
        "colab_type": "code",
        "colab": {
          "base_uri": "https://localhost:8080/",
          "height": 34
        },
        "outputId": "1bddf0b6-9069-4ab1-aebd-ae93e7f928d1"
      },
      "source": [
        "# Convert hexadecimal to binary\n",
        "\n",
        "# Enter number in parentheses as so:\n",
        "print(bin(0x1c))"
      ],
      "execution_count": 19,
      "outputs": [
        {
          "output_type": "stream",
          "text": [
            "0b11100\n"
          ],
          "name": "stdout"
        }
      ]
    }
  ]
}