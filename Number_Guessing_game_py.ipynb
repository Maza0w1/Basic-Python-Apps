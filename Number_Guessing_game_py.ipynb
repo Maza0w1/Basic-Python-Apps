{
  "nbformat": 4,
  "nbformat_minor": 0,
  "metadata": {
    "colab": {
      "name": "Number Guessing game.py",
      "provenance": [],
      "collapsed_sections": [],
      "authorship_tag": "ABX9TyPUpMP1FLRIpWo+gALam629",
      "include_colab_link": true
    },
    "kernelspec": {
      "name": "python3",
      "display_name": "Python 3"
    }
  },
  "cells": [
    {
      "cell_type": "markdown",
      "metadata": {
        "id": "view-in-github",
        "colab_type": "text"
      },
      "source": [
        "<a href=\"https://colab.research.google.com/github/Yonnihayes/hello-world/blob/master/Number_Guessing_game_py.ipynb\" target=\"_parent\"><img src=\"https://colab.research.google.com/assets/colab-badge.svg\" alt=\"Open In Colab\"/></a>"
      ]
    },
    {
      "cell_type": "code",
      "metadata": {
        "id": "ZwIXyCEtPpN6",
        "colab_type": "code",
        "colab": {}
      },
      "source": [
        "# The player must guess a number between 1 and 100. "
      ],
      "execution_count": 0,
      "outputs": []
    },
    {
      "cell_type": "code",
      "metadata": {
        "id": "VCZIYEi4Pt75",
        "colab_type": "code",
        "colab": {
          "base_uri": "https://localhost:8080/",
          "height": 278
        },
        "outputId": "169f6573-79e6-4495-b6de-73b2bf8dbeda"
      },
      "source": [
        "import random\n",
        "\n",
        "play_game = input('Are you ready to guess the number I\\'m thinking? Enter \"yes\" or \"no\": ')\n",
        "if play_game.lower()[0] == 'y':\n",
        "  game_on = True\n",
        "else:\n",
        "  game_on = False\n",
        "  print('See you soon.')\n",
        "\n",
        "number = random.randint(1,100)\n",
        "\n",
        "guess = int(input('Enter in your guess: '))\n",
        "\n",
        "while number != 'guess':\n",
        "  if guess < number:\n",
        "    print('Your guess is too low')\n",
        "    guess = int(input('Enter in an interger between 1-100: '))\n",
        "  elif guess > number:\n",
        "    print('Your guess is too high')\n",
        "    guess = int(input('Enter in an interger between 1-100: '))\n",
        "  else:\n",
        "    print('Congratulation! You guessed the number!')\n",
        "    break\n",
        "\n",
        "def replay():\n",
        "  return input('Do you want to play again? Enter \"yes\" or \"no\": ').lower().startswith('y')\n",
        "replay()"
      ],
      "execution_count": 0,
      "outputs": [
        {
          "output_type": "stream",
          "text": [
            "Are you ready to guess the number I'm thinking? Enter \"yes\" or \"no\": yes\n",
            "Enter in your guess: 20\n",
            "Your guess is too low\n",
            "Enter in an interger between 1-100: 30\n",
            "Your guess is too low\n",
            "Enter in an interger between 1-100: 40\n",
            "Your guess is too low\n",
            "Enter in an interger between 1-100: 50\n",
            "Your guess is too low\n",
            "Enter in an interger between 1-100: 60\n",
            "Your guess is too high\n",
            "Enter in an interger between 1-100: 55\n",
            "Congratulation! You guessed the number!\n"
          ],
          "name": "stdout"
        }
      ]
    }
  ]
}