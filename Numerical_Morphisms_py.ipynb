{
  "nbformat": 4,
  "nbformat_minor": 0,
  "metadata": {
    "colab": {
      "name": "Numerical Morphisms.py",
      "provenance": [],
      "collapsed_sections": [],
      "authorship_tag": "ABX9TyMWO59hjo/CbLeWE1RScNQT",
      "include_colab_link": true
    },
    "kernelspec": {
      "name": "python3",
      "display_name": "Python 3"
    }
  },
  "cells": [
    {
      "cell_type": "markdown",
      "metadata": {
        "id": "view-in-github",
        "colab_type": "text"
      },
      "source": [
        "<a href=\"https://colab.research.google.com/github/Yonnihayes/hello-world/blob/master/Numerical_Morphisms_py.ipynb\" target=\"_parent\"><img src=\"https://colab.research.google.com/assets/colab-badge.svg\" alt=\"Open In Colab\"/></a>"
      ]
    },
    {
      "cell_type": "code",
      "metadata": {
        "id": "8Et2ZtDlB5QQ",
        "colab_type": "code",
        "colab": {}
      },
      "source": [
        "# \"Polymorphic\" if num is automorphic for every power from 2 up to 10.\n",
        "# \"Quadrimorphic\" if num is automorphic for only four powers (any from 2 up to 10).\n",
        "# \"Dimorphic\" if num is automorphic for only two powers (any from 2 up to 10).\n",
        "# \"Enamorphic\" if num is automorphic for only one power (any from 2 up to 10).\n",
        "# \"Amorphic\" if num is not automorphic for any powers from 2 up to 10."
      ],
      "execution_count": 0,
      "outputs": []
    },
    {
      "cell_type": "code",
      "metadata": {
        "id": "Dplgbc-cB6Mz",
        "colab_type": "code",
        "colab": {
          "base_uri": "https://localhost:8080/",
          "height": 34
        },
        "outputId": "211af567-f1d6-46eb-f5ad-980a2e88a6a5"
      },
      "source": [
        "def power_morphic(n):\n",
        "\tpre = {0:'A', 1:'Ena',2:'Di',4:'Quadri',9:'Poly'}\n",
        "\tk = sum(str(n**i).endswith(str(n)) for i in range(2,11))\n",
        "\treturn pre[k] + 'morphic'\n",
        "\n",
        "power_morphic(21)"
      ],
      "execution_count": 6,
      "outputs": [
        {
          "output_type": "execute_result",
          "data": {
            "text/plain": [
              "'Enamorphic'"
            ]
          },
          "metadata": {
            "tags": []
          },
          "execution_count": 6
        }
      ]
    }
  ]
}