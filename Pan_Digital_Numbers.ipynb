{
  "nbformat": 4,
  "nbformat_minor": 0,
  "metadata": {
    "colab": {
      "name": "Pan-Digital Numbers",
      "provenance": [],
      "collapsed_sections": [],
      "authorship_tag": "ABX9TyMw6xR9Wt2EDC8HntV0h90W",
      "include_colab_link": true
    },
    "kernelspec": {
      "name": "python3",
      "display_name": "Python 3"
    }
  },
  "cells": [
    {
      "cell_type": "markdown",
      "metadata": {
        "id": "view-in-github",
        "colab_type": "text"
      },
      "source": [
        "<a href=\"https://colab.research.google.com/github/Yonnihayes/hello-world/blob/master/Pan_Digital_Numbers.ipynb\" target=\"_parent\"><img src=\"https://colab.research.google.com/assets/colab-badge.svg\" alt=\"Open In Colab\"/></a>"
      ]
    },
    {
      "cell_type": "code",
      "metadata": {
        "id": "yTyqrxBmV0qd",
        "colab_type": "code",
        "colab": {}
      },
      "source": [
        "# This program identifies a pan-digital number.\n",
        "# A pan-digital number contains all digits between 0 - 9 at least once. "
      ],
      "execution_count": 0,
      "outputs": []
    },
    {
      "cell_type": "code",
      "metadata": {
        "id": "8g_uIC1lV1o5",
        "colab_type": "code",
        "colab": {
          "base_uri": "https://localhost:8080/",
          "height": 34
        },
        "outputId": "6ec6b68e-cd9c-4bb9-9bbe-ad9eedaf840f"
      },
      "source": [
        "def is_pandigital(x):\n",
        "    x = str(x)\n",
        "\n",
        "    for digit in range(0,10):\n",
        "        if str(digit) not in x:\n",
        "            return False\n",
        "    \n",
        "    return True\n",
        "\n",
        "is_pandigital(98140723568910)"
      ],
      "execution_count": 3,
      "outputs": [
        {
          "output_type": "execute_result",
          "data": {
            "text/plain": [
              "True"
            ]
          },
          "metadata": {
            "tags": []
          },
          "execution_count": 3
        }
      ]
    }
  ]
}