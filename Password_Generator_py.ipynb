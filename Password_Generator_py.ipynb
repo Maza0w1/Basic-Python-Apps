{
  "nbformat": 4,
  "nbformat_minor": 0,
  "metadata": {
    "colab": {
      "name": "Password Generator.py",
      "provenance": [],
      "collapsed_sections": [],
      "authorship_tag": "ABX9TyMbOjYj5FYe3cKLQFnmJX4B",
      "include_colab_link": true
    },
    "kernelspec": {
      "name": "python3",
      "display_name": "Python 3"
    }
  },
  "cells": [
    {
      "cell_type": "markdown",
      "metadata": {
        "id": "view-in-github",
        "colab_type": "text"
      },
      "source": [
        "<a href=\"https://colab.research.google.com/github/Yonnihayes/hello-world/blob/master/Password_Generator_py.ipynb\" target=\"_parent\"><img src=\"https://colab.research.google.com/assets/colab-badge.svg\" alt=\"Open In Colab\"/></a>"
      ]
    },
    {
      "cell_type": "code",
      "metadata": {
        "id": "6AYhAhZ3Z8sQ",
        "colab_type": "code",
        "colab": {}
      },
      "source": [
        "# This program generates random letters,punctuations, and digits to form complex passwords."
      ],
      "execution_count": 0,
      "outputs": []
    },
    {
      "cell_type": "code",
      "metadata": {
        "id": "wGYQuwa9Z_Q8",
        "colab_type": "code",
        "colab": {
          "base_uri": "https://localhost:8080/",
          "height": 255
        },
        "outputId": "87c4a1c0-84a1-4138-81a0-37ad5f608cf8"
      },
      "source": [
        "import string\n",
        "from random import *\n",
        "\n",
        "characters = string.ascii_letters + string.punctuation + string.digits\n",
        "for x in range(randint(8, 16)):\n",
        "  password = \"\".join(choice(characters)) \n",
        "  print(password)\n"
      ],
      "execution_count": 2,
      "outputs": [
        {
          "output_type": "stream",
          "text": [
            "K\n",
            "R\n",
            ".\n",
            "Y\n",
            "\"\n",
            "o\n",
            "k\n",
            "(\n",
            "M\n",
            "(\n",
            "P\n",
            "]\n",
            "!\n",
            "^\n"
          ],
          "name": "stdout"
        }
      ]
    }
  ]
}