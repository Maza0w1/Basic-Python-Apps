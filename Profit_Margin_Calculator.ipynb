{
  "nbformat": 4,
  "nbformat_minor": 0,
  "metadata": {
    "colab": {
      "name": "Profit Margin Calculator",
      "provenance": [],
      "collapsed_sections": [],
      "authorship_tag": "ABX9TyNYIDyZiEUMEXpm82XJx/YQ",
      "include_colab_link": true
    },
    "kernelspec": {
      "name": "python3",
      "display_name": "Python 3"
    }
  },
  "cells": [
    {
      "cell_type": "markdown",
      "metadata": {
        "id": "view-in-github",
        "colab_type": "text"
      },
      "source": [
        "<a href=\"https://colab.research.google.com/github/Yonnihayes/hello-world/blob/master/Profit_Margin_Calculator.ipynb\" target=\"_parent\"><img src=\"https://colab.research.google.com/assets/colab-badge.svg\" alt=\"Open In Colab\"/></a>"
      ]
    },
    {
      "cell_type": "code",
      "metadata": {
        "id": "4pJTo4fh1bQh",
        "colab_type": "code",
        "colab": {}
      },
      "source": [
        "# This program calculates the profit margin\n",
        "# Formula: sales price - cost price / sales price"
      ],
      "execution_count": 0,
      "outputs": []
    },
    {
      "cell_type": "code",
      "metadata": {
        "id": "cn8_mALg2JBX",
        "colab_type": "code",
        "colab": {
          "base_uri": "https://localhost:8080/",
          "height": 34
        },
        "outputId": "edf50614-3fcc-4eb7-e69b-8b18856bd083"
      },
      "source": [
        "def profit_margin(sales_price, cost_price):\n",
        "  return str(round((sales_price - cost_price) / sales_price * 100, 1)) + '%'\n",
        "\n",
        "profit_margin(50, 50)"
      ],
      "execution_count": 1,
      "outputs": [
        {
          "output_type": "execute_result",
          "data": {
            "text/plain": [
              "'0.0%'"
            ]
          },
          "metadata": {
            "tags": []
          },
          "execution_count": 1
        }
      ]
    }
  ]
}