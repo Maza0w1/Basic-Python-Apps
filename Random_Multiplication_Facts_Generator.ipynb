{
  "nbformat": 4,
  "nbformat_minor": 0,
  "metadata": {
    "colab": {
      "name": "Random Multiplication Facts Generator",
      "provenance": [],
      "collapsed_sections": [],
      "authorship_tag": "ABX9TyMmnqcrze/1u4uTMtITKZpx",
      "include_colab_link": true
    },
    "kernelspec": {
      "name": "python3",
      "display_name": "Python 3"
    }
  },
  "cells": [
    {
      "cell_type": "markdown",
      "metadata": {
        "id": "view-in-github",
        "colab_type": "text"
      },
      "source": [
        "<a href=\"https://colab.research.google.com/github/Mazarine0wl/Python-Programming-Projects/blob/master/Random_Multiplication_Facts_Generator.ipynb\" target=\"_parent\"><img src=\"https://colab.research.google.com/assets/colab-badge.svg\" alt=\"Open In Colab\"/></a>"
      ]
    },
    {
      "cell_type": "code",
      "metadata": {
        "colab": {
          "base_uri": "https://localhost:8080/"
        },
        "id": "iwGS7WJm8-c2",
        "outputId": "d546c859-ce86-4ae9-b674-65bce3425984"
      },
      "source": [
        "from random import randint\r\n",
        "\r\n",
        "play = 1 # 144 facts on the chart \r\n",
        "\r\n",
        "while play == 1:\r\n",
        "  x = randint(0, 12) # randomly selects a number for the first number of the equation\r\n",
        "  y = randint(0, 12) # randomly selects a number for the second number of the equation\r\n",
        "\r\n",
        "  print('The multiplication problem is: ', x, '*', y) # outputs a multiplication problem\r\n",
        "  answer = int(input('What is the answer? ')) # reads user input \r\n",
        "\r\n",
        "  if answer == x*y:\r\n",
        "    print('That is correct.') \r\n",
        "  else:\r\n",
        "    print('That is incorrect. \\tthe correct answer is: ', x*y)\r\n",
        "  \r\n",
        "    play = int(input('Enter 1 to play again or 0 to exit: '))\r\n",
        "  \r\n",
        "else:\r\n",
        "  print('Thanks for playing')"
      ],
      "execution_count": null,
      "outputs": [
        {
          "output_type": "stream",
          "text": [
            "The multiplication problem is:  2 * 3\n"
          ],
          "name": "stdout"
        }
      ]
    }
  ]
}