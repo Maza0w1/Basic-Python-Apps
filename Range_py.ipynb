{
  "nbformat": 4,
  "nbformat_minor": 0,
  "metadata": {
    "colab": {
      "name": "Range.py",
      "provenance": [],
      "collapsed_sections": [],
      "authorship_tag": "ABX9TyMMnnr9Ck/NeLLYf7rYPgxD",
      "include_colab_link": true
    },
    "kernelspec": {
      "name": "python3",
      "display_name": "Python 3"
    }
  },
  "cells": [
    {
      "cell_type": "markdown",
      "metadata": {
        "id": "view-in-github",
        "colab_type": "text"
      },
      "source": [
        "<a href=\"https://colab.research.google.com/github/Yonnihayes/Python-Programming-Projects/blob/master/Range_py.ipynb\" target=\"_parent\"><img src=\"https://colab.research.google.com/assets/colab-badge.svg\" alt=\"Open In Colab\"/></a>"
      ]
    },
    {
      "cell_type": "code",
      "metadata": {
        "id": "KTrSCM3eKce9",
        "colab_type": "code",
        "colab": {}
      },
      "source": [
        "class Range:\n",
        "  '''A class that mimic's the built-in range class'''\n",
        "\n",
        "  def __init__(self, start, stop=None, step=1):\n",
        "    '''Initialize a Range instance\n",
        "\n",
        "    Semantics is similar to built-in range class\n",
        "    '''\n",
        "\n",
        "    if step == 0:\n",
        "      raise ValueError('step cannot be 0')\n",
        "\n",
        "    if stop is None:      # special case of range(n)\n",
        "      start, stop =  0, start     #should be treated as if range(0,n)\n",
        "    \n",
        "    # calculate the effective length once\n",
        "    self._length = max(0, (stop - start + step - 1) // step)\n",
        "\n",
        "    # need knowledge of start and step (but not step) to support __getitem__\n",
        "    self._start = start\n",
        "    self._step = step\n",
        "\n",
        "    def __len__(self):\n",
        "      '''Return number of entries in the range.'''\n",
        "      return self.length \n",
        "\n",
        "    def __getitem__(self, k):\n",
        "      '''Return entry at index k (using standard interpretation if negative).'''\n",
        "      if k < 0:\n",
        "        k += len(self)      # attempt to convert negative index\n",
        "\n",
        "      if not k < self.length:\n",
        "        raise self._start + k * self._step\n",
        "        "
      ],
      "execution_count": 2,
      "outputs": []
    }
  ]
}