{
  "nbformat": 4,
  "nbformat_minor": 0,
  "metadata": {
    "colab": {
      "name": "Simple OOP Mathematical Calculator",
      "provenance": [],
      "collapsed_sections": [],
      "authorship_tag": "ABX9TyPgANOh/axNZ1VGMV+CKfIr",
      "include_colab_link": true
    },
    "kernelspec": {
      "name": "python3",
      "display_name": "Python 3"
    }
  },
  "cells": [
    {
      "cell_type": "markdown",
      "metadata": {
        "id": "view-in-github",
        "colab_type": "text"
      },
      "source": [
        "<a href=\"https://colab.research.google.com/github/Yonnihayes/hello-world/blob/master/Simple_OOP_Mathematical_Calculator.ipynb\" target=\"_parent\"><img src=\"https://colab.research.google.com/assets/colab-badge.svg\" alt=\"Open In Colab\"/></a>"
      ]
    },
    {
      "cell_type": "code",
      "metadata": {
        "id": "EvR24pKnJE1G",
        "colab_type": "code",
        "colab": {}
      },
      "source": [
        "# This program is a simple OOP mathematical calculator."
      ],
      "execution_count": 0,
      "outputs": []
    },
    {
      "cell_type": "code",
      "metadata": {
        "id": "sIAgEpEBK8Y3",
        "colab_type": "code",
        "colab": {}
      },
      "source": [
        "class Calculator:\n",
        "   \n",
        "   # Adding\n",
        "   def addition(self, num1, *args):\n",
        "     return num1 + *args\n",
        "   \n",
        "   # Subtracting\n",
        "   def subtraction(self, num1, *args):\n",
        "     return num1 - *args\n",
        "   \n",
        "   # Multiplying\n",
        "   def multiplication(self, num1, *args):\n",
        "     return num1 * *args\n",
        "   \n",
        "   # Dividing\n",
        "   def division(self, num1, *args):\n",
        "     return num1 / *args"
      ],
      "execution_count": 0,
      "outputs": []
    }
  ]
}