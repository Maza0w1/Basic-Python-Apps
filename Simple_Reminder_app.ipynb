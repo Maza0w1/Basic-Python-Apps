{
  "nbformat": 4,
  "nbformat_minor": 0,
  "metadata": {
    "colab": {
      "name": "Simple Reminder app ",
      "provenance": [],
      "collapsed_sections": [],
      "authorship_tag": "ABX9TyNnVQY0Pny8Nmdf8QSrCTyC",
      "include_colab_link": true
    },
    "kernelspec": {
      "name": "python3",
      "display_name": "Python 3"
    }
  },
  "cells": [
    {
      "cell_type": "markdown",
      "metadata": {
        "id": "view-in-github",
        "colab_type": "text"
      },
      "source": [
        "<a href=\"https://colab.research.google.com/github/Yonnihayes/hello-world/blob/master/Simple_Reminder_app.ipynb\" target=\"_parent\"><img src=\"https://colab.research.google.com/assets/colab-badge.svg\" alt=\"Open In Colab\"/></a>"
      ]
    },
    {
      "cell_type": "code",
      "metadata": {
        "id": "awknO85ZPO5F",
        "colab_type": "code",
        "colab": {}
      },
      "source": [
        "# This python application reminds users of tasks."
      ],
      "execution_count": 0,
      "outputs": []
    },
    {
      "cell_type": "code",
      "metadata": {
        "id": "pW8da6YjM_Bp",
        "colab_type": "code",
        "colab": {
          "base_uri": "https://localhost:8080/",
          "height": 54
        },
        "outputId": "3fb83625-726f-41ff-c0b4-ac70f437064e"
      },
      "source": [
        "import time\n",
        "\n",
        "# Ask users what they need to be reminded about\n",
        "print('What shall I remind you about?')\n",
        "\n",
        "txt = (str(input()))\n",
        "\n",
        "# Ask users in how many mintues would they like to be reminded\n",
        "print('In how many minutes?')\n",
        "\n",
        "local_time = float(input())\n",
        "\n",
        "# Clock \n",
        "local_time = local_time * 60\n",
        "\n",
        "# Set alarm\n",
        "time.sleep(local_time)\n",
        "\n",
        "# Remind user of task\n",
        "print(txt)\n"
      ],
      "execution_count": 0,
      "outputs": [
        {
          "output_type": "stream",
          "text": [
            "What shall I remind you about?\n"
          ],
          "name": "stdout"
        }
      ]
    }
  ]
}