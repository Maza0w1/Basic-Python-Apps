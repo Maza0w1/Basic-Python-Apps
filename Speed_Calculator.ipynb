{
  "nbformat": 4,
  "nbformat_minor": 0,
  "metadata": {
    "colab": {
      "name": "Speed Calculator",
      "provenance": [],
      "collapsed_sections": [],
      "authorship_tag": "ABX9TyP9KhHuZGgbHui+odlZjgTP",
      "include_colab_link": true
    },
    "kernelspec": {
      "name": "python3",
      "display_name": "Python 3"
    }
  },
  "cells": [
    {
      "cell_type": "markdown",
      "metadata": {
        "id": "view-in-github",
        "colab_type": "text"
      },
      "source": [
        "<a href=\"https://colab.research.google.com/github/Yonnihayes/hello-world/blob/master/Speed_Calculator.ipynb\" target=\"_parent\"><img src=\"https://colab.research.google.com/assets/colab-badge.svg\" alt=\"Open In Colab\"/></a>"
      ]
    },
    {
      "cell_type": "code",
      "metadata": {
        "id": "egnZp9T32wRh",
        "colab_type": "code",
        "colab": {}
      },
      "source": [
        "# This program calculates speed with the given distace (in kilometers) and time span. "
      ],
      "execution_count": 0,
      "outputs": []
    },
    {
      "cell_type": "code",
      "metadata": {
        "id": "tkGgJO812pBM",
        "colab_type": "code",
        "colab": {
          "base_uri": "https://localhost:8080/",
          "height": 221
        },
        "outputId": "36dd0ce4-5f02-4ad5-f4a2-246681ca48f4"
      },
      "source": [
        "#Function to calculate speed\n",
        "def cal_speed(dist, time):\n",
        "  print('Distance (km):', dist)\n",
        "  print('Time (hr): ', time)\n",
        "  return dist / time\n",
        "\n",
        "#Function to calculate distance\n",
        "def cal_dist(speed, time):\n",
        "  print('Time (hr): ', time)\n",
        "  print('Speed (km / hr): ', speed)\n",
        "  return speed * time\n",
        "\n",
        "#Function to calculate time\n",
        "def cal_time(dist,speed):\n",
        "  print('Distance (km): ', dist)\n",
        "  print('Speed (km / hr): ', speed)\n",
        "  return speed * dist\n",
        "\n",
        "# Calls cal_speed()\n",
        "print('The calculated speed (km/ hr) is: ', cal_speed(45.9, 2.0))\n",
        "print(' ')\n",
        "\n",
        "# Calls cal_dist()\n",
        "print('The calculated distance (km) is: ', cal_dis(62.9, 2.5))\n",
        "print(' ')\n",
        "\n",
        "# Calls cal_time()\n",
        "print('The calculated time (hr) is: ', cal_time(48.0, 4.5))\n",
        "print(' ')"
      ],
      "execution_count": 8,
      "outputs": [
        {
          "output_type": "stream",
          "text": [
            "Distance (km): 45.9\n",
            "Time (hr):  2.0\n",
            "The calculated speed (km/ hr) is:  22.95\n",
            " \n",
            "Time (hr):  2.5\n",
            "Speed (km / hr):  62.9\n",
            "The calculated distance (km) is:  157.25\n",
            " \n",
            "Distance (km):  48.0\n",
            "Speed (km / hr):  4.5\n",
            "The calculated time (hr) is:  216.0\n",
            " \n"
          ],
          "name": "stdout"
        }
      ]
    }
  ]
}