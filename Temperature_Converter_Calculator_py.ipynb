{
  "nbformat": 4,
  "nbformat_minor": 0,
  "metadata": {
    "colab": {
      "name": "Temperature Converter Calculator.py",
      "provenance": [],
      "collapsed_sections": [],
      "authorship_tag": "ABX9TyO/rbu9vFe0IizkCrG8L2mx",
      "include_colab_link": true
    },
    "kernelspec": {
      "name": "python3",
      "display_name": "Python 3"
    }
  },
  "cells": [
    {
      "cell_type": "markdown",
      "metadata": {
        "id": "view-in-github",
        "colab_type": "text"
      },
      "source": [
        "<a href=\"https://colab.research.google.com/github/Yonnihayes/hello-world/blob/master/Temperature_Converter_Calculator_py.ipynb\" target=\"_parent\"><img src=\"https://colab.research.google.com/assets/colab-badge.svg\" alt=\"Open In Colab\"/></a>"
      ]
    },
    {
      "cell_type": "code",
      "metadata": {
        "id": "H8xsgJGVUDF6",
        "colab_type": "code",
        "colab": {}
      },
      "source": [
        "# This program converts a celcius temperature to a fahrenheit temperature and vice virsa."
      ],
      "execution_count": 0,
      "outputs": []
    },
    {
      "cell_type": "code",
      "metadata": {
        "id": "pEDoKbZqNphN",
        "colab_type": "code",
        "colab": {}
      },
      "source": [
        "# Celcius° to Farenheit°\n",
        "# Formula: Fahrenheit = (Celsius * 9/5) + 32\n",
        "\n",
        "celcius = float(input('Enter temperature in celcius: '))\n",
        "fahrenheit = (celcius * 9/5) + 32\n",
        "print('%.2f Celciusis: %0.2f Fahrenheit' %(celcius, fahrenheit))"
      ],
      "execution_count": 0,
      "outputs": []
    },
    {
      "cell_type": "code",
      "metadata": {
        "id": "4GuxOJuKRB4x",
        "colab_type": "code",
        "colab": {}
      },
      "source": [
        "# Fahrenheit° to Celcius°\n",
        "# Formula: Celsius = (Fahrenheit – 32) * 5/9\n",
        "\n",
        "fahrenheit = float(input('Enter temperature in fahrenheit: '))\n",
        "celcius_ = (fahrenheit - 32) * 5/9\n",
        "print('%.2f Fahrenheit: %0.2f Celcius' %(fahrenheit, celcius))"
      ],
      "execution_count": 0,
      "outputs": []
    }
  ]
}