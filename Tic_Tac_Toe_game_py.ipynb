{
  "nbformat": 4,
  "nbformat_minor": 0,
  "metadata": {
    "colab": {
      "name": "Tic-Tac-Toe game. py",
      "provenance": [],
      "collapsed_sections": [],
      "authorship_tag": "ABX9TyOk70Fde7/vrQGF85aDcq9L",
      "include_colab_link": true
    },
    "kernelspec": {
      "name": "python3",
      "display_name": "Python 3"
    }
  },
  "cells": [
    {
      "cell_type": "markdown",
      "metadata": {
        "id": "view-in-github",
        "colab_type": "text"
      },
      "source": [
        "<a href=\"https://colab.research.google.com/github/Yonnihayes/hello-world/blob/master/Tic_Tac_Toe_game_py.ipynb\" target=\"_parent\"><img src=\"https://colab.research.google.com/assets/colab-badge.svg\" alt=\"Open In Colab\"/></a>"
      ]
    },
    {
      "cell_type": "code",
      "metadata": {
        "id": "S0V4K60vy-8_",
        "colab_type": "code",
        "colab": {}
      },
      "source": [
        "#How to play this game:\n",
        "#Two players take alternate turns to complete a row, a column, or a diagonal with either three O's or three X's drawn in the spaces of a grid of nine squares."
      ],
      "execution_count": 0,
      "outputs": []
    },
    {
      "cell_type": "code",
      "metadata": {
        "id": "LEuJtvmNpSpn",
        "colab_type": "code",
        "outputId": "1c7d38b4-3e4e-4dfc-9ce5-2c43317cb3ce",
        "colab": {
          "base_uri": "https://localhost:8080/",
          "height": 221
        }
      },
      "source": [
        "from IPython.display import clear_output\n",
        "\n",
        "print('Welcome to Tic-Tac-Toe!'.title())\n",
        "\n",
        "# Displays the board\n",
        "def display_board(board):\n",
        "  \n",
        "  #clears the board\n",
        "    #print('\\n' * 100)\n",
        "\n",
        "    print('   |   |')\n",
        "    print(' ' + board[7] + ' | ' + board[8] + ' | ' + board[9])\n",
        "    print('   |   |')\n",
        "    print('-----------')\n",
        "    print('   |   |')\n",
        "    print(' ' + board[4] + ' | ' + board[5] + ' | ' + board[6])\n",
        "    print('   |   |')\n",
        "    print('-----------')\n",
        "    print('   |   |')\n",
        "    print(' ' + board[1] + ' | ' + board[2] + ' | ' + board[3])\n",
        "    print('   |   |')\n",
        "\n",
        "test_board = ['#', 'X', 'O', 'X', 'O', 'X', 'O', 'X', 'O', 'X']\n",
        "display_board(test_board)"
      ],
      "execution_count": 1,
      "outputs": [
        {
          "output_type": "stream",
          "text": [
            "Welcome To Tic-Tac-Toe!\n",
            "   |   |\n",
            " X | O | X\n",
            "   |   |\n",
            "-----------\n",
            "   |   |\n",
            " O | X | O\n",
            "   |   |\n",
            "-----------\n",
            "   |   |\n",
            " X | O | X\n",
            "   |   |\n"
          ],
          "name": "stdout"
        }
      ]
    },
    {
      "cell_type": "code",
      "metadata": {
        "id": "8eRBoUkD3jDZ",
        "colab_type": "code",
        "colab": {}
      },
      "source": [
        "# Assigns marker\n",
        "def player_input():\n",
        "  marker = ''\n",
        "\n",
        "# Player 1 chooses their marker \n",
        "  while not (marker == 'X' or marker == 'O'):\n",
        "     marker = input('Player1: choose X or O: ').upper()\n",
        "\n",
        "#Player 2 is assigned to the opposite marker \n",
        "  if marker == 'X':\n",
        "    return ('X' or 'O')\n",
        "  else:\n",
        "    return ('O' or 'X')\n",
        "\n",
        "player_input()"
      ],
      "execution_count": 0,
      "outputs": []
    },
    {
      "cell_type": "code",
      "metadata": {
        "id": "rjMycwzC3aTk",
        "colab_type": "code",
        "outputId": "0d4a8692-7859-41fc-9c06-0e8ea594a673",
        "colab": {
          "base_uri": "https://localhost:8080/",
          "height": 212
        }
      },
      "source": [
        "#Assigns marker ('X', or 'O') to a desired position (number 1-9) on the board\n",
        "def place_marker(board, marker, position):\n",
        "  board[position] = marker\n",
        "\n",
        "place_marker(test_board, '$', 6)\n",
        "display_board(test_board)"
      ],
      "execution_count": 0,
      "outputs": [
        {
          "output_type": "stream",
          "text": [
            "   |   |\n",
            " X | O | X\n",
            "   |   |\n",
            "-----------\n",
            "   |   |\n",
            " O | X | $\n",
            "   |   |\n",
            "-----------\n",
            "   |   |\n",
            " X | O | X\n",
            "   |   |\n"
          ],
          "name": "stdout"
        }
      ]
    },
    {
      "cell_type": "code",
      "metadata": {
        "id": "_HRPmMwrF22b",
        "colab_type": "code",
        "outputId": "5c220d56-8082-407f-c336-55e4f736e850",
        "colab": {
          "base_uri": "https://localhost:8080/",
          "height": 34
        }
      },
      "source": [
        "# Check for winner\n",
        "\n",
        "def win_check(board, mark):\n",
        "  return ((board[7] == mark and board[8] == mark and board[9] == mark) or # across the top row of the board\n",
        "  (board[4] == mark and board[5] == mark and board[6] == mark) or # across the middle row of the board\n",
        "  (board[1] == mark and board[2] == mark and board[3] == mark) or # across the bottom row of the board\n",
        "  (board[7] == mark and board[4] == mark and board[1] == mark) or # straight down the first column\n",
        "  (board[8] == mark and board[5] == mark and board[2] == mark) or # straight down the second column\n",
        "  (board[9] == mark and board[6] == mark and board[3] == mark) or # straight down the third column\n",
        "  (board[7] == mark and board[5] == mark and board[3] == mark) or # diagonal starting at position 7 or position 3\n",
        "  (board[9] == mark and board[5] == mark and board[1] == mark)) # diagonal starting at postion 9 or position 1\n",
        "\n",
        "win_check(test_board, 'X')"
      ],
      "execution_count": 0,
      "outputs": [
        {
          "output_type": "execute_result",
          "data": {
            "text/plain": [
              "True"
            ]
          },
          "metadata": {
            "tags": []
          },
          "execution_count": 93
        }
      ]
    },
    {
      "cell_type": "code",
      "metadata": {
        "id": "51p_RsrBF6on",
        "colab_type": "code",
        "outputId": "1d42347f-2f70-418f-8303-ab47ff50529d",
        "colab": {
          "base_uri": "https://localhost:8080/",
          "height": 34
        }
      },
      "source": [
        "# randomly deciding which player goes first\n",
        "import random\n",
        "\n",
        "def choose_first():\n",
        "  return random.randint(1,2)\n",
        "\n",
        "choose_first()"
      ],
      "execution_count": 0,
      "outputs": [
        {
          "output_type": "execute_result",
          "data": {
            "text/plain": [
              "2"
            ]
          },
          "metadata": {
            "tags": []
          },
          "execution_count": 94
        }
      ]
    },
    {
      "cell_type": "code",
      "metadata": {
        "id": "lHBI2DdnGqUl",
        "colab_type": "code",
        "colab": {}
      },
      "source": [
        "# Check whether a space on the board is available or not\n",
        "\n",
        "def space_check(board, position):\n",
        "  return board[position] == ' '\n"
      ],
      "execution_count": 0,
      "outputs": []
    },
    {
      "cell_type": "code",
      "metadata": {
        "id": "TTYJWlX1I19M",
        "colab_type": "code",
        "colab": {}
      },
      "source": [
        "# Check whether the board is full or not \n",
        "\n",
        "def full_board_check(board):\n",
        "  for i in range(1, 10):\n",
        "    if space_check(board, 1):\n",
        "      return False\n",
        "    return True"
      ],
      "execution_count": 0,
      "outputs": []
    },
    {
      "cell_type": "code",
      "metadata": {
        "id": "7nTAbujpJW8a",
        "colab_type": "code",
        "colab": {}
      },
      "source": [
        "# Check if there is a open position\n",
        "\n",
        "def player_choice(board):\n",
        "  position = 0\n",
        "\n",
        "  while position not in [1,2,3,4,5,6,7,8,9] or not space_check(board,position):\n",
        "    position = int(input('Choose your next position: (1-9) '))\n",
        "  \n",
        "  return posiiton"
      ],
      "execution_count": 0,
      "outputs": []
    },
    {
      "cell_type": "code",
      "metadata": {
        "id": "mhGwK33sKoFJ",
        "colab_type": "code",
        "outputId": "60eac4cb-36b2-4d45-f33a-5220b3b24855",
        "colab": {
          "base_uri": "https://localhost:8080/",
          "height": 52
        }
      },
      "source": [
        "def replay():\n",
        "  return input('Do you want to play again? Enter \"Yes\" or \"NO\": ').lower().startswith('y')\n",
        "\n",
        "replay()"
      ],
      "execution_count": 0,
      "outputs": [
        {
          "output_type": "stream",
          "text": [
            "Do you want to play again? Enter \"Yes\" or \"NO\": yes\n"
          ],
          "name": "stdout"
        },
        {
          "output_type": "execute_result",
          "data": {
            "text/plain": [
              "True"
            ]
          },
          "metadata": {
            "tags": []
          },
          "execution_count": 101
        }
      ]
    },
    {
      "cell_type": "code",
      "metadata": {
        "id": "cvFIeME9LkzE",
        "colab_type": "code",
        "outputId": "9d8a4eb8-3c09-4b0f-e1bf-2bcd8016a0f0",
        "colab": {
          "base_uri": "https://localhost:8080/",
          "height": 274
        }
      },
      "source": [
        "#copied\n",
        "while True:\n",
        "    # Reset the board\n",
        "    theBoard = [' '] * 10\n",
        "    player1_marker = player_input()\n",
        "    player2_marker = player_input()\n",
        "    turn = choose_first()\n",
        "    print(turn + ' will go first.')\n",
        "    \n",
        "    play_game = input('Are you ready to play? Enter Yes or No.')\n",
        "    \n",
        "    if play_game.lower()[0] == 'y':\n",
        "        game_on = True\n",
        "    else:\n",
        "        game_on = False\n",
        "\n",
        "    while game_on:\n",
        "        if turn == 'Player 1':\n",
        "            # Player1's turn.\n",
        "            \n",
        "            display_board(theBoard)\n",
        "            position = player_choice(theBoard)\n",
        "            place_marker(theBoard, player1_marker, position)\n",
        "\n",
        "            if win_check(theBoard, player1_marker):\n",
        "              display_board(theBoard)\n",
        "              print('Congratulations! You have won the game!')\n",
        "              game_on = False\n",
        "            else:\n",
        "                if full_board_check(theBoard):\n",
        "                    display_board(theBoard)\n",
        "                    print('The game is a draw!')\n",
        "                    break\n",
        "                else:\n",
        "                    turn = 'Player 2'\n",
        "\n",
        "        else:\n",
        "            # Player2's turn.\n",
        "            \n",
        "            display_board(theBoard)\n",
        "            position = player_choice(theBoard)\n",
        "            place_marker(theBoard, player2_marker, position)\n",
        "\n",
        "            if win_check(theBoard, player2_marker):\n",
        "                display_board(theBoard)\n",
        "                print('Player 2 has won!')\n",
        "                game_on = False\n",
        "            else:\n",
        "                if full_board_check(theBoard):\n",
        "                    display_board(theBoard)\n",
        "                    print('The game is a draw!')\n",
        "                    break\n",
        "                else:\n",
        "                    turn = 'Player 1'\n",
        "\n",
        "    if not replay():\n",
        "        break"
      ],
      "execution_count": 0,
      "outputs": [
        {
          "output_type": "stream",
          "text": [
            "Player1: choose X or O: x\n",
            "Player1: choose X or O: o\n"
          ],
          "name": "stdout"
        },
        {
          "output_type": "error",
          "ename": "TypeError",
          "evalue": "ignored",
          "traceback": [
            "\u001b[0;31m---------------------------------------------------------------------------\u001b[0m",
            "\u001b[0;31mTypeError\u001b[0m                                 Traceback (most recent call last)",
            "\u001b[0;32m<ipython-input-107-2300d5b0015c>\u001b[0m in \u001b[0;36m<module>\u001b[0;34m()\u001b[0m\n\u001b[1;32m      6\u001b[0m     \u001b[0mplayer2_marker\u001b[0m \u001b[0;34m=\u001b[0m \u001b[0mplayer_input\u001b[0m\u001b[0;34m(\u001b[0m\u001b[0;34m)\u001b[0m\u001b[0;34m\u001b[0m\u001b[0;34m\u001b[0m\u001b[0m\n\u001b[1;32m      7\u001b[0m     \u001b[0mturn\u001b[0m \u001b[0;34m=\u001b[0m \u001b[0mchoose_first\u001b[0m\u001b[0;34m(\u001b[0m\u001b[0;34m)\u001b[0m\u001b[0;34m\u001b[0m\u001b[0;34m\u001b[0m\u001b[0m\n\u001b[0;32m----> 8\u001b[0;31m     \u001b[0mprint\u001b[0m\u001b[0;34m(\u001b[0m\u001b[0mturn\u001b[0m \u001b[0;34m+\u001b[0m \u001b[0;34m' will go first.'\u001b[0m\u001b[0;34m)\u001b[0m\u001b[0;34m\u001b[0m\u001b[0;34m\u001b[0m\u001b[0m\n\u001b[0m\u001b[1;32m      9\u001b[0m \u001b[0;34m\u001b[0m\u001b[0m\n\u001b[1;32m     10\u001b[0m     \u001b[0mplay_game\u001b[0m \u001b[0;34m=\u001b[0m \u001b[0minput\u001b[0m\u001b[0;34m(\u001b[0m\u001b[0;34m'Are you ready to play? Enter Yes or No.'\u001b[0m\u001b[0;34m)\u001b[0m\u001b[0;34m\u001b[0m\u001b[0;34m\u001b[0m\u001b[0m\n",
            "\u001b[0;31mTypeError\u001b[0m: unsupported operand type(s) for +: 'int' and 'str'"
          ]
        }
      ]
    }
  ]
}