{
  "nbformat": 4,
  "nbformat_minor": 0,
  "metadata": {
    "colab": {
      "name": "Time Converter.py",
      "provenance": [],
      "collapsed_sections": [],
      "authorship_tag": "ABX9TyNw2rXBVJixsVwQGBoPJGCQ",
      "include_colab_link": true
    },
    "kernelspec": {
      "name": "python3",
      "display_name": "Python 3"
    }
  },
  "cells": [
    {
      "cell_type": "markdown",
      "metadata": {
        "id": "view-in-github",
        "colab_type": "text"
      },
      "source": [
        "<a href=\"https://colab.research.google.com/github/Yonnihayes/hello-world/blob/master/Time_Converter_py.ipynb\" target=\"_parent\"><img src=\"https://colab.research.google.com/assets/colab-badge.svg\" alt=\"Open In Colab\"/></a>"
      ]
    },
    {
      "cell_type": "code",
      "metadata": {
        "id": "_k48NAUZAAQu",
        "colab_type": "code",
        "colab": {}
      },
      "source": [
        "# This program converts minutes into seconds."
      ],
      "execution_count": 0,
      "outputs": []
    },
    {
      "cell_type": "code",
      "metadata": {
        "id": "ZhbuQNN6ATPZ",
        "colab_type": "code",
        "colab": {
          "base_uri": "https://localhost:8080/",
          "height": 34
        },
        "outputId": "e1fff199-98e5-42b6-d73e-b7abc5c2c024"
      },
      "source": [
        "import time\n",
        "\n",
        "def convert(mintues):\n",
        "  return mintues * 60\n",
        "\n",
        "convert(1)"
      ],
      "execution_count": 12,
      "outputs": [
        {
          "output_type": "execute_result",
          "data": {
            "text/plain": [
              "60"
            ]
          },
          "metadata": {
            "tags": []
          },
          "execution_count": 12
        }
      ]
    },
    {
      "cell_type": "code",
      "metadata": {
        "id": "ODl7j2PFE2RB",
        "colab_type": "code",
        "colab": {}
      },
      "source": [
        "# This program converts seconds to mintues"
      ],
      "execution_count": 0,
      "outputs": []
    },
    {
      "cell_type": "code",
      "metadata": {
        "id": "yPGzWCCfFDKG",
        "colab_type": "code",
        "colab": {
          "base_uri": "https://localhost:8080/",
          "height": 34
        },
        "outputId": "43c03c48-8200-4db1-ff71-d99c3e532b34"
      },
      "source": [
        "import time\n",
        "\n",
        "def converter(seconds):\n",
        "  return seconds / 60\n",
        "\n",
        "converter(60)"
      ],
      "execution_count": 11,
      "outputs": [
        {
          "output_type": "execute_result",
          "data": {
            "text/plain": [
              "1.0"
            ]
          },
          "metadata": {
            "tags": []
          },
          "execution_count": 11
        }
      ]
    }
  ]
}