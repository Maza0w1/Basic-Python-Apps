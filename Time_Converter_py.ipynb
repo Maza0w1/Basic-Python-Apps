{
  "nbformat": 4,
  "nbformat_minor": 0,
  "metadata": {
    "colab": {
      "name": "Time Converter.py",
      "provenance": [],
      "collapsed_sections": [],
      "authorship_tag": "ABX9TyMK5X7JamD5Bn9/eAmCpBF6",
      "include_colab_link": true
    },
    "kernelspec": {
      "name": "python3",
      "display_name": "Python 3"
    }
  },
  "cells": [
    {
      "cell_type": "markdown",
      "metadata": {
        "id": "view-in-github",
        "colab_type": "text"
      },
      "source": [
        "<a href=\"https://colab.research.google.com/github/Yonnihayes/hello-world/blob/master/Time_Converter_py.ipynb\" target=\"_parent\"><img src=\"https://colab.research.google.com/assets/colab-badge.svg\" alt=\"Open In Colab\"/></a>"
      ]
    },
    {
      "cell_type": "code",
      "metadata": {
        "id": "up2fRQ_vRwFC",
        "colab_type": "code",
        "colab": {}
      },
      "source": [
        "# This program converts a time value into another time value e.g. hours into mintues. "
      ],
      "execution_count": 0,
      "outputs": []
    },
    {
      "cell_type": "code",
      "metadata": {
        "id": "_k48NAUZAAQu",
        "colab_type": "code",
        "colab": {}
      },
      "source": [
        "# Converts minutes into seconds."
      ],
      "execution_count": 0,
      "outputs": []
    },
    {
      "cell_type": "code",
      "metadata": {
        "id": "ZhbuQNN6ATPZ",
        "colab_type": "code",
        "colab": {
          "base_uri": "https://localhost:8080/",
          "height": 34
        },
        "outputId": "13308ead-6894-4e49-a477-5c54c72f05b9"
      },
      "source": [
        "def convert_min_to_sec(mintues):\n",
        "  return mintues * 60\n",
        "\n",
        "convert_min_to_sec(1)"
      ],
      "execution_count": 40,
      "outputs": [
        {
          "output_type": "execute_result",
          "data": {
            "text/plain": [
              "60"
            ]
          },
          "metadata": {
            "tags": []
          },
          "execution_count": 40
        }
      ]
    },
    {
      "cell_type": "code",
      "metadata": {
        "id": "ODl7j2PFE2RB",
        "colab_type": "code",
        "colab": {}
      },
      "source": [
        "# Converts seconds into mintues"
      ],
      "execution_count": 0,
      "outputs": []
    },
    {
      "cell_type": "code",
      "metadata": {
        "id": "yPGzWCCfFDKG",
        "colab_type": "code",
        "colab": {
          "base_uri": "https://localhost:8080/",
          "height": 34
        },
        "outputId": "41142b40-2713-4234-9a80-791c1da0aa85"
      },
      "source": [
        "def convert_sec_to_min(seconds):\n",
        "  return seconds / 60\n",
        "\n",
        "convert_sec_to_min(60)"
      ],
      "execution_count": 41,
      "outputs": [
        {
          "output_type": "execute_result",
          "data": {
            "text/plain": [
              "1.0"
            ]
          },
          "metadata": {
            "tags": []
          },
          "execution_count": 41
        }
      ]
    },
    {
      "cell_type": "code",
      "metadata": {
        "id": "xQ3wuvVkNmd3",
        "colab_type": "code",
        "colab": {}
      },
      "source": [
        "# Converts mintues into hours"
      ],
      "execution_count": 0,
      "outputs": []
    },
    {
      "cell_type": "code",
      "metadata": {
        "id": "P_U5Z3p_NveP",
        "colab_type": "code",
        "colab": {
          "base_uri": "https://localhost:8080/",
          "height": 34
        },
        "outputId": "324ade22-fd76-4ff5-c8a3-6a873211c7e2"
      },
      "source": [
        "def convert_min_to_hr(mintues):\n",
        "  return mintues / 60\n",
        "\n",
        "convert_min_to_hr(60)"
      ],
      "execution_count": 39,
      "outputs": [
        {
          "output_type": "execute_result",
          "data": {
            "text/plain": [
              "1.0"
            ]
          },
          "metadata": {
            "tags": []
          },
          "execution_count": 39
        }
      ]
    },
    {
      "cell_type": "code",
      "metadata": {
        "id": "k0_lzOHSN9rp",
        "colab_type": "code",
        "colab": {}
      },
      "source": [
        "# Converts hours to seconds"
      ],
      "execution_count": 0,
      "outputs": []
    },
    {
      "cell_type": "code",
      "metadata": {
        "id": "nGnv2LliOHCC",
        "colab_type": "code",
        "colab": {
          "base_uri": "https://localhost:8080/",
          "height": 34
        },
        "outputId": "4822cd6a-989b-4dd2-93ae-2f8c702fd530"
      },
      "source": [
        "def convert_hr_to_sec(hr):\n",
        "  return hr * 60**2\n",
        "\n",
        "convert_hr_to_sec(1)"
      ],
      "execution_count": 42,
      "outputs": [
        {
          "output_type": "execute_result",
          "data": {
            "text/plain": [
              "3600"
            ]
          },
          "metadata": {
            "tags": []
          },
          "execution_count": 42
        }
      ]
    },
    {
      "cell_type": "code",
      "metadata": {
        "id": "HuVdnSpmNvjo",
        "colab_type": "code",
        "colab": {}
      },
      "source": [
        "# Converts hours to mintues"
      ],
      "execution_count": 0,
      "outputs": []
    },
    {
      "cell_type": "code",
      "metadata": {
        "id": "tnY9hjdYOHrC",
        "colab_type": "code",
        "colab": {
          "base_uri": "https://localhost:8080/",
          "height": 34
        },
        "outputId": "514bc5c3-bec8-4fcb-d9b2-c24b56622a4d"
      },
      "source": [
        "def convert_hr_to_min(hr):\n",
        "  return hr * 60\n",
        "\n",
        "convert_hr_to_min(2)"
      ],
      "execution_count": 43,
      "outputs": [
        {
          "output_type": "execute_result",
          "data": {
            "text/plain": [
              "120"
            ]
          },
          "metadata": {
            "tags": []
          },
          "execution_count": 43
        }
      ]
    },
    {
      "cell_type": "code",
      "metadata": {
        "id": "Bj5IA74yOADW",
        "colab_type": "code",
        "colab": {}
      },
      "source": [
        "# Converts seconds to hours "
      ],
      "execution_count": 0,
      "outputs": []
    },
    {
      "cell_type": "code",
      "metadata": {
        "id": "Zh2qqxvlOIbU",
        "colab_type": "code",
        "colab": {
          "base_uri": "https://localhost:8080/",
          "height": 34
        },
        "outputId": "fa904d55-d8f4-4a46-d5e8-630220583d14"
      },
      "source": [
        "def convert_sec_to_hr(sec):\n",
        "  return sec / 60**2\n",
        "\n",
        "convert_sec_to_hr(3600)"
      ],
      "execution_count": 44,
      "outputs": [
        {
          "output_type": "execute_result",
          "data": {
            "text/plain": [
              "1.0"
            ]
          },
          "metadata": {
            "tags": []
          },
          "execution_count": 44
        }
      ]
    }
  ]
}