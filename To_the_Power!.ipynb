{
  "nbformat": 4,
  "nbformat_minor": 0,
  "metadata": {
    "colab": {
      "name": "To the Power!",
      "provenance": [],
      "collapsed_sections": [],
      "authorship_tag": "ABX9TyPhwp1jGuAakEzMC9dc0lXc",
      "include_colab_link": true
    },
    "kernelspec": {
      "name": "python3",
      "display_name": "Python 3"
    }
  },
  "cells": [
    {
      "cell_type": "markdown",
      "metadata": {
        "id": "view-in-github",
        "colab_type": "text"
      },
      "source": [
        "<a href=\"https://colab.research.google.com/github/Yonnihayes/hello-world/blob/master/To_the_Power!.ipynb\" target=\"_parent\"><img src=\"https://colab.research.google.com/assets/colab-badge.svg\" alt=\"Open In Colab\"/></a>"
      ]
    },
    {
      "cell_type": "code",
      "metadata": {
        "id": "pOiHOqOQHaFb",
        "colab_type": "code",
        "colab": {}
      },
      "source": [
        "# This program takes a base number and an exponent number and returns the calculation. "
      ],
      "execution_count": 0,
      "outputs": []
    },
    {
      "cell_type": "code",
      "metadata": {
        "id": "lhI_HKvcHkck",
        "colab_type": "code",
        "colab": {}
      },
      "source": [
        "def calculate_exponent(num, exp):\n",
        "   return num ** exp\n",
        "calculate_exponent(2, 2)"
      ],
      "execution_count": 0,
      "outputs": []
    }
  ]
}