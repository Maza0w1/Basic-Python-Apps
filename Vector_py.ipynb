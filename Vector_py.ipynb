{
  "nbformat": 4,
  "nbformat_minor": 0,
  "metadata": {
    "colab": {
      "name": "Vector.py",
      "provenance": [],
      "collapsed_sections": [],
      "authorship_tag": "ABX9TyMQXkLN+EtV1bwbplw6pu05",
      "include_colab_link": true
    },
    "kernelspec": {
      "name": "python3",
      "display_name": "Python 3"
    }
  },
  "cells": [
    {
      "cell_type": "markdown",
      "metadata": {
        "id": "view-in-github",
        "colab_type": "text"
      },
      "source": [
        "<a href=\"https://colab.research.google.com/github/Yonnihayes/Python-Programming-Projects/blob/master/Vector_py.ipynb\" target=\"_parent\"><img src=\"https://colab.research.google.com/assets/colab-badge.svg\" alt=\"Open In Colab\"/></a>"
      ]
    },
    {
      "cell_type": "code",
      "metadata": {
        "id": "uT9X887fAO_L",
        "colab_type": "code",
        "colab": {}
      },
      "source": [
        "class Vector:\n",
        "  '''Represent a vector in a multidimensional space.'''\n",
        "\n",
        "  def __init__(self, d):\n",
        "    '''Create d-dimensional vector of zeros.'''\n",
        "    self._coords = [0] * d\n",
        "\n",
        "  def __len__(self):\n",
        "    '''Return the dimension of the vector.'''\n",
        "    return len(self._coords)\n",
        "\n",
        "  def __getitem__(self, j):\n",
        "    '''Return jth coordinate of vector.'''\n",
        "    return self._coords[j]\n",
        "\n",
        "  def __setitem__(self, j, val):\n",
        "    '''Set jth coordinate of vector to given value.'''\n",
        "    self.__coords[j] = val\n",
        "\n",
        "  def __add__(self, other):     # relies on len method\n",
        "    '''Return sum of two vectors.'''\n",
        "    if len(self) != len(other):\n",
        "      raise ValueError('dimensions must agree.')\n",
        "    result = Vector(len(self))      # start with vector of zeros\n",
        "    for j in range(len(self)):\n",
        "      result[j] = self[j] + other[j]\n",
        "    return result\n",
        "\n",
        "  def __eg__(self, other):\n",
        "    '''Return True if vector has same coordinates as other.'''\n",
        "    return self._coords == other._coords\n",
        "\n",
        "  def __ne__(self, other):      # rely on existing __eq__ definition\n",
        "    '''Return True if vector differs from other.'''\n",
        "    return not self == other \n",
        "\n",
        "  def __str__(self):\n",
        "    '''Produce string representation of vector.'''\n",
        "    return '<' + str(self._coords)[1:-1] + '>'    #adapt list representation\n"
      ],
      "execution_count": 2,
      "outputs": []
    }
  ]
}