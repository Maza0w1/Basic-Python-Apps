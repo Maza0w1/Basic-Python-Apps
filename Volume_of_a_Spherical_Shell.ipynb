{
  "nbformat": 4,
  "nbformat_minor": 0,
  "metadata": {
    "colab": {
      "name": "Volume of a Spherical Shell",
      "provenance": [],
      "collapsed_sections": [],
      "authorship_tag": "ABX9TyMHYr0Xz5LgkmYCZvGl6GdZ",
      "include_colab_link": true
    },
    "kernelspec": {
      "name": "python3",
      "display_name": "Python 3"
    }
  },
  "cells": [
    {
      "cell_type": "markdown",
      "metadata": {
        "id": "view-in-github",
        "colab_type": "text"
      },
      "source": [
        "<a href=\"https://colab.research.google.com/github/Yonnihayes/hello-world/blob/master/Volume_of_a_Spherical_Shell.ipynb\" target=\"_parent\"><img src=\"https://colab.research.google.com/assets/colab-badge.svg\" alt=\"Open In Colab\"/></a>"
      ]
    },
    {
      "cell_type": "code",
      "metadata": {
        "id": "1TjfIS1230U5",
        "colab_type": "code",
        "colab": {}
      },
      "source": [
        "# This program calculates the volume of a spherical shell"
      ],
      "execution_count": 0,
      "outputs": []
    },
    {
      "cell_type": "code",
      "metadata": {
        "id": "KAtjbAYe4Jl7",
        "colab_type": "code",
        "outputId": "53c467e2-f441-49b5-bd9d-2b010c6f0077",
        "colab": {
          "base_uri": "https://localhost:8080/",
          "height": 34
        }
      },
      "source": [
        "from math import pi\n",
        "\n",
        "def vol_shell(r1, r2):\n",
        "    v = 4/3*pi*(r1**3 - r2**3)\n",
        "    return round(abs(v), 3)\n",
        "\n",
        "vol_shell(5, 3)"
      ],
      "execution_count": 2,
      "outputs": [
        {
          "output_type": "execute_result",
          "data": {
            "text/plain": [
              "410.501"
            ]
          },
          "metadata": {
            "tags": []
          },
          "execution_count": 2
        }
      ]
    }
  ]
}