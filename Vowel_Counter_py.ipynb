{
  "nbformat": 4,
  "nbformat_minor": 0,
  "metadata": {
    "colab": {
      "name": "Vowel Counter.py",
      "provenance": [],
      "collapsed_sections": [],
      "authorship_tag": "ABX9TyNbjGe8zoGJeR5joJM9ehIv",
      "include_colab_link": true
    },
    "kernelspec": {
      "name": "python3",
      "display_name": "Python 3"
    }
  },
  "cells": [
    {
      "cell_type": "markdown",
      "metadata": {
        "id": "view-in-github",
        "colab_type": "text"
      },
      "source": [
        "<a href=\"https://colab.research.google.com/github/Yonnihayes/hello-world/blob/master/Vowel_Counter_py.ipynb\" target=\"_parent\"><img src=\"https://colab.research.google.com/assets/colab-badge.svg\" alt=\"Open In Colab\"/></a>"
      ]
    },
    {
      "cell_type": "code",
      "metadata": {
        "id": "vVVNIx96Tg4W",
        "colab_type": "code",
        "colab": {}
      },
      "source": [
        "# This program counts how many vowels are in a sentence."
      ],
      "execution_count": 0,
      "outputs": []
    },
    {
      "cell_type": "code",
      "metadata": {
        "id": "ExsQCkV5T_b5",
        "colab_type": "code",
        "colab": {
          "base_uri": "https://localhost:8080/",
          "height": 34
        },
        "outputId": "a1bb0224-3303-40af-b3a9-13b8e1d098e2"
      },
      "source": [
        "import re\n",
        "\n",
        "def count_vowels(txt):\n",
        "  vowels = ('aeiou')\n",
        "  vowels = re.findall('[aeiou]', txt, re.IGNORECASE)\n",
        "  return len(vowels)\n",
        "\n",
        "count_vowels('Vowels are pretty much everywhere')"
      ],
      "execution_count": 19,
      "outputs": [
        {
          "output_type": "execute_result",
          "data": {
            "text/plain": [
              "10"
            ]
          },
          "metadata": {
            "tags": []
          },
          "execution_count": 19
        }
      ]
    }
  ]
}