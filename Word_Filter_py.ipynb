{
  "nbformat": 4,
  "nbformat_minor": 0,
  "metadata": {
    "colab": {
      "name": "Word Filter.py",
      "provenance": [],
      "collapsed_sections": [],
      "authorship_tag": "ABX9TyO3y3VQL+ZyXuCcKKtPKrNg",
      "include_colab_link": true
    },
    "kernelspec": {
      "name": "python3",
      "display_name": "Python 3"
    }
  },
  "cells": [
    {
      "cell_type": "markdown",
      "metadata": {
        "id": "view-in-github",
        "colab_type": "text"
      },
      "source": [
        "<a href=\"https://colab.research.google.com/github/Yonnihayes/hello-world/blob/master/Word_Filter_py.ipynb\" target=\"_parent\"><img src=\"https://colab.research.google.com/assets/colab-badge.svg\" alt=\"Open In Colab\"/></a>"
      ]
    },
    {
      "cell_type": "code",
      "metadata": {
        "id": "b2GsmAONzPq1",
        "colab_type": "code",
        "colab": {}
      },
      "source": [
        "# This program filters out words which starts with a target letter from text."
      ],
      "execution_count": 0,
      "outputs": []
    },
    {
      "cell_type": "code",
      "metadata": {
        "id": "xd6LH9ACzYFA",
        "colab_type": "code",
        "colab": {
          "base_uri": "https://localhost:8080/",
          "height": 34
        },
        "outputId": "9f62ae41-5a23-416d-8f9f-cf3ea005c126"
      },
      "source": [
        "def filter_words(word_list, letter):\n",
        "  return list(filter(lambda word:word[0] == letter, word_list))\n",
        "\n",
        "# Enter text here like so:\n",
        "words = ['My', 'cat', 'loves', 'cat', 'nip']\n",
        "\n",
        "filter_words(words,'c')"
      ],
      "execution_count": 2,
      "outputs": [
        {
          "output_type": "execute_result",
          "data": {
            "text/plain": [
              "['cat', 'cat']"
            ]
          },
          "metadata": {
            "tags": []
          },
          "execution_count": 2
        }
      ]
    }
  ]
}