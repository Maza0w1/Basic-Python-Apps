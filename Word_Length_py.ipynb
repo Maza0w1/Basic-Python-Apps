{
  "nbformat": 4,
  "nbformat_minor": 0,
  "metadata": {
    "colab": {
      "name": "Word Length.py",
      "provenance": [],
      "collapsed_sections": [],
      "authorship_tag": "ABX9TyN4CGq4TndMkDygr4DU6hyU",
      "include_colab_link": true
    },
    "kernelspec": {
      "name": "python3",
      "display_name": "Python 3"
    }
  },
  "cells": [
    {
      "cell_type": "markdown",
      "metadata": {
        "id": "view-in-github",
        "colab_type": "text"
      },
      "source": [
        "<a href=\"https://colab.research.google.com/github/Yonnihayes/hello-world/blob/master/Word_Length_py.ipynb\" target=\"_parent\"><img src=\"https://colab.research.google.com/assets/colab-badge.svg\" alt=\"Open In Colab\"/></a>"
      ]
    },
    {
      "cell_type": "code",
      "metadata": {
        "id": "4pJTo4fh1bQh",
        "colab_type": "code",
        "colab": {}
      },
      "source": [
        "# This program calculates the length of each word in a given phrase."
      ],
      "execution_count": 0,
      "outputs": []
    },
    {
      "cell_type": "code",
      "metadata": {
        "id": "cn8_mALg2JBX",
        "colab_type": "code",
        "outputId": "dfa93eb8-9d57-40ea-cdb5-0f256a83dc3b",
        "colab": {
          "base_uri": "https://localhost:8080/",
          "height": 34
        }
      },
      "source": [
        "def word_length(phrase):\n",
        "  return list(map(len, phrase.split()))\n",
        "\n",
        "# Enter phrase after the = in the parentheses below. \n",
        "\n",
        "word_length(phrase='Bonjour! Como ca va?')"
      ],
      "execution_count": 29,
      "outputs": [
        {
          "output_type": "execute_result",
          "data": {
            "text/plain": [
              "[8, 4, 2, 3]"
            ]
          },
          "metadata": {
            "tags": []
          },
          "execution_count": 29
        }
      ]
    }
  ]
}