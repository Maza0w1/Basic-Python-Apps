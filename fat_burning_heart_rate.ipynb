{
  "nbformat": 4,
  "nbformat_minor": 0,
  "metadata": {
    "colab": {
      "name": "fat-burning heart rate",
      "provenance": [],
      "collapsed_sections": [],
      "authorship_tag": "ABX9TyMNk93qkbFZ9z3PPZRv8HBX",
      "include_colab_link": true
    },
    "kernelspec": {
      "name": "python3",
      "display_name": "Python 3"
    }
  },
  "cells": [
    {
      "cell_type": "markdown",
      "metadata": {
        "id": "view-in-github",
        "colab_type": "text"
      },
      "source": [
        "<a href=\"https://colab.research.google.com/github/Yonnihayes/Python-Programming-Projects/blob/master/fat_burning_heart_rate.ipynb\" target=\"_parent\"><img src=\"https://colab.research.google.com/assets/colab-badge.svg\" alt=\"Open In Colab\"/></a>"
      ]
    },
    {
      "cell_type": "code",
      "metadata": {
        "id": "Vnlz0v90adba",
        "colab_type": "code",
        "colab": {}
      },
      "source": [
        "# This program determines your target fat-burning heart rate"
      ],
      "execution_count": null,
      "outputs": []
    },
    {
      "cell_type": "code",
      "metadata": {
        "id": "Uhv30-0taeO9",
        "colab_type": "code",
        "colab": {}
      },
      "source": [
        "age = int(input('Enter your age in years: '))\n",
        "max_heart_rate = 206.9  \n",
        "max_heart_rate1 = max_heart_rate - 0.67 * age\n",
        "target = 0.65 * max_heart_rate1     # as per Med Sci Sports Exerc.\n",
        "print('Your target fat-burning heart rate is ', target)"
      ],
      "execution_count": null,
      "outputs": []
    }
  ]
}